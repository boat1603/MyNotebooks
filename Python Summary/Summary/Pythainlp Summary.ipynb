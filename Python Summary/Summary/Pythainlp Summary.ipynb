{
 "cells": [
  {
   "cell_type": "markdown",
   "metadata": {},
   "source": [
    "# Pythainlp\n",
    "##### Reference: https://thainlp.org/pythainlp/docs/2.0/index.html"
   ]
  },
  {
   "cell_type": "markdown",
   "metadata": {},
   "source": [
    "### pythainlp.spell"
   ]
  },
  {
   "cell_type": "code",
   "execution_count": 1,
   "metadata": {},
   "outputs": [],
   "source": [
    "from pythainlp.spell import correct"
   ]
  },
  {
   "cell_type": "code",
   "execution_count": 2,
   "metadata": {},
   "outputs": [
    {
     "data": {
      "text/plain": [
       "['เส้นตรง', 'ครับ', 'สังเกต', 'กะปิ', 'เหตุการณ์', 'กะเพรา', 'ปัญหา']"
      ]
     },
     "execution_count": 2,
     "metadata": {},
     "output_type": "execute_result"
    }
   ],
   "source": [
    "word=[\"เส้นตรบ\",\"ครัช\",\"สังเกตุ\",\"กระปิ\",\"เหตการณ\",\"กระเพรา\",\"ปันหา\"]\n",
    "[correct(i) for i in word]"
   ]
  },
  {
   "cell_type": "code",
   "execution_count": 3,
   "metadata": {},
   "outputs": [],
   "source": [
    "from pythainlp.spell import NorvigSpellChecker"
   ]
  },
  {
   "cell_type": "code",
   "execution_count": 4,
   "metadata": {},
   "outputs": [
    {
     "name": "stdout",
     "output_type": "stream",
     "text": [
      "['เส้นตรง']\n",
      "['ครับ', 'ครัว', 'รัช', 'ครัม', 'ครัน', 'วรัช', 'ครัส', 'ปรัช', 'ครัง', 'บรัช', 'คัช', 'คลัช', 'ครัย', 'ครัด']\n",
      "['สังเกต']\n",
      "['กะปิ', 'กระบิ']\n",
      "['เหตุการณ์']\n",
      "['กะเพรา']\n",
      "['ปัญหา']\n"
     ]
    }
   ],
   "source": [
    "_spell_checker = NorvigSpellChecker()\n",
    "word=[\"เส้นตรบ\",\"ครัช\",\"สังเกตุ\",\"กระปิ\",\"เหตการณ\",\"กระเพรา\",\"ปันหา\"]\n",
    "\n",
    "x=[print(_spell_checker.spell(i)) for i in word]"
   ]
  },
  {
   "cell_type": "markdown",
   "metadata": {},
   "source": [
    "### pythainlp.tag \n",
    "##### Read More: https://thainlp.org/pythainlp/docs/2.0/api/tag.html"
   ]
  },
  {
   "cell_type": "code",
   "execution_count": 5,
   "metadata": {},
   "outputs": [],
   "source": [
    "from pythainlp.tag import pos_tag"
   ]
  },
  {
   "cell_type": "code",
   "execution_count": 6,
   "metadata": {},
   "outputs": [
    {
     "data": {
      "text/plain": [
       "[('ฉัน', 'PRON'),\n",
       " ('มี', 'VERB'),\n",
       " ('ชีวิต', 'NOUN'),\n",
       " ('รอด', 'VERB'),\n",
       " ('ใน', 'ADP'),\n",
       " ('อาคาร', 'NOUN'),\n",
       " ('หลบภัย', 'NOUN'),\n",
       " ('ของ', 'ADP'),\n",
       " ('นายก', 'NOUN'),\n",
       " ('เชอร์ชิล', 'PROPN')]"
      ]
     },
     "execution_count": 6,
     "metadata": {},
     "output_type": "execute_result"
    }
   ],
   "source": [
    "words = ['ฉัน','มี','ชีวิต','รอด','ใน','อาคาร','หลบภัย','ของ','นายก', 'เชอร์ชิล']\n",
    "pos_tag(words, corpus='pud')"
   ]
  },
  {
   "cell_type": "code",
   "execution_count": 7,
   "metadata": {},
   "outputs": [],
   "source": [
    "from pythainlp.tag import tag_provinces"
   ]
  },
  {
   "cell_type": "code",
   "execution_count": 8,
   "metadata": {},
   "outputs": [
    {
     "data": {
      "text/plain": [
       "[('อำเภอ', 'O'),\n",
       " ('ฝาง', 'O'),\n",
       " ('เป็น', 'O'),\n",
       " ('ส่วน', 'O'),\n",
       " ('หนึ่ง', 'O'),\n",
       " ('ของ', 'O'),\n",
       " ('จังหวัด', 'O'),\n",
       " ('เชียงใหม่', 'B-LOCATION')]"
      ]
     },
     "execution_count": 8,
     "metadata": {},
     "output_type": "execute_result"
    }
   ],
   "source": [
    "text = ['อำเภอ', 'ฝาง','เป็น','ส่วน','หนึ่ง','ของ', 'จังหวัด','เชียงใหม่']\n",
    "tag_provinces(text)"
   ]
  },
  {
   "cell_type": "code",
   "execution_count": 9,
   "metadata": {},
   "outputs": [],
   "source": [
    "#!pip install sklearn_crfsuite\n",
    "from pythainlp.tag.named_entity import ThaiNameTagger"
   ]
  },
  {
   "cell_type": "code",
   "execution_count": 10,
   "metadata": {},
   "outputs": [
    {
     "data": {
      "text/plain": [
       "[('วันที่', 'NOUN', 'O'),\n",
       " (' ', 'PUNCT', 'O'),\n",
       " ('15', 'NUM', 'B-DATE'),\n",
       " (' ', 'PUNCT', 'I-DATE'),\n",
       " ('ก.ย.', 'NOUN', 'I-DATE'),\n",
       " (' ', 'PUNCT', 'I-DATE'),\n",
       " ('61', 'NUM', 'I-DATE'),\n",
       " (' ', 'PUNCT', 'O'),\n",
       " ('ทดสอบ', 'VERB', 'O'),\n",
       " ('ระบบ', 'NOUN', 'O'),\n",
       " ('เวลา', 'NOUN', 'O'),\n",
       " (' ', 'PUNCT', 'O'),\n",
       " ('14', 'NOUN', 'B-TIME'),\n",
       " (':', 'PUNCT', 'I-TIME'),\n",
       " ('49', 'NUM', 'I-TIME'),\n",
       " (' ', 'PUNCT', 'I-TIME'),\n",
       " ('น.', 'NOUN', 'I-TIME')]"
      ]
     },
     "execution_count": 10,
     "metadata": {},
     "output_type": "execute_result"
    }
   ],
   "source": [
    "ner = ThaiNameTagger()\n",
    "ner.get_ner(\"วันที่ 15 ก.ย. 61 ทดสอบระบบเวลา 14:49 น.\")"
   ]
  },
  {
   "cell_type": "markdown",
   "metadata": {},
   "source": [
    "### pythainlp.tokenize "
   ]
  },
  {
   "cell_type": "code",
   "execution_count": 11,
   "metadata": {},
   "outputs": [],
   "source": [
    "from pythainlp.tokenize import word_tokenize"
   ]
  },
  {
   "cell_type": "code",
   "execution_count": 12,
   "metadata": {},
   "outputs": [
    {
     "data": {
      "text/plain": [
       "['โอเค', 'บ่', 'พวกเรา', 'รัก', 'ภาษา', 'บ้านเกิด']"
      ]
     },
     "execution_count": 12,
     "metadata": {},
     "output_type": "execute_result"
    }
   ],
   "source": [
    "text = \"โอเคบ่พวกเรารักภาษาบ้านเกิด\"\n",
    "word_tokenize(text, engine=\"newmm\",keep_whitespace=False)\n",
    "#keep_whitespace=False ไม่มี \" \""
   ]
  },
  {
   "cell_type": "code",
   "execution_count": 13,
   "metadata": {},
   "outputs": [
    {
     "data": {
      "text/plain": [
       "['โอเค', 'บ่', 'พวกเรา', 'รัก', 'ภาษา', 'บ้านเกิด']"
      ]
     },
     "execution_count": 13,
     "metadata": {},
     "output_type": "execute_result"
    }
   ],
   "source": [
    "word_tokenize(text, engine=\"longest\")"
   ]
  },
  {
   "cell_type": "code",
   "execution_count": 14,
   "metadata": {},
   "outputs": [
    {
     "data": {
      "text/plain": [
       "['โอเค', 'บ่', 'พวกเรา', 'รัก', 'ภาษา', 'บ้านเกิด']"
      ]
     },
     "execution_count": 14,
     "metadata": {},
     "output_type": "execute_result"
    }
   ],
   "source": [
    "word_tokenize(text, engine=\"ulmfit\")"
   ]
  },
  {
   "cell_type": "code",
   "execution_count": 15,
   "metadata": {},
   "outputs": [
    {
     "data": {
      "text/plain": [
       "['ชินโซ', ' ', 'อาเบะ', ' ', 'เกิด', ' ', '21', ' ', 'กันยายน']"
      ]
     },
     "execution_count": 15,
     "metadata": {},
     "output_type": "execute_result"
    }
   ],
   "source": [
    "#ใส่ชื่อเป็น group\n",
    "from pythainlp.corpus.common import thai_words\n",
    "from pythainlp.tokenize import dict_trie, word_tokenize\n",
    "text = 'ชินโซ อาเบะ เกิด 21 กันยายน'\n",
    "custom_dict_japanese_name = set(thai_words())\n",
    "custom_dict_japanese_name.add('ชินโซ')\n",
    "custom_dict_japanese_name.add('อาเบะ')\n",
    "trie = dict_trie(dict_source=custom_dict_japanese_name)\n",
    "word_tokenize(text, engine=\"newmm\", custom_dict=trie)"
   ]
  },
  {
   "cell_type": "markdown",
   "metadata": {},
   "source": [
    "### pythainlp.util "
   ]
  },
  {
   "cell_type": "code",
   "execution_count": 16,
   "metadata": {},
   "outputs": [],
   "source": [
    "from pythainlp.util import normalize"
   ]
  },
  {
   "cell_type": "code",
   "execution_count": 17,
   "metadata": {},
   "outputs": [
    {
     "data": {
      "text/plain": [
       "'สระน้ำ'"
      ]
     },
     "execution_count": 17,
     "metadata": {},
     "output_type": "execute_result"
    }
   ],
   "source": [
    "normalize('สระะน้ำ')"
   ]
  },
  {
   "cell_type": "code",
   "execution_count": 18,
   "metadata": {},
   "outputs": [
    {
     "data": {
      "text/plain": [
       "'นานา'"
      ]
     },
     "execution_count": 18,
     "metadata": {},
     "output_type": "execute_result"
    }
   ],
   "source": [
    "normalize('นานาาา')"
   ]
  },
  {
   "cell_type": "code",
   "execution_count": 19,
   "metadata": {},
   "outputs": [],
   "source": [
    "from pythainlp.util import text_to_arabic_digit"
   ]
  },
  {
   "cell_type": "code",
   "execution_count": 20,
   "metadata": {},
   "outputs": [
    {
     "data": {
      "text/plain": [
       "'0'"
      ]
     },
     "execution_count": 20,
     "metadata": {},
     "output_type": "execute_result"
    }
   ],
   "source": [
    "text_to_arabic_digit(\"ศูนย์\")"
   ]
  },
  {
   "cell_type": "code",
   "execution_count": 21,
   "metadata": {},
   "outputs": [
    {
     "name": "stdout",
     "output_type": "stream",
     "text": [
      "2019-06-10 15:59:00\n"
     ]
    }
   ],
   "source": [
    "import datetime\n",
    "from pythainlp.util import thai_strftime\n",
    "datetime_object = datetime.datetime(year=2019, month=6, day=10,hour=15, minute=59, second=0, microsecond=0)\n",
    "print(datetime_object)"
   ]
  },
  {
   "cell_type": "code",
   "execution_count": 22,
   "metadata": {},
   "outputs": [
    {
     "name": "stdout",
     "output_type": "stream",
     "text": [
      "วันจันทร์ 10 มิถุนายน 2562 \n"
     ]
    }
   ],
   "source": [
    "print(thai_strftime(datetime_object, \"%A %d %B %Y \"))"
   ]
  },
  {
   "cell_type": "code",
   "execution_count": 23,
   "metadata": {},
   "outputs": [
    {
     "name": "stdout",
     "output_type": "stream",
     "text": [
      "จ 10 มิ.ย. 62 \n"
     ]
    }
   ],
   "source": [
    "print(thai_strftime(datetime_object, \"%a %d %b %y \"))"
   ]
  },
  {
   "cell_type": "code",
   "execution_count": 24,
   "metadata": {},
   "outputs": [
    {
     "name": "stdout",
     "output_type": "stream",
     "text": [
      "06/10/62 (10-มิ.ย.-2562)\n"
     ]
    }
   ],
   "source": [
    "print(thai_strftime(datetime_object, \"%D (%v)\"))"
   ]
  },
  {
   "cell_type": "code",
   "execution_count": 25,
   "metadata": {},
   "outputs": [
    {
     "name": "stdout",
     "output_type": "stream",
     "text": [
      "06/10/62 (จ  10 มิ.ย. 15:59:00 2562)\n"
     ]
    }
   ],
   "source": [
    "print(thai_strftime(datetime_object, \"%D (%c)\"))"
   ]
  },
  {
   "cell_type": "code",
   "execution_count": 26,
   "metadata": {},
   "outputs": [],
   "source": [
    "from pythainlp.util import thaiword_to_num"
   ]
  },
  {
   "cell_type": "code",
   "execution_count": 27,
   "metadata": {},
   "outputs": [
    {
     "data": {
      "text/plain": [
       "2300612"
      ]
     },
     "execution_count": 27,
     "metadata": {},
     "output_type": "execute_result"
    }
   ],
   "source": [
    "thaiword_to_num(\"สองล้านสามแสนหกร้อยสิบสอง\")"
   ]
  },
  {
   "cell_type": "markdown",
   "metadata": {},
   "source": [
    "### pythainlp.word_vector "
   ]
  },
  {
   "cell_type": "code",
   "execution_count": 28,
   "metadata": {},
   "outputs": [],
   "source": [
    "#!pip install gensim\n",
    "from pythainlp.word_vector import most_similar_cosmul\n",
    "#Only Vocab"
   ]
  },
  {
   "cell_type": "code",
   "execution_count": 29,
   "metadata": {},
   "outputs": [
    {
     "data": {
      "text/plain": [
       "[('ลำน้ำ', 0.8206598162651062),\n",
       " ('ทะเลสาบ', 0.775945782661438),\n",
       " ('ลุ่มน้ำ', 0.7490593194961548),\n",
       " ('คลอง', 0.7471904754638672),\n",
       " ('ปากแม่น้ำ', 0.7354257106781006),\n",
       " ('ฝั่งแม่น้ำ', 0.7120099067687988),\n",
       " ('ทะเล', 0.7030453681945801),\n",
       " ('ริมแม่น้ำ', 0.7015200257301331),\n",
       " ('แหล่งน้ำ', 0.6997432112693787),\n",
       " ('ภูเขา', 0.6960948705673218)]"
      ]
     },
     "execution_count": 29,
     "metadata": {},
     "output_type": "execute_result"
    }
   ],
   "source": [
    "list_positive = ['แม่น้ำ']\n",
    "list_negative = []\n",
    "most_similar_cosmul(list_positive, list_negative)"
   ]
  },
  {
   "cell_type": "code",
   "execution_count": 30,
   "metadata": {},
   "outputs": [
    {
     "data": {
      "text/plain": [
       "[('ประเทศจีน', 0.22022421658039093),\n",
       " ('เกาหลี', 0.2196873426437378),\n",
       " ('สหรัฐอเมริกา', 0.21660110354423523),\n",
       " ('ประเทศญี่ปุ่น', 0.21205860376358032),\n",
       " ('ประเทศไทย', 0.21159221231937408),\n",
       " ('เกาหลีใต้', 0.20321202278137207),\n",
       " ('อังกฤษ', 0.19610872864723206),\n",
       " ('ฮ่องกง', 0.1928885132074356),\n",
       " ('ฝรั่งเศส', 0.18383873999118805),\n",
       " ('พม่า', 0.18369348347187042)]"
      ]
     },
     "execution_count": 30,
     "metadata": {},
     "output_type": "execute_result"
    }
   ],
   "source": [
    "list_positive = ['ประเทศ', 'ไทย', 'จีน', 'ญี่ปุ่น']\n",
    "list_negative = []\n",
    "most_similar_cosmul(list_positive, list_negative)"
   ]
  },
  {
   "cell_type": "code",
   "execution_count": 31,
   "metadata": {},
   "outputs": [
    {
     "data": {
      "text/plain": [
       "[('ประเทศไทย', 0.3278159201145172),\n",
       " ('เกาหลี', 0.3201899230480194),\n",
       " ('ประเทศจีน', 0.31755179166793823),\n",
       " ('พม่า', 0.30845439434051514),\n",
       " ('ประเทศญี่ปุ่น', 0.306713730096817),\n",
       " ('เกาหลีใต้', 0.3003999888896942),\n",
       " ('ลาว', 0.2995176911354065),\n",
       " ('คนไทย', 0.2885020673274994),\n",
       " ('เวียดนาม', 0.2878379821777344),\n",
       " ('ชาวไทย', 0.28480708599090576)]"
      ]
     },
     "execution_count": 31,
     "metadata": {},
     "output_type": "execute_result"
    }
   ],
   "source": [
    "list_positive = ['ประเทศ', 'ไทย', 'จีน', 'ญี่ปุ่น']\n",
    "list_negative = ['อเมริกา']\n",
    "most_similar_cosmul(list_positive, list_negative)"
   ]
  },
  {
   "cell_type": "code",
   "execution_count": 32,
   "metadata": {},
   "outputs": [],
   "source": [
    "from pythainlp.word_vector import doesnt_match"
   ]
  },
  {
   "cell_type": "code",
   "execution_count": 38,
   "metadata": {},
   "outputs": [
    {
     "data": {
      "text/plain": [
       "'พริกไทย'"
      ]
     },
     "execution_count": 38,
     "metadata": {},
     "output_type": "execute_result"
    }
   ],
   "source": [
    "words = ['อาหารเช้า','อาหารเที่ยง','อาหารเย็น','พริกไทย']\n",
    "doesnt_match(words)"
   ]
  },
  {
   "cell_type": "code",
   "execution_count": 39,
   "metadata": {},
   "outputs": [
    {
     "data": {
      "text/plain": [
       "'เรือ'"
      ]
     },
     "execution_count": 39,
     "metadata": {},
     "output_type": "execute_result"
    }
   ],
   "source": [
    "words = ['ดีไซน์เนอร์', 'พนักงานเงินเดือน', 'หมอ', 'เรือ']\n",
    "doesnt_match(words)"
   ]
  },
  {
   "cell_type": "code",
   "execution_count": 40,
   "metadata": {},
   "outputs": [],
   "source": [
    "from pythainlp.word_vector import similarity"
   ]
  },
  {
   "cell_type": "code",
   "execution_count": 41,
   "metadata": {},
   "outputs": [
    {
     "data": {
      "text/plain": [
       "0.43387136"
      ]
     },
     "execution_count": 41,
     "metadata": {},
     "output_type": "execute_result"
    }
   ],
   "source": [
    "similarity('รถไฟ','รถไฟฟ้า')"
   ]
  },
  {
   "cell_type": "code",
   "execution_count": 42,
   "metadata": {},
   "outputs": [
    {
     "data": {
      "text/plain": [
       "0.04300258"
      ]
     },
     "execution_count": 42,
     "metadata": {},
     "output_type": "execute_result"
    }
   ],
   "source": [
    "similarity('เสือดาว','รถไฟฟ้า')"
   ]
  }
 ],
 "metadata": {
  "kernelspec": {
   "display_name": "Python 3",
   "language": "python",
   "name": "python3"
  },
  "language_info": {
   "codemirror_mode": {
    "name": "ipython",
    "version": 3
   },
   "file_extension": ".py",
   "mimetype": "text/x-python",
   "name": "python",
   "nbconvert_exporter": "python",
   "pygments_lexer": "ipython3",
   "version": "3.7.7"
  }
 },
 "nbformat": 4,
 "nbformat_minor": 4
}
