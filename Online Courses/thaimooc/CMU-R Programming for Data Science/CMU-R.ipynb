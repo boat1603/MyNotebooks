{
 "cells": [
  {
   "cell_type": "markdown",
   "metadata": {},
   "source": [
    "# CH1:Basic R"
   ]
  },
  {
   "cell_type": "markdown",
   "metadata": {},
   "source": [
    "### Basic "
   ]
  },
  {
   "cell_type": "code",
   "execution_count": 3,
   "metadata": {},
   "outputs": [],
   "source": [
    "x=5"
   ]
  },
  {
   "cell_type": "code",
   "execution_count": 4,
   "metadata": {},
   "outputs": [],
   "source": [
    "x<-5"
   ]
  },
  {
   "cell_type": "code",
   "execution_count": 5,
   "metadata": {},
   "outputs": [
    {
     "data": {
      "text/html": [
       "5"
      ],
      "text/latex": [
       "5"
      ],
      "text/markdown": [
       "5"
      ],
      "text/plain": [
       "[1] 5"
      ]
     },
     "metadata": {},
     "output_type": "display_data"
    }
   ],
   "source": [
    "x"
   ]
  },
  {
   "cell_type": "code",
   "execution_count": 6,
   "metadata": {},
   "outputs": [
    {
     "data": {
      "text/html": [
       "1.6094379124341"
      ],
      "text/latex": [
       "1.6094379124341"
      ],
      "text/markdown": [
       "1.6094379124341"
      ],
      "text/plain": [
       "[1] 1.609438"
      ]
     },
     "metadata": {},
     "output_type": "display_data"
    }
   ],
   "source": [
    "log(x)"
   ]
  },
  {
   "cell_type": "code",
   "execution_count": 7,
   "metadata": {},
   "outputs": [],
   "source": [
    "weight=c(67,71,58,78,63)\n",
    "height=c(170,168,166,173,167)\n",
    "sex=c(\"M\",\"M\",\"F\",\"M\",\"F\")"
   ]
  },
  {
   "cell_type": "code",
   "execution_count": 8,
   "metadata": {},
   "outputs": [
    {
     "data": {
      "text/html": [
       "<table>\n",
       "<thead><tr><th scope=col>weight</th><th scope=col>height</th><th scope=col>sex</th></tr></thead>\n",
       "<tbody>\n",
       "\t<tr><td>67 </td><td>170</td><td>M  </td></tr>\n",
       "\t<tr><td>71 </td><td>168</td><td>M  </td></tr>\n",
       "\t<tr><td>58 </td><td>166</td><td>F  </td></tr>\n",
       "\t<tr><td>78 </td><td>173</td><td>M  </td></tr>\n",
       "\t<tr><td>63 </td><td>167</td><td>F  </td></tr>\n",
       "</tbody>\n",
       "</table>\n"
      ],
      "text/latex": [
       "\\begin{tabular}{r|lll}\n",
       " weight & height & sex\\\\\n",
       "\\hline\n",
       "\t 67  & 170 & M  \\\\\n",
       "\t 71  & 168 & M  \\\\\n",
       "\t 58  & 166 & F  \\\\\n",
       "\t 78  & 173 & M  \\\\\n",
       "\t 63  & 167 & F  \\\\\n",
       "\\end{tabular}\n"
      ],
      "text/markdown": [
       "\n",
       "| weight | height | sex |\n",
       "|---|---|---|\n",
       "| 67  | 170 | M   |\n",
       "| 71  | 168 | M   |\n",
       "| 58  | 166 | F   |\n",
       "| 78  | 173 | M   |\n",
       "| 63  | 167 | F   |\n",
       "\n"
      ],
      "text/plain": [
       "  weight height sex\n",
       "1 67     170    M  \n",
       "2 71     168    M  \n",
       "3 58     166    F  \n",
       "4 78     173    M  \n",
       "5 63     167    F  "
      ]
     },
     "metadata": {},
     "output_type": "display_data"
    }
   ],
   "source": [
    "data=data.frame(weight,height,sex)\n",
    "data"
   ]
  },
  {
   "cell_type": "code",
   "execution_count": 9,
   "metadata": {},
   "outputs": [
    {
     "data": {
      "text/html": [
       "58"
      ],
      "text/latex": [
       "58"
      ],
      "text/markdown": [
       "58"
      ],
      "text/plain": [
       "[1] 58"
      ]
     },
     "metadata": {},
     "output_type": "display_data"
    }
   ],
   "source": [
    "data[3,1]"
   ]
  },
  {
   "cell_type": "code",
   "execution_count": 10,
   "metadata": {},
   "outputs": [
    {
     "data": {
      "text/html": [
       "<ol class=list-inline>\n",
       "\t<li>170</li>\n",
       "\t<li>168</li>\n",
       "\t<li>166</li>\n",
       "\t<li>173</li>\n",
       "\t<li>167</li>\n",
       "</ol>\n"
      ],
      "text/latex": [
       "\\begin{enumerate*}\n",
       "\\item 170\n",
       "\\item 168\n",
       "\\item 166\n",
       "\\item 173\n",
       "\\item 167\n",
       "\\end{enumerate*}\n"
      ],
      "text/markdown": [
       "1. 170\n",
       "2. 168\n",
       "3. 166\n",
       "4. 173\n",
       "5. 167\n",
       "\n",
       "\n"
      ],
      "text/plain": [
       "[1] 170 168 166 173 167"
      ]
     },
     "metadata": {},
     "output_type": "display_data"
    }
   ],
   "source": [
    "data[,2]"
   ]
  },
  {
   "cell_type": "code",
   "execution_count": 11,
   "metadata": {},
   "outputs": [
    {
     "data": {
      "text/html": [
       "<ol class=list-inline>\n",
       "\t<li>170</li>\n",
       "\t<li>168</li>\n",
       "\t<li>166</li>\n",
       "\t<li>173</li>\n",
       "\t<li>167</li>\n",
       "</ol>\n"
      ],
      "text/latex": [
       "\\begin{enumerate*}\n",
       "\\item 170\n",
       "\\item 168\n",
       "\\item 166\n",
       "\\item 173\n",
       "\\item 167\n",
       "\\end{enumerate*}\n"
      ],
      "text/markdown": [
       "1. 170\n",
       "2. 168\n",
       "3. 166\n",
       "4. 173\n",
       "5. 167\n",
       "\n",
       "\n"
      ],
      "text/plain": [
       "[1] 170 168 166 173 167"
      ]
     },
     "metadata": {},
     "output_type": "display_data"
    }
   ],
   "source": [
    "data$height"
   ]
  },
  {
   "cell_type": "code",
   "execution_count": 12,
   "metadata": {},
   "outputs": [
    {
     "data": {
      "text/html": [
       "<ol class=list-inline>\n",
       "\t<li>67</li>\n",
       "\t<li>58</li>\n",
       "\t<li>63</li>\n",
       "</ol>\n"
      ],
      "text/latex": [
       "\\begin{enumerate*}\n",
       "\\item 67\n",
       "\\item 58\n",
       "\\item 63\n",
       "\\end{enumerate*}\n"
      ],
      "text/markdown": [
       "1. 67\n",
       "2. 58\n",
       "3. 63\n",
       "\n",
       "\n"
      ],
      "text/plain": [
       "[1] 67 58 63"
      ]
     },
     "metadata": {},
     "output_type": "display_data"
    }
   ],
   "source": [
    "w=data[c(1,3,5),1]\n",
    "w"
   ]
  },
  {
   "cell_type": "code",
   "execution_count": 13,
   "metadata": {},
   "outputs": [
    {
     "data": {
      "text/html": [
       "<ol class=list-inline>\n",
       "\t<li>58</li>\n",
       "\t<li>63</li>\n",
       "\t<li>67</li>\n",
       "</ol>\n"
      ],
      "text/latex": [
       "\\begin{enumerate*}\n",
       "\\item 58\n",
       "\\item 63\n",
       "\\item 67\n",
       "\\end{enumerate*}\n"
      ],
      "text/markdown": [
       "1. 58\n",
       "2. 63\n",
       "3. 67\n",
       "\n",
       "\n"
      ],
      "text/plain": [
       "[1] 58 63 67"
      ]
     },
     "metadata": {},
     "output_type": "display_data"
    }
   ],
   "source": [
    "w_sort=sort(w)\n",
    "w_sort"
   ]
  },
  {
   "cell_type": "code",
   "execution_count": 14,
   "metadata": {},
   "outputs": [
    {
     "data": {
      "text/html": [
       "<ol class=list-inline>\n",
       "\t<li>67</li>\n",
       "\t<li>63</li>\n",
       "\t<li>58</li>\n",
       "</ol>\n"
      ],
      "text/latex": [
       "\\begin{enumerate*}\n",
       "\\item 67\n",
       "\\item 63\n",
       "\\item 58\n",
       "\\end{enumerate*}\n"
      ],
      "text/markdown": [
       "1. 67\n",
       "2. 63\n",
       "3. 58\n",
       "\n",
       "\n"
      ],
      "text/plain": [
       "[1] 67 63 58"
      ]
     },
     "metadata": {},
     "output_type": "display_data"
    }
   ],
   "source": [
    "w_sort=sort(w,decreasing=TRUE)\n",
    "w_sort"
   ]
  },
  {
   "cell_type": "code",
   "execution_count": 15,
   "metadata": {},
   "outputs": [
    {
     "data": {
      "text/html": [
       "<table>\n",
       "<thead><tr><th></th><th scope=col>weight</th><th scope=col>height</th><th scope=col>sex</th></tr></thead>\n",
       "<tbody>\n",
       "\t<tr><th scope=row>3</th><td>58 </td><td>166</td><td>F  </td></tr>\n",
       "\t<tr><th scope=row>5</th><td>63 </td><td>167</td><td>F  </td></tr>\n",
       "\t<tr><th scope=row>1</th><td>67 </td><td>170</td><td>M  </td></tr>\n",
       "\t<tr><th scope=row>2</th><td>71 </td><td>168</td><td>M  </td></tr>\n",
       "\t<tr><th scope=row>4</th><td>78 </td><td>173</td><td>M  </td></tr>\n",
       "</tbody>\n",
       "</table>\n"
      ],
      "text/latex": [
       "\\begin{tabular}{r|lll}\n",
       "  & weight & height & sex\\\\\n",
       "\\hline\n",
       "\t3 & 58  & 166 & F  \\\\\n",
       "\t5 & 63  & 167 & F  \\\\\n",
       "\t1 & 67  & 170 & M  \\\\\n",
       "\t2 & 71  & 168 & M  \\\\\n",
       "\t4 & 78  & 173 & M  \\\\\n",
       "\\end{tabular}\n"
      ],
      "text/markdown": [
       "\n",
       "| <!--/--> | weight | height | sex |\n",
       "|---|---|---|---|\n",
       "| 3 | 58  | 166 | F   |\n",
       "| 5 | 63  | 167 | F   |\n",
       "| 1 | 67  | 170 | M   |\n",
       "| 2 | 71  | 168 | M   |\n",
       "| 4 | 78  | 173 | M   |\n",
       "\n"
      ],
      "text/plain": [
       "  weight height sex\n",
       "3 58     166    F  \n",
       "5 63     167    F  \n",
       "1 67     170    M  \n",
       "2 71     168    M  \n",
       "4 78     173    M  "
      ]
     },
     "metadata": {},
     "output_type": "display_data"
    }
   ],
   "source": [
    "data[order(data$weight),]"
   ]
  },
  {
   "cell_type": "code",
   "execution_count": 16,
   "metadata": {},
   "outputs": [
    {
     "data": {
      "text/html": [
       "<ol class=list-inline>\n",
       "\t<li>166</li>\n",
       "\t<li>170</li>\n",
       "\t<li>173</li>\n",
       "</ol>\n"
      ],
      "text/latex": [
       "\\begin{enumerate*}\n",
       "\\item 166\n",
       "\\item 170\n",
       "\\item 173\n",
       "\\end{enumerate*}\n"
      ],
      "text/markdown": [
       "1. 166\n",
       "2. 170\n",
       "3. 173\n",
       "\n",
       "\n"
      ],
      "text/plain": [
       "[1] 166 170 173"
      ]
     },
     "metadata": {},
     "output_type": "display_data"
    }
   ],
   "source": [
    "h=data$height\n",
    "sample(h,3)"
   ]
  },
  {
   "cell_type": "code",
   "execution_count": 17,
   "metadata": {},
   "outputs": [
    {
     "data": {
      "text/html": [
       "<ol class=list-inline>\n",
       "\t<li>167</li>\n",
       "\t<li>170</li>\n",
       "\t<li>173</li>\n",
       "</ol>\n"
      ],
      "text/latex": [
       "\\begin{enumerate*}\n",
       "\\item 167\n",
       "\\item 170\n",
       "\\item 173\n",
       "\\end{enumerate*}\n"
      ],
      "text/markdown": [
       "1. 167\n",
       "2. 170\n",
       "3. 173\n",
       "\n",
       "\n"
      ],
      "text/plain": [
       "[1] 167 170 173"
      ]
     },
     "metadata": {},
     "output_type": "display_data"
    }
   ],
   "source": [
    "sample(h,3,replace=TRUE) #สุ่มแทนที่แล้วกลับคืน(มีโอกาสซ้ำ)"
   ]
  },
  {
   "cell_type": "code",
   "execution_count": 18,
   "metadata": {},
   "outputs": [
    {
     "data": {
      "text/html": [
       "<table>\n",
       "<thead><tr><th scope=col>Date</th><th scope=col>AUD</th><th scope=col>CAD</th><th scope=col>CHF</th><th scope=col>CNY</th><th scope=col>EUR</th><th scope=col>GBP</th><th scope=col>HKD</th><th scope=col>JPY</th><th scope=col>KRW</th><th scope=col>MYR</th><th scope=col>SGD</th><th scope=col>TWD</th><th scope=col>USD</th><th scope=col>VND</th></tr></thead>\n",
       "<tbody>\n",
       "\t<tr><td>14/5/2563</td><td>20.74172 </td><td>22.84653 </td><td>32.96856 </td><td>4.52553  </td><td>34.67600 </td><td>39.24800 </td><td>4.13923  </td><td>0.29924  </td><td>0.02615  </td><td>7.40466  </td><td>22.54250 </td><td>1.07374  </td><td>32.08617 </td><td>0.00137  </td></tr>\n",
       "\t<tr><td>13/5/2563</td><td>20.70282 </td><td>22.75082 </td><td>32.98667 </td><td>4.52294  </td><td>34.70000 </td><td>39.24052 </td><td>4.13739  </td><td>0.29955  </td><td>0.02613  </td><td>7.38000  </td><td>22.58791 </td><td>1.06865  </td><td>32.06980 </td><td>0.00137  </td></tr>\n",
       "\t<tr><td>12/5/2563</td><td>20.78474 </td><td>22.80490 </td><td>33.11069 </td><td>4.53213  </td><td>34.82400 </td><td>39.37629 </td><td>4.14158  </td><td>0.29950  </td><td>0.02617  </td><td>7.42199  </td><td>22.63533 </td><td>1.07487  </td><td>32.10044 </td><td>0.00138  </td></tr>\n",
       "\t<tr><td>11/5/2563</td><td>20.88412 </td><td>22.95846 </td><td>33.06838 </td><td>4.53437  </td><td>34.78000 </td><td>39.69006 </td><td>4.15176  </td><td>0.29894  </td><td>0.02632  </td><td>7.41752  </td><td>22.70694 </td><td>1.07577  </td><td>32.17957 </td><td>0.00138  </td></tr>\n",
       "\t<tr><td>10/5/2563</td><td>21.02147 </td><td>23.11624 </td><td>33.14579 </td><td>4.55224  </td><td>34.91014 </td><td>39.97589 </td><td>4.15730  </td><td>0.30202  </td><td>0.02642  </td><td>7.42849  </td><td>22.81351 </td><td>1.07769  </td><td>32.22633 </td><td>0.00138  </td></tr>\n",
       "\t<tr><td>8/5/2563 </td><td>21.03063 </td><td>23.12012 </td><td>33.16912 </td><td>4.55435  </td><td>34.91000 </td><td>39.95925 </td><td>4.15465  </td><td>0.30187  </td><td>0.02641  </td><td>7.42845  </td><td>22.79494 </td><td>1.07773  </td><td>32.20777 </td><td>0.00138  </td></tr>\n",
       "</tbody>\n",
       "</table>\n"
      ],
      "text/latex": [
       "\\begin{tabular}{r|lllllllllllllll}\n",
       " Date & AUD & CAD & CHF & CNY & EUR & GBP & HKD & JPY & KRW & MYR & SGD & TWD & USD & VND\\\\\n",
       "\\hline\n",
       "\t 14/5/2563 & 20.74172  & 22.84653  & 32.96856  & 4.52553   & 34.67600  & 39.24800  & 4.13923   & 0.29924   & 0.02615   & 7.40466   & 22.54250  & 1.07374   & 32.08617  & 0.00137  \\\\\n",
       "\t 13/5/2563 & 20.70282  & 22.75082  & 32.98667  & 4.52294   & 34.70000  & 39.24052  & 4.13739   & 0.29955   & 0.02613   & 7.38000   & 22.58791  & 1.06865   & 32.06980  & 0.00137  \\\\\n",
       "\t 12/5/2563 & 20.78474  & 22.80490  & 33.11069  & 4.53213   & 34.82400  & 39.37629  & 4.14158   & 0.29950   & 0.02617   & 7.42199   & 22.63533  & 1.07487   & 32.10044  & 0.00138  \\\\\n",
       "\t 11/5/2563 & 20.88412  & 22.95846  & 33.06838  & 4.53437   & 34.78000  & 39.69006  & 4.15176   & 0.29894   & 0.02632   & 7.41752   & 22.70694  & 1.07577   & 32.17957  & 0.00138  \\\\\n",
       "\t 10/5/2563 & 21.02147  & 23.11624  & 33.14579  & 4.55224   & 34.91014  & 39.97589  & 4.15730   & 0.30202   & 0.02642   & 7.42849   & 22.81351  & 1.07769   & 32.22633  & 0.00138  \\\\\n",
       "\t 8/5/2563  & 21.03063  & 23.12012  & 33.16912  & 4.55435   & 34.91000  & 39.95925  & 4.15465   & 0.30187   & 0.02641   & 7.42845   & 22.79494  & 1.07773   & 32.20777  & 0.00138  \\\\\n",
       "\\end{tabular}\n"
      ],
      "text/markdown": [
       "\n",
       "| Date | AUD | CAD | CHF | CNY | EUR | GBP | HKD | JPY | KRW | MYR | SGD | TWD | USD | VND |\n",
       "|---|---|---|---|---|---|---|---|---|---|---|---|---|---|---|\n",
       "| 14/5/2563 | 20.74172  | 22.84653  | 32.96856  | 4.52553   | 34.67600  | 39.24800  | 4.13923   | 0.29924   | 0.02615   | 7.40466   | 22.54250  | 1.07374   | 32.08617  | 0.00137   |\n",
       "| 13/5/2563 | 20.70282  | 22.75082  | 32.98667  | 4.52294   | 34.70000  | 39.24052  | 4.13739   | 0.29955   | 0.02613   | 7.38000   | 22.58791  | 1.06865   | 32.06980  | 0.00137   |\n",
       "| 12/5/2563 | 20.78474  | 22.80490  | 33.11069  | 4.53213   | 34.82400  | 39.37629  | 4.14158   | 0.29950   | 0.02617   | 7.42199   | 22.63533  | 1.07487   | 32.10044  | 0.00138   |\n",
       "| 11/5/2563 | 20.88412  | 22.95846  | 33.06838  | 4.53437   | 34.78000  | 39.69006  | 4.15176   | 0.29894   | 0.02632   | 7.41752   | 22.70694  | 1.07577   | 32.17957  | 0.00138   |\n",
       "| 10/5/2563 | 21.02147  | 23.11624  | 33.14579  | 4.55224   | 34.91014  | 39.97589  | 4.15730   | 0.30202   | 0.02642   | 7.42849   | 22.81351  | 1.07769   | 32.22633  | 0.00138   |\n",
       "| 8/5/2563  | 21.03063  | 23.12012  | 33.16912  | 4.55435   | 34.91000  | 39.95925  | 4.15465   | 0.30187   | 0.02641   | 7.42845   | 22.79494  | 1.07773   | 32.20777  | 0.00138   |\n",
       "\n"
      ],
      "text/plain": [
       "  Date      AUD      CAD      CHF      CNY     EUR      GBP      HKD    \n",
       "1 14/5/2563 20.74172 22.84653 32.96856 4.52553 34.67600 39.24800 4.13923\n",
       "2 13/5/2563 20.70282 22.75082 32.98667 4.52294 34.70000 39.24052 4.13739\n",
       "3 12/5/2563 20.78474 22.80490 33.11069 4.53213 34.82400 39.37629 4.14158\n",
       "4 11/5/2563 20.88412 22.95846 33.06838 4.53437 34.78000 39.69006 4.15176\n",
       "5 10/5/2563 21.02147 23.11624 33.14579 4.55224 34.91014 39.97589 4.15730\n",
       "6 8/5/2563  21.03063 23.12012 33.16912 4.55435 34.91000 39.95925 4.15465\n",
       "  JPY     KRW     MYR     SGD      TWD     USD      VND    \n",
       "1 0.29924 0.02615 7.40466 22.54250 1.07374 32.08617 0.00137\n",
       "2 0.29955 0.02613 7.38000 22.58791 1.06865 32.06980 0.00137\n",
       "3 0.29950 0.02617 7.42199 22.63533 1.07487 32.10044 0.00138\n",
       "4 0.29894 0.02632 7.41752 22.70694 1.07577 32.17957 0.00138\n",
       "5 0.30202 0.02642 7.42849 22.81351 1.07769 32.22633 0.00138\n",
       "6 0.30187 0.02641 7.42845 22.79494 1.07773 32.20777 0.00138"
      ]
     },
     "metadata": {},
     "output_type": "display_data"
    }
   ],
   "source": [
    "Data=read.csv(\"daily_forex_data.csv\")\n",
    "#Data=read_excel(\"file_name.xlsx\")\n",
    "head(Data)"
   ]
  },
  {
   "cell_type": "code",
   "execution_count": 19,
   "metadata": {},
   "outputs": [],
   "source": [
    "write.table(Data,\"data.txt\")"
   ]
  },
  {
   "cell_type": "code",
   "execution_count": 20,
   "metadata": {},
   "outputs": [],
   "source": [
    "write.csv(Data,\"data.csv\")"
   ]
  },
  {
   "cell_type": "markdown",
   "metadata": {},
   "source": [
    "### Stat "
   ]
  },
  {
   "cell_type": "code",
   "execution_count": 21,
   "metadata": {},
   "outputs": [],
   "source": [
    "x=Data$AUD"
   ]
  },
  {
   "cell_type": "code",
   "execution_count": 22,
   "metadata": {},
   "outputs": [
    {
     "data": {
      "text/html": [
       "<strong>25%:</strong> 20.5992075"
      ],
      "text/latex": [
       "\\textbf{25\\textbackslash{}\\%:} 20.5992075"
      ],
      "text/markdown": [
       "**25%:** 20.5992075"
      ],
      "text/plain": [
       "     25% \n",
       "20.59921 "
      ]
     },
     "metadata": {},
     "output_type": "display_data"
    }
   ],
   "source": [
    "quantile(x,0.25)"
   ]
  },
  {
   "cell_type": "markdown",
   "metadata": {},
   "source": [
    "### Matrix "
   ]
  },
  {
   "cell_type": "code",
   "execution_count": 23,
   "metadata": {},
   "outputs": [
    {
     "data": {
      "text/html": [
       "<table>\n",
       "<tbody>\n",
       "\t<tr><td>2</td><td>0</td><td>4</td></tr>\n",
       "\t<tr><td>6</td><td>1</td><td>7</td></tr>\n",
       "\t<tr><td>2</td><td>8</td><td>3</td></tr>\n",
       "</tbody>\n",
       "</table>\n"
      ],
      "text/latex": [
       "\\begin{tabular}{lll}\n",
       "\t 2 & 0 & 4\\\\\n",
       "\t 6 & 1 & 7\\\\\n",
       "\t 2 & 8 & 3\\\\\n",
       "\\end{tabular}\n"
      ],
      "text/markdown": [
       "\n",
       "| 2 | 0 | 4 |\n",
       "| 6 | 1 | 7 |\n",
       "| 2 | 8 | 3 |\n",
       "\n"
      ],
      "text/plain": [
       "     [,1] [,2] [,3]\n",
       "[1,] 2    0    4   \n",
       "[2,] 6    1    7   \n",
       "[3,] 2    8    3   "
      ]
     },
     "metadata": {},
     "output_type": "display_data"
    }
   ],
   "source": [
    "A=matrix(c(2,0,4,6,1,7,2,8,3),nrow=3,byrow=TRUE)\n",
    "A"
   ]
  },
  {
   "cell_type": "code",
   "execution_count": 24,
   "metadata": {},
   "outputs": [
    {
     "data": {
      "text/html": [
       "<table>\n",
       "<tbody>\n",
       "\t<tr><td>1</td><td>9</td><td>8</td></tr>\n",
       "\t<tr><td>5</td><td>3</td><td>2</td></tr>\n",
       "\t<tr><td>5</td><td>0</td><td>0</td></tr>\n",
       "</tbody>\n",
       "</table>\n"
      ],
      "text/latex": [
       "\\begin{tabular}{lll}\n",
       "\t 1 & 9 & 8\\\\\n",
       "\t 5 & 3 & 2\\\\\n",
       "\t 5 & 0 & 0\\\\\n",
       "\\end{tabular}\n"
      ],
      "text/markdown": [
       "\n",
       "| 1 | 9 | 8 |\n",
       "| 5 | 3 | 2 |\n",
       "| 5 | 0 | 0 |\n",
       "\n"
      ],
      "text/plain": [
       "     [,1] [,2] [,3]\n",
       "[1,] 1    9    8   \n",
       "[2,] 5    3    2   \n",
       "[3,] 5    0    0   "
      ]
     },
     "metadata": {},
     "output_type": "display_data"
    }
   ],
   "source": [
    "B=matrix(c(1,9,8,5,3,2,5,0,0),nrow=3,byrow=TRUE)\n",
    "B"
   ]
  },
  {
   "cell_type": "code",
   "execution_count": 25,
   "metadata": {},
   "outputs": [
    {
     "data": {
      "text/html": [
       "<table>\n",
       "<tbody>\n",
       "\t<tr><td>22</td><td>18</td><td>16</td></tr>\n",
       "\t<tr><td>46</td><td>57</td><td>50</td></tr>\n",
       "\t<tr><td>57</td><td>42</td><td>32</td></tr>\n",
       "</tbody>\n",
       "</table>\n"
      ],
      "text/latex": [
       "\\begin{tabular}{lll}\n",
       "\t 22 & 18 & 16\\\\\n",
       "\t 46 & 57 & 50\\\\\n",
       "\t 57 & 42 & 32\\\\\n",
       "\\end{tabular}\n"
      ],
      "text/markdown": [
       "\n",
       "| 22 | 18 | 16 |\n",
       "| 46 | 57 | 50 |\n",
       "| 57 | 42 | 32 |\n",
       "\n"
      ],
      "text/plain": [
       "     [,1] [,2] [,3]\n",
       "[1,] 22   18   16  \n",
       "[2,] 46   57   50  \n",
       "[3,] 57   42   32  "
      ]
     },
     "metadata": {},
     "output_type": "display_data"
    }
   ],
   "source": [
    "A%*%B"
   ]
  },
  {
   "cell_type": "code",
   "execution_count": 26,
   "metadata": {},
   "outputs": [
    {
     "data": {
      "text/html": [
       "<table>\n",
       "<tbody>\n",
       "\t<tr><td>2</td><td>6</td><td>2</td></tr>\n",
       "\t<tr><td>0</td><td>1</td><td>8</td></tr>\n",
       "\t<tr><td>4</td><td>7</td><td>3</td></tr>\n",
       "</tbody>\n",
       "</table>\n"
      ],
      "text/latex": [
       "\\begin{tabular}{lll}\n",
       "\t 2 & 6 & 2\\\\\n",
       "\t 0 & 1 & 8\\\\\n",
       "\t 4 & 7 & 3\\\\\n",
       "\\end{tabular}\n"
      ],
      "text/markdown": [
       "\n",
       "| 2 | 6 | 2 |\n",
       "| 0 | 1 | 8 |\n",
       "| 4 | 7 | 3 |\n",
       "\n"
      ],
      "text/plain": [
       "     [,1] [,2] [,3]\n",
       "[1,] 2    6    2   \n",
       "[2,] 0    1    8   \n",
       "[3,] 4    7    3   "
      ]
     },
     "metadata": {},
     "output_type": "display_data"
    }
   ],
   "source": [
    "t(A)"
   ]
  },
  {
   "cell_type": "code",
   "execution_count": 27,
   "metadata": {},
   "outputs": [
    {
     "data": {
      "text/html": [
       "<table>\n",
       "<tbody>\n",
       "\t<tr><td>-0.67948718</td><td> 0.41025641</td><td>-0.05128205</td></tr>\n",
       "\t<tr><td>-0.05128205</td><td>-0.02564103</td><td> 0.12820513</td></tr>\n",
       "\t<tr><td> 0.58974359</td><td>-0.20512821</td><td> 0.02564103</td></tr>\n",
       "</tbody>\n",
       "</table>\n"
      ],
      "text/latex": [
       "\\begin{tabular}{lll}\n",
       "\t -0.67948718 &  0.41025641 & -0.05128205\\\\\n",
       "\t -0.05128205 & -0.02564103 &  0.12820513\\\\\n",
       "\t  0.58974359 & -0.20512821 &  0.02564103\\\\\n",
       "\\end{tabular}\n"
      ],
      "text/markdown": [
       "\n",
       "| -0.67948718 |  0.41025641 | -0.05128205 |\n",
       "| -0.05128205 | -0.02564103 |  0.12820513 |\n",
       "|  0.58974359 | -0.20512821 |  0.02564103 |\n",
       "\n"
      ],
      "text/plain": [
       "     [,1]        [,2]        [,3]       \n",
       "[1,] -0.67948718  0.41025641 -0.05128205\n",
       "[2,] -0.05128205 -0.02564103  0.12820513\n",
       "[3,]  0.58974359 -0.20512821  0.02564103"
      ]
     },
     "metadata": {},
     "output_type": "display_data"
    }
   ],
   "source": [
    "solve(A)"
   ]
  },
  {
   "cell_type": "code",
   "execution_count": 28,
   "metadata": {},
   "outputs": [
    {
     "data": {
      "text/html": [
       "78"
      ],
      "text/latex": [
       "78"
      ],
      "text/markdown": [
       "78"
      ],
      "text/plain": [
       "[1] 78"
      ]
     },
     "metadata": {},
     "output_type": "display_data"
    }
   ],
   "source": [
    "det(A)"
   ]
  },
  {
   "cell_type": "code",
   "execution_count": 29,
   "metadata": {},
   "outputs": [
    {
     "data": {
      "text/html": [
       "<ol class=list-inline>\n",
       "\t<li>1</li>\n",
       "\t<li>3</li>\n",
       "\t<li>6</li>\n",
       "\t<li>10</li>\n",
       "\t<li>15</li>\n",
       "\t<li>21</li>\n",
       "\t<li>28</li>\n",
       "\t<li>36</li>\n",
       "\t<li>45</li>\n",
       "\t<li>55</li>\n",
       "</ol>\n"
      ],
      "text/latex": [
       "\\begin{enumerate*}\n",
       "\\item 1\n",
       "\\item 3\n",
       "\\item 6\n",
       "\\item 10\n",
       "\\item 15\n",
       "\\item 21\n",
       "\\item 28\n",
       "\\item 36\n",
       "\\item 45\n",
       "\\item 55\n",
       "\\end{enumerate*}\n"
      ],
      "text/markdown": [
       "1. 1\n",
       "2. 3\n",
       "3. 6\n",
       "4. 10\n",
       "5. 15\n",
       "6. 21\n",
       "7. 28\n",
       "8. 36\n",
       "9. 45\n",
       "10. 55\n",
       "\n",
       "\n"
      ],
      "text/plain": [
       " [1]  1  3  6 10 15 21 28 36 45 55"
      ]
     },
     "metadata": {},
     "output_type": "display_data"
    }
   ],
   "source": [
    "cumsum(1:10)"
   ]
  },
  {
   "cell_type": "markdown",
   "metadata": {},
   "source": [
    "### การทดสอบสมมติฐาน "
   ]
  },
  {
   "cell_type": "code",
   "execution_count": 30,
   "metadata": {},
   "outputs": [
    {
     "data": {
      "text/plain": [
       "\n",
       "\tOne Sample t-test\n",
       "\n",
       "data:  x\n",
       "t = 2.1372, df = 5, p-value = 0.04281\n",
       "alternative hypothesis: true mean is greater than 5.3\n",
       "95 percent confidence interval:\n",
       " 5.312382      Inf\n",
       "sample estimates:\n",
       "mean of x \n",
       " 5.516667 \n"
      ]
     },
     "metadata": {},
     "output_type": "display_data"
    }
   ],
   "source": [
    "x=c(5.1,5.4,5.5,5.6,5.7,5.8)\n",
    "t.test(x,mu=5.3,alternative=\"greater\")"
   ]
  },
  {
   "cell_type": "code",
   "execution_count": 31,
   "metadata": {},
   "outputs": [
    {
     "data": {
      "text/plain": [
       "\n",
       "\tOne Sample t-test\n",
       "\n",
       "data:  x\n",
       "t = 2.1372, df = 5, p-value = 0.08562\n",
       "alternative hypothesis: true mean is not equal to 5.3\n",
       "95 percent confidence interval:\n",
       " 5.256063 5.777271\n",
       "sample estimates:\n",
       "mean of x \n",
       " 5.516667 \n"
      ]
     },
     "metadata": {},
     "output_type": "display_data"
    }
   ],
   "source": [
    "t.test(x,mu=5.3,alternative=\"two.sided\")"
   ]
  },
  {
   "cell_type": "code",
   "execution_count": 32,
   "metadata": {},
   "outputs": [
    {
     "data": {
      "text/plain": [
       "\n",
       "\tOne Sample t-test\n",
       "\n",
       "data:  x\n",
       "t = 2.1372, df = 5, p-value = 0.08562\n",
       "alternative hypothesis: true mean is not equal to 5.3\n",
       "99 percent confidence interval:\n",
       " 5.107891 5.925443\n",
       "sample estimates:\n",
       "mean of x \n",
       " 5.516667 \n"
      ]
     },
     "metadata": {},
     "output_type": "display_data"
    }
   ],
   "source": [
    "t.test(x,mu=5.3,alternative=\"two.sided\",conf.level=0.99)#ปรับระดับความเชื่อมั่น"
   ]
  },
  {
   "cell_type": "code",
   "execution_count": 33,
   "metadata": {},
   "outputs": [
    {
     "data": {
      "text/plain": [
       "\n",
       "\tPaired t-test\n",
       "\n",
       "data:  x and y\n",
       "t = 19, df = 9, p-value = 1\n",
       "alternative hypothesis: true difference in means is less than 0\n",
       "95 percent confidence interval:\n",
       "     -Inf 2.083311\n",
       "sample estimates:\n",
       "mean of the differences \n",
       "                    1.9 \n"
      ]
     },
     "metadata": {},
     "output_type": "display_data"
    }
   ],
   "source": [
    "x=c(4,4,3,5,4,3,4,2,3,4)\n",
    "y=c(2,2,1,3,2,2,2,0,1,2)\n",
    "t.test(x,y,mu=0,alternative=\"less\",paired=TRUE)"
   ]
  },
  {
   "cell_type": "code",
   "execution_count": 34,
   "metadata": {},
   "outputs": [
    {
     "data": {
      "text/plain": [
       "\n",
       "\tPaired t-test\n",
       "\n",
       "data:  x and y\n",
       "t = 19, df = 9, p-value = 1.427e-08\n",
       "alternative hypothesis: true difference in means is not equal to 0\n",
       "95 percent confidence interval:\n",
       " 1.673784 2.126216\n",
       "sample estimates:\n",
       "mean of the differences \n",
       "                    1.9 \n"
      ]
     },
     "metadata": {},
     "output_type": "display_data"
    }
   ],
   "source": [
    "t.test(x,y,mu=0,alternative=\"two.sided\",paired=TRUE)"
   ]
  },
  {
   "cell_type": "code",
   "execution_count": 35,
   "metadata": {},
   "outputs": [
    {
     "data": {
      "text/plain": [
       "\n",
       "\tPaired t-test\n",
       "\n",
       "data:  x and y\n",
       "t = 19, df = 9, p-value = 1.427e-08\n",
       "alternative hypothesis: true difference in means is not equal to 0\n",
       "90 percent confidence interval:\n",
       " 1.716689 2.083311\n",
       "sample estimates:\n",
       "mean of the differences \n",
       "                    1.9 \n"
      ]
     },
     "metadata": {},
     "output_type": "display_data"
    }
   ],
   "source": [
    "t.test(x,y,mu=0,alternative=\"two.sided\",paired=TRUE,conf.level=0.9)"
   ]
  },
  {
   "cell_type": "code",
   "execution_count": 36,
   "metadata": {},
   "outputs": [
    {
     "data": {
      "text/plain": [
       "\n",
       "\tTwo Sample t-test\n",
       "\n",
       "data:  x and y\n",
       "t = 1.4922, df = 9, p-value = 0.1698\n",
       "alternative hypothesis: true difference in means is not equal to 0\n",
       "95 percent confidence interval:\n",
       " -33.84606 165.04606\n",
       "sample estimates:\n",
       "mean of x mean of y \n",
       "    430.6     365.0 \n"
      ]
     },
     "metadata": {},
     "output_type": "display_data"
    }
   ],
   "source": [
    "x=c(412,429,512,394,406)\n",
    "y=c(404,425,208,326,449,378)\n",
    "t.test(x,y,mu=0,alternative=\"two.sided\",paired=FALSE,var.equal=TRUE)"
   ]
  },
  {
   "cell_type": "code",
   "execution_count": 37,
   "metadata": {},
   "outputs": [
    {
     "data": {
      "text/plain": [
       "\n",
       "\tWelch Two Sample t-test\n",
       "\n",
       "data:  x and y\n",
       "t = 1.5773, df = 7.8873, p-value = 0.1539\n",
       "alternative hypothesis: true difference in means is not equal to 0\n",
       "95 percent confidence interval:\n",
       " -30.54854 161.74854\n",
       "sample estimates:\n",
       "mean of x mean of y \n",
       "    430.6     365.0 \n"
      ]
     },
     "metadata": {},
     "output_type": "display_data"
    }
   ],
   "source": [
    "t.test(x,y,mu=0,alternative=\"two.sided\",paired=FALSE,var.equal=FALSE)"
   ]
  },
  {
   "cell_type": "code",
   "execution_count": 38,
   "metadata": {},
   "outputs": [
    {
     "data": {
      "text/plain": [
       "\n",
       "\tF test to compare two variances\n",
       "\n",
       "data:  x and y\n",
       "F = 0.28946, num df = 4, denom df = 5, p-value = 0.2533\n",
       "alternative hypothesis: true ratio of variances is not equal to 1\n",
       "95 percent confidence interval:\n",
       " 0.03918091 2.71067829\n",
       "sample estimates:\n",
       "ratio of variances \n",
       "         0.2894641 \n"
      ]
     },
     "metadata": {},
     "output_type": "display_data"
    }
   ],
   "source": [
    "var.test(x,y)"
   ]
  },
  {
   "cell_type": "code",
   "execution_count": 39,
   "metadata": {},
   "outputs": [
    {
     "data": {
      "text/plain": [
       "\n",
       "\t1-sample proportions test with continuity correction\n",
       "\n",
       "data:  13 out of 300, null probability 0.05\n",
       "X-squared = 0.15789, df = 1, p-value = 0.6911\n",
       "alternative hypothesis: true p is not equal to 0.05\n",
       "95 percent confidence interval:\n",
       " 0.02425750 0.07476137\n",
       "sample estimates:\n",
       "         p \n",
       "0.04333333 \n"
      ]
     },
     "metadata": {},
     "output_type": "display_data"
    }
   ],
   "source": [
    "prop.test(x=13,n=300,p=0.05,alternative=\"two.sided\")"
   ]
  },
  {
   "cell_type": "code",
   "execution_count": 40,
   "metadata": {},
   "outputs": [
    {
     "data": {
      "text/plain": [
       "\n",
       "\t1-sample proportions test with continuity correction\n",
       "\n",
       "data:  13 out of 300, null probability 0.05\n",
       "X-squared = 0.15789, df = 1, p-value = 0.6911\n",
       "alternative hypothesis: true p is not equal to 0.05\n",
       "99 percent confidence interval:\n",
       " 0.02056203 0.08688908\n",
       "sample estimates:\n",
       "         p \n",
       "0.04333333 \n"
      ]
     },
     "metadata": {},
     "output_type": "display_data"
    }
   ],
   "source": [
    "prop.test(x=13,n=300,p=0.05,alternative=\"two.sided\",conf.level=0.99)"
   ]
  },
  {
   "cell_type": "code",
   "execution_count": 41,
   "metadata": {},
   "outputs": [
    {
     "data": {
      "text/plain": [
       "\n",
       "\t2-sample test for equality of proportions with continuity correction\n",
       "\n",
       "data:  c(385, 267) out of c(500, 400)\n",
       "X-squared = 11.188, df = 1, p-value = 0.0008234\n",
       "alternative hypothesis: two.sided\n",
       "95 percent confidence interval:\n",
       " 0.04115589 0.16384411\n",
       "sample estimates:\n",
       "prop 1 prop 2 \n",
       "0.7700 0.6675 \n"
      ]
     },
     "metadata": {},
     "output_type": "display_data"
    }
   ],
   "source": [
    "prop.test(c(385,267),c(500,400),alternative=\"two.sided\")"
   ]
  },
  {
   "cell_type": "code",
   "execution_count": 42,
   "metadata": {},
   "outputs": [
    {
     "data": {
      "text/html": [
       "<table>\n",
       "<thead><tr><th scope=col>time</th><th scope=col>type</th></tr></thead>\n",
       "<tbody>\n",
       "\t<tr><td>31</td><td>A </td></tr>\n",
       "\t<tr><td>30</td><td>A </td></tr>\n",
       "\t<tr><td>28</td><td>A </td></tr>\n",
       "\t<tr><td>28</td><td>A </td></tr>\n",
       "\t<tr><td>32</td><td>B </td></tr>\n",
       "\t<tr><td>33</td><td>B </td></tr>\n",
       "\t<tr><td>29</td><td>B </td></tr>\n",
       "\t<tr><td>31</td><td>B </td></tr>\n",
       "\t<tr><td>28</td><td>C </td></tr>\n",
       "\t<tr><td>29</td><td>C </td></tr>\n",
       "\t<tr><td>29</td><td>C </td></tr>\n",
       "\t<tr><td>30</td><td>C </td></tr>\n",
       "\t<tr><td>26</td><td>D </td></tr>\n",
       "\t<tr><td>27</td><td>D </td></tr>\n",
       "\t<tr><td>26</td><td>D </td></tr>\n",
       "\t<tr><td>27</td><td>D </td></tr>\n",
       "</tbody>\n",
       "</table>\n"
      ],
      "text/latex": [
       "\\begin{tabular}{r|ll}\n",
       " time & type\\\\\n",
       "\\hline\n",
       "\t 31 & A \\\\\n",
       "\t 30 & A \\\\\n",
       "\t 28 & A \\\\\n",
       "\t 28 & A \\\\\n",
       "\t 32 & B \\\\\n",
       "\t 33 & B \\\\\n",
       "\t 29 & B \\\\\n",
       "\t 31 & B \\\\\n",
       "\t 28 & C \\\\\n",
       "\t 29 & C \\\\\n",
       "\t 29 & C \\\\\n",
       "\t 30 & C \\\\\n",
       "\t 26 & D \\\\\n",
       "\t 27 & D \\\\\n",
       "\t 26 & D \\\\\n",
       "\t 27 & D \\\\\n",
       "\\end{tabular}\n"
      ],
      "text/markdown": [
       "\n",
       "| time | type |\n",
       "|---|---|\n",
       "| 31 | A  |\n",
       "| 30 | A  |\n",
       "| 28 | A  |\n",
       "| 28 | A  |\n",
       "| 32 | B  |\n",
       "| 33 | B  |\n",
       "| 29 | B  |\n",
       "| 31 | B  |\n",
       "| 28 | C  |\n",
       "| 29 | C  |\n",
       "| 29 | C  |\n",
       "| 30 | C  |\n",
       "| 26 | D  |\n",
       "| 27 | D  |\n",
       "| 26 | D  |\n",
       "| 27 | D  |\n",
       "\n"
      ],
      "text/plain": [
       "   time type\n",
       "1  31   A   \n",
       "2  30   A   \n",
       "3  28   A   \n",
       "4  28   A   \n",
       "5  32   B   \n",
       "6  33   B   \n",
       "7  29   B   \n",
       "8  31   B   \n",
       "9  28   C   \n",
       "10 29   C   \n",
       "11 29   C   \n",
       "12 30   C   \n",
       "13 26   D   \n",
       "14 27   D   \n",
       "15 26   D   \n",
       "16 27   D   "
      ]
     },
     "metadata": {},
     "output_type": "display_data"
    }
   ],
   "source": [
    "time=c(31,30,28,28,32,33,29,31,28,29,29,30,26,27,26,27)\n",
    "type=c(\"A\",\"A\",\"A\",\"A\",\"B\",\"B\",\"B\",\"B\",\"C\",\"C\",\"C\",\"C\",\"D\",\"D\",\"D\",\"D\")\n",
    "data=data.frame(time,type)\n",
    "data"
   ]
  },
  {
   "cell_type": "code",
   "execution_count": 43,
   "metadata": {},
   "outputs": [
    {
     "data": {
      "text/plain": [
       "            Df Sum Sq Mean Sq F value  Pr(>F)   \n",
       "type         3   45.5  15.167   9.838 0.00148 **\n",
       "Residuals   12   18.5   1.542                   \n",
       "---\n",
       "Signif. codes:  0 '***' 0.001 '**' 0.01 '*' 0.05 '.' 0.1 ' ' 1"
      ]
     },
     "metadata": {},
     "output_type": "display_data"
    }
   ],
   "source": [
    "summary(aov(lm(time~type,data)))"
   ]
  },
  {
   "cell_type": "code",
   "execution_count": 44,
   "metadata": {},
   "outputs": [
    {
     "data": {
      "text/plain": [
       "  Tukey multiple comparisons of means\n",
       "    95% family-wise confidence level\n",
       "\n",
       "Fit: aov(formula = time ~ type, data = data)\n",
       "\n",
       "$type\n",
       "     diff        lwr        upr     p adj\n",
       "B-A  2.00 -0.6066095  4.6066095 0.1579411\n",
       "C-A -0.25 -2.8566095  2.3566095 0.9915273\n",
       "D-A -2.75 -5.3566095 -0.1433905 0.0376673\n",
       "C-B -2.25 -4.8566095  0.3566095 0.0995866\n",
       "D-B -4.75 -7.3566095 -2.1433905 0.0007833\n",
       "D-C -2.50 -5.1066095  0.1066095 0.0616060\n"
      ]
     },
     "metadata": {},
     "output_type": "display_data"
    }
   ],
   "source": [
    "TukeyHSD(aov(time~type,data))"
   ]
  },
  {
   "cell_type": "code",
   "execution_count": 45,
   "metadata": {},
   "outputs": [
    {
     "data": {
      "text/html": [
       "<table>\n",
       "<thead><tr><th scope=col>output</th><th scope=col>machine</th><th scope=col>man</th></tr></thead>\n",
       "<tbody>\n",
       "\t<tr><td>202</td><td>A  </td><td>1  </td></tr>\n",
       "\t<tr><td> 78</td><td>A  </td><td>2  </td></tr>\n",
       "\t<tr><td>112</td><td>A  </td><td>3  </td></tr>\n",
       "\t<tr><td>248</td><td>A  </td><td>4  </td></tr>\n",
       "\t<tr><td>210</td><td>B  </td><td>1  </td></tr>\n",
       "\t<tr><td> 82</td><td>B  </td><td>2  </td></tr>\n",
       "\t<tr><td>110</td><td>B  </td><td>3  </td></tr>\n",
       "\t<tr><td>246</td><td>B  </td><td>4  </td></tr>\n",
       "\t<tr><td>194</td><td>C  </td><td>1  </td></tr>\n",
       "\t<tr><td> 77</td><td>C  </td><td>2  </td></tr>\n",
       "\t<tr><td>105</td><td>C  </td><td>3  </td></tr>\n",
       "\t<tr><td>232</td><td>C  </td><td>4  </td></tr>\n",
       "</tbody>\n",
       "</table>\n"
      ],
      "text/latex": [
       "\\begin{tabular}{r|lll}\n",
       " output & machine & man\\\\\n",
       "\\hline\n",
       "\t 202 & A   & 1  \\\\\n",
       "\t  78 & A   & 2  \\\\\n",
       "\t 112 & A   & 3  \\\\\n",
       "\t 248 & A   & 4  \\\\\n",
       "\t 210 & B   & 1  \\\\\n",
       "\t  82 & B   & 2  \\\\\n",
       "\t 110 & B   & 3  \\\\\n",
       "\t 246 & B   & 4  \\\\\n",
       "\t 194 & C   & 1  \\\\\n",
       "\t  77 & C   & 2  \\\\\n",
       "\t 105 & C   & 3  \\\\\n",
       "\t 232 & C   & 4  \\\\\n",
       "\\end{tabular}\n"
      ],
      "text/markdown": [
       "\n",
       "| output | machine | man |\n",
       "|---|---|---|\n",
       "| 202 | A   | 1   |\n",
       "|  78 | A   | 2   |\n",
       "| 112 | A   | 3   |\n",
       "| 248 | A   | 4   |\n",
       "| 210 | B   | 1   |\n",
       "|  82 | B   | 2   |\n",
       "| 110 | B   | 3   |\n",
       "| 246 | B   | 4   |\n",
       "| 194 | C   | 1   |\n",
       "|  77 | C   | 2   |\n",
       "| 105 | C   | 3   |\n",
       "| 232 | C   | 4   |\n",
       "\n"
      ],
      "text/plain": [
       "   output machine man\n",
       "1  202    A       1  \n",
       "2   78    A       2  \n",
       "3  112    A       3  \n",
       "4  248    A       4  \n",
       "5  210    B       1  \n",
       "6   82    B       2  \n",
       "7  110    B       3  \n",
       "8  246    B       4  \n",
       "9  194    C       1  \n",
       "10  77    C       2  \n",
       "11 105    C       3  \n",
       "12 232    C       4  "
      ]
     },
     "metadata": {},
     "output_type": "display_data"
    }
   ],
   "source": [
    "output=c(202,78,112,248,210,82,110,246,194,77,105,232)\n",
    "machine=c(\"A\",\"A\",\"A\",\"A\",\"B\",\"B\",\"B\",\"B\",\"C\",\"C\",\"C\",\"C\")\n",
    "man=c(\"1\",\"2\",\"3\",\"4\",\"1\",\"2\",\"3\",\"4\",\"1\",\"2\",\"3\",\"4\")\n",
    "data=data.frame(output,machine,man)\n",
    "data"
   ]
  },
  {
   "cell_type": "code",
   "execution_count": 46,
   "metadata": {},
   "outputs": [
    {
     "data": {
      "text/html": [
       "<table>\n",
       "<thead><tr><th></th><th scope=col>Df</th><th scope=col>Sum Sq</th><th scope=col>Mean Sq</th><th scope=col>F value</th><th scope=col>Pr(&gt;F)</th></tr></thead>\n",
       "<tbody>\n",
       "\t<tr><th scope=row>machine</th><td>2           </td><td>  224       </td><td>  112       </td><td>   7.000    </td><td>2.700000e-02</td></tr>\n",
       "\t<tr><th scope=row>man</th><td>3           </td><td>52902       </td><td>17634       </td><td>1102.125    </td><td>1.299236e-08</td></tr>\n",
       "\t<tr><th scope=row>Residuals</th><td>6           </td><td>   96       </td><td>   16       </td><td>      NA    </td><td>          NA</td></tr>\n",
       "</tbody>\n",
       "</table>\n"
      ],
      "text/latex": [
       "\\begin{tabular}{r|lllll}\n",
       "  & Df & Sum Sq & Mean Sq & F value & Pr(>F)\\\\\n",
       "\\hline\n",
       "\tmachine & 2            &   224        &   112        &    7.000     & 2.700000e-02\\\\\n",
       "\tman & 3            & 52902        & 17634        & 1102.125     & 1.299236e-08\\\\\n",
       "\tResiduals & 6            &    96        &    16        &       NA     &           NA\\\\\n",
       "\\end{tabular}\n"
      ],
      "text/markdown": [
       "\n",
       "| <!--/--> | Df | Sum Sq | Mean Sq | F value | Pr(>F) |\n",
       "|---|---|---|---|---|---|\n",
       "| machine | 2            |   224        |   112        |    7.000     | 2.700000e-02 |\n",
       "| man | 3            | 52902        | 17634        | 1102.125     | 1.299236e-08 |\n",
       "| Residuals | 6            |    96        |    16        |       NA     |           NA |\n",
       "\n"
      ],
      "text/plain": [
       "          Df Sum Sq Mean Sq F value  Pr(>F)      \n",
       "machine   2    224    112      7.000 2.700000e-02\n",
       "man       3  52902  17634   1102.125 1.299236e-08\n",
       "Residuals 6     96     16         NA           NA"
      ]
     },
     "metadata": {},
     "output_type": "display_data"
    }
   ],
   "source": [
    "anova(lm(output~machine+man,data))"
   ]
  },
  {
   "cell_type": "code",
   "execution_count": 47,
   "metadata": {},
   "outputs": [
    {
     "data": {
      "text/html": [
       "<table>\n",
       "<thead><tr><th scope=col>score</th><th scope=col>sex</th><th scope=col>fac</th></tr></thead>\n",
       "<tbody>\n",
       "\t<tr><td>34</td><td>M </td><td>A </td></tr>\n",
       "\t<tr><td>19</td><td>M </td><td>A </td></tr>\n",
       "\t<tr><td>24</td><td>M </td><td>A </td></tr>\n",
       "\t<tr><td>36</td><td>M </td><td>A </td></tr>\n",
       "\t<tr><td>25</td><td>M </td><td>A </td></tr>\n",
       "\t<tr><td>16</td><td>M </td><td>B </td></tr>\n",
       "\t<tr><td>35</td><td>M </td><td>B </td></tr>\n",
       "\t<tr><td>18</td><td>M </td><td>B </td></tr>\n",
       "\t<tr><td>16</td><td>M </td><td>B </td></tr>\n",
       "\t<tr><td>12</td><td>M </td><td>B </td></tr>\n",
       "\t<tr><td>30</td><td>M </td><td>C </td></tr>\n",
       "\t<tr><td>28</td><td>M </td><td>C </td></tr>\n",
       "\t<tr><td>39</td><td>M </td><td>C </td></tr>\n",
       "\t<tr><td>29</td><td>M </td><td>C </td></tr>\n",
       "\t<tr><td>24</td><td>M </td><td>C </td></tr>\n",
       "\t<tr><td>27</td><td>F </td><td>A </td></tr>\n",
       "\t<tr><td>24</td><td>F </td><td>A </td></tr>\n",
       "\t<tr><td>19</td><td>F </td><td>A </td></tr>\n",
       "\t<tr><td>33</td><td>F </td><td>A </td></tr>\n",
       "\t<tr><td>37</td><td>F </td><td>A </td></tr>\n",
       "\t<tr><td>41</td><td>F </td><td>B </td></tr>\n",
       "\t<tr><td>30</td><td>F </td><td>B </td></tr>\n",
       "\t<tr><td>17</td><td>F </td><td>B </td></tr>\n",
       "\t<tr><td>27</td><td>F </td><td>B </td></tr>\n",
       "\t<tr><td>22</td><td>F </td><td>B </td></tr>\n",
       "\t<tr><td>28</td><td>F </td><td>C </td></tr>\n",
       "\t<tr><td>34</td><td>F </td><td>C </td></tr>\n",
       "\t<tr><td>40</td><td>F </td><td>C </td></tr>\n",
       "\t<tr><td>27</td><td>F </td><td>C </td></tr>\n",
       "\t<tr><td>42</td><td>F </td><td>C </td></tr>\n",
       "</tbody>\n",
       "</table>\n"
      ],
      "text/latex": [
       "\\begin{tabular}{r|lll}\n",
       " score & sex & fac\\\\\n",
       "\\hline\n",
       "\t 34 & M  & A \\\\\n",
       "\t 19 & M  & A \\\\\n",
       "\t 24 & M  & A \\\\\n",
       "\t 36 & M  & A \\\\\n",
       "\t 25 & M  & A \\\\\n",
       "\t 16 & M  & B \\\\\n",
       "\t 35 & M  & B \\\\\n",
       "\t 18 & M  & B \\\\\n",
       "\t 16 & M  & B \\\\\n",
       "\t 12 & M  & B \\\\\n",
       "\t 30 & M  & C \\\\\n",
       "\t 28 & M  & C \\\\\n",
       "\t 39 & M  & C \\\\\n",
       "\t 29 & M  & C \\\\\n",
       "\t 24 & M  & C \\\\\n",
       "\t 27 & F  & A \\\\\n",
       "\t 24 & F  & A \\\\\n",
       "\t 19 & F  & A \\\\\n",
       "\t 33 & F  & A \\\\\n",
       "\t 37 & F  & A \\\\\n",
       "\t 41 & F  & B \\\\\n",
       "\t 30 & F  & B \\\\\n",
       "\t 17 & F  & B \\\\\n",
       "\t 27 & F  & B \\\\\n",
       "\t 22 & F  & B \\\\\n",
       "\t 28 & F  & C \\\\\n",
       "\t 34 & F  & C \\\\\n",
       "\t 40 & F  & C \\\\\n",
       "\t 27 & F  & C \\\\\n",
       "\t 42 & F  & C \\\\\n",
       "\\end{tabular}\n"
      ],
      "text/markdown": [
       "\n",
       "| score | sex | fac |\n",
       "|---|---|---|\n",
       "| 34 | M  | A  |\n",
       "| 19 | M  | A  |\n",
       "| 24 | M  | A  |\n",
       "| 36 | M  | A  |\n",
       "| 25 | M  | A  |\n",
       "| 16 | M  | B  |\n",
       "| 35 | M  | B  |\n",
       "| 18 | M  | B  |\n",
       "| 16 | M  | B  |\n",
       "| 12 | M  | B  |\n",
       "| 30 | M  | C  |\n",
       "| 28 | M  | C  |\n",
       "| 39 | M  | C  |\n",
       "| 29 | M  | C  |\n",
       "| 24 | M  | C  |\n",
       "| 27 | F  | A  |\n",
       "| 24 | F  | A  |\n",
       "| 19 | F  | A  |\n",
       "| 33 | F  | A  |\n",
       "| 37 | F  | A  |\n",
       "| 41 | F  | B  |\n",
       "| 30 | F  | B  |\n",
       "| 17 | F  | B  |\n",
       "| 27 | F  | B  |\n",
       "| 22 | F  | B  |\n",
       "| 28 | F  | C  |\n",
       "| 34 | F  | C  |\n",
       "| 40 | F  | C  |\n",
       "| 27 | F  | C  |\n",
       "| 42 | F  | C  |\n",
       "\n"
      ],
      "text/plain": [
       "   score sex fac\n",
       "1  34    M   A  \n",
       "2  19    M   A  \n",
       "3  24    M   A  \n",
       "4  36    M   A  \n",
       "5  25    M   A  \n",
       "6  16    M   B  \n",
       "7  35    M   B  \n",
       "8  18    M   B  \n",
       "9  16    M   B  \n",
       "10 12    M   B  \n",
       "11 30    M   C  \n",
       "12 28    M   C  \n",
       "13 39    M   C  \n",
       "14 29    M   C  \n",
       "15 24    M   C  \n",
       "16 27    F   A  \n",
       "17 24    F   A  \n",
       "18 19    F   A  \n",
       "19 33    F   A  \n",
       "20 37    F   A  \n",
       "21 41    F   B  \n",
       "22 30    F   B  \n",
       "23 17    F   B  \n",
       "24 27    F   B  \n",
       "25 22    F   B  \n",
       "26 28    F   C  \n",
       "27 34    F   C  \n",
       "28 40    F   C  \n",
       "29 27    F   C  \n",
       "30 42    F   C  "
      ]
     },
     "metadata": {},
     "output_type": "display_data"
    }
   ],
   "source": [
    "score=c(34,19,24,36,25,16,35,18,16,12,30,28,39,29,24,27,24,19,33,37,41,30,17,27,22,28,34,40,27,42)\n",
    "sex=c(\"M\",\"M\",\"M\",\"M\",\"M\",\"M\",\"M\",\"M\",\"M\",\"M\",\"M\",\"M\",\"M\",\"M\",\"M\",\"F\",\"F\",\"F\",\"F\",\"F\",\"F\",\"F\",\"F\",\"F\",\"F\",\"F\",\"F\",\"F\",\"F\",\"F\")\n",
    "fac=c(\"A\",\"A\",\"A\",\"A\",\"A\",\"B\",\"B\",\"B\",\"B\",\"B\",\"C\",\"C\",\"C\",\"C\",\"C\",\"A\",\"A\",\"A\",\"A\",\"A\",\"B\",\"B\",\"B\",\"B\",\"B\",\"C\",\"C\",\"C\",\"C\",\"C\")\n",
    "data=data.frame(score,sex,fac)\n",
    "data"
   ]
  },
  {
   "cell_type": "code",
   "execution_count": 48,
   "metadata": {},
   "outputs": [
    {
     "data": {
      "text/html": [
       "<table>\n",
       "<thead><tr><th></th><th scope=col>Df</th><th scope=col>Sum Sq</th><th scope=col>Mean Sq</th><th scope=col>F value</th><th scope=col>Pr(&gt;F)</th></tr></thead>\n",
       "<tbody>\n",
       "\t<tr><th scope=row>sex</th><td> 1        </td><td> 132.3000 </td><td>132.30000 </td><td>2.3203742 </td><td>0.14075845</td></tr>\n",
       "\t<tr><th scope=row>fac</th><td> 2        </td><td> 378.4667 </td><td>189.23333 </td><td>3.3189126 </td><td>0.05338751</td></tr>\n",
       "\t<tr><th scope=row>sex:fac</th><td> 2        </td><td>  72.2000 </td><td> 36.10000 </td><td>0.6331482 </td><td>0.53955517</td></tr>\n",
       "\t<tr><th scope=row>Residuals</th><td>24        </td><td>1368.4000 </td><td> 57.01667 </td><td>       NA </td><td>        NA</td></tr>\n",
       "</tbody>\n",
       "</table>\n"
      ],
      "text/latex": [
       "\\begin{tabular}{r|lllll}\n",
       "  & Df & Sum Sq & Mean Sq & F value & Pr(>F)\\\\\n",
       "\\hline\n",
       "\tsex &  1         &  132.3000  & 132.30000  & 2.3203742  & 0.14075845\\\\\n",
       "\tfac &  2         &  378.4667  & 189.23333  & 3.3189126  & 0.05338751\\\\\n",
       "\tsex:fac &  2         &   72.2000  &  36.10000  & 0.6331482  & 0.53955517\\\\\n",
       "\tResiduals & 24         & 1368.4000  &  57.01667  &        NA  &         NA\\\\\n",
       "\\end{tabular}\n"
      ],
      "text/markdown": [
       "\n",
       "| <!--/--> | Df | Sum Sq | Mean Sq | F value | Pr(>F) |\n",
       "|---|---|---|---|---|---|\n",
       "| sex |  1         |  132.3000  | 132.30000  | 2.3203742  | 0.14075845 |\n",
       "| fac |  2         |  378.4667  | 189.23333  | 3.3189126  | 0.05338751 |\n",
       "| sex:fac |  2         |   72.2000  |  36.10000  | 0.6331482  | 0.53955517 |\n",
       "| Residuals | 24         | 1368.4000  |  57.01667  |        NA  |         NA |\n",
       "\n"
      ],
      "text/plain": [
       "          Df Sum Sq    Mean Sq   F value   Pr(>F)    \n",
       "sex        1  132.3000 132.30000 2.3203742 0.14075845\n",
       "fac        2  378.4667 189.23333 3.3189126 0.05338751\n",
       "sex:fac    2   72.2000  36.10000 0.6331482 0.53955517\n",
       "Residuals 24 1368.4000  57.01667        NA         NA"
      ]
     },
     "metadata": {},
     "output_type": "display_data"
    }
   ],
   "source": [
    "anova(lm(score~sex*fac,data))#sex*facหมายถึงอิทธิพลร่วม"
   ]
  },
  {
   "cell_type": "code",
   "execution_count": 49,
   "metadata": {},
   "outputs": [
    {
     "name": "stdout",
     "output_type": "stream",
     "text": [
      "[1] \"Positive\"\n"
     ]
    }
   ],
   "source": [
    "x=3\n",
    "if (x>=0){\n",
    "    print(\"Positive\")\n",
    "} else {\n",
    "    print(\"Negative\")\n",
    "}"
   ]
  },
  {
   "cell_type": "code",
   "execution_count": 50,
   "metadata": {},
   "outputs": [
    {
     "name": "stdout",
     "output_type": "stream",
     "text": [
      "i = 1 \n",
      "i = 2 \n",
      "i = 3 \n",
      "i = 4 \n",
      "i = 5 \n"
     ]
    }
   ],
   "source": [
    "for (i in 1:5){\n",
    "    cat(\"i =\",i,\"\\n\") #cat same print\n",
    "}"
   ]
  },
  {
   "cell_type": "code",
   "execution_count": 51,
   "metadata": {},
   "outputs": [
    {
     "name": "stdout",
     "output_type": "stream",
     "text": [
      "i = 1 \n",
      "i = 2 \n",
      "i = 3 \n",
      "i = 4 \n",
      "i = 5 \n"
     ]
    }
   ],
   "source": [
    "i=0\n",
    "while(i<5){\n",
    "    i=i+1\n",
    "    cat(\"i =\",i,\"\\n\")\n",
    "}"
   ]
  },
  {
   "cell_type": "code",
   "execution_count": 52,
   "metadata": {},
   "outputs": [
    {
     "name": "stdout",
     "output_type": "stream",
     "text": [
      "mean = 15.35 \n",
      "sum = 307 \n",
      "sd = 8.928223 \n",
      "var = 79.71316 \n"
     ]
    }
   ],
   "source": [
    "#function\n",
    "Cal.Data=function(x) {\n",
    "    xbar=mean(x)\n",
    "    xsum=sum(x)\n",
    "    xsd=sd(x)\n",
    "    xvar=var(x)\n",
    "    \n",
    "    cat(\"mean =\",xbar,\"\\n\")\n",
    "    cat(\"sum =\",xsum,\"\\n\")\n",
    "    cat(\"sd =\",xsd,\"\\n\")\n",
    "    cat(\"var =\",xvar,\"\\n\")\n",
    "}\n",
    "Cal.Data(sample(1:30,20,replace=TRUE))"
   ]
  },
  {
   "cell_type": "code",
   "execution_count": 53,
   "metadata": {},
   "outputs": [
    {
     "data": {
      "text/html": [
       "12"
      ],
      "text/latex": [
       "12"
      ],
      "text/markdown": [
       "12"
      ],
      "text/plain": [
       "[1] 12"
      ]
     },
     "metadata": {},
     "output_type": "display_data"
    }
   ],
   "source": [
    "count10=function(x){\n",
    "    n=length(x)\n",
    "    count=0\n",
    "    for (i in 1:n){\n",
    "        if (x[i]>10){\n",
    "            count=count+1\n",
    "        }\n",
    "    }\n",
    "    return (count)\n",
    "}\n",
    "count10(sample(1:30,20,replace=TRUE))"
   ]
  },
  {
   "cell_type": "markdown",
   "metadata": {},
   "source": [
    "# CH2: การสำรวจข้อมูล และการมองภาพข้อมูล "
   ]
  },
  {
   "cell_type": "markdown",
   "metadata": {},
   "source": [
    "### การสำรวจข้อมูล "
   ]
  },
  {
   "cell_type": "code",
   "execution_count": 54,
   "metadata": {},
   "outputs": [
    {
     "data": {
      "image/png": "[encoded data removed]",
      "text/plain": [
       "Plot with title \"y=x^2\""
      ]
     },
     "metadata": {},
     "output_type": "display_data"
    }
   ],
   "source": [
    "x=1:100\n",
    "y=x^2\n",
    "plot(x,y,main=\"y=x^2\",xlab=\"Label of x\",ylab=\"Label of y\")"
   ]
  },
  {
   "cell_type": "code",
   "execution_count": 55,
   "metadata": {},
   "outputs": [
    {
     "data": {
      "image/png": "[encoded data removed]",
      "text/plain": [
       "Plot with title \"y=x^2\""
      ]
     },
     "metadata": {},
     "output_type": "display_data"
    }
   ],
   "source": [
    "plot(x,y,main=\"y=x^2\",xlab=\"Label of x\",ylab=\"Label of y\",type=\"l\")\n",
    "text(20,1500,\"y is x squared\")\n",
    "text(20,2000,expression(y==x^2))"
   ]
  },
  {
   "cell_type": "code",
   "execution_count": 56,
   "metadata": {},
   "outputs": [
    {
     "data": {
      "image/png": "[encoded data removed]",
      "text/plain": [
       "plot without title"
      ]
     },
     "metadata": {},
     "output_type": "display_data"
    }
   ],
   "source": [
    "k=c(2,1,4,3,1,2,5)\n",
    "boxplot(k)"
   ]
  },
  {
   "cell_type": "code",
   "execution_count": 57,
   "metadata": {},
   "outputs": [
    {
     "data": {
      "image/png": "[encoded data removed]",
      "text/plain": [
       "plot without title"
      ]
     },
     "metadata": {},
     "output_type": "display_data"
    }
   ],
   "source": [
    "boxplot(k,horizontal=TRUE)"
   ]
  },
  {
   "cell_type": "code",
   "execution_count": 58,
   "metadata": {},
   "outputs": [
    {
     "data": {
      "image/png": "[encoded data removed]",
      "text/plain": [
       "Plot with title \"Histogram of k\""
      ]
     },
     "metadata": {},
     "output_type": "display_data"
    }
   ],
   "source": [
    "hist(k)"
   ]
  },
  {
   "cell_type": "code",
   "execution_count": 59,
   "metadata": {},
   "outputs": [
    {
     "name": "stdout",
     "output_type": "stream",
     "text": [
      "\n",
      "  The decimal point is at the |\n",
      "\n",
      "   1 | 000\n",
      "   2 | 000\n",
      "   3 | 00000000\n",
      "   4 | 000\n",
      "   5 | 000\n",
      "   6 | 0\n",
      "   7 | 0\n",
      "   8 | 0\n",
      "   9 | 00\n",
      "  10 | 00000\n",
      "\n"
     ]
    }
   ],
   "source": [
    "x=sample(1:10,30,replace=TRUE)\n",
    "stem(x)"
   ]
  },
  {
   "cell_type": "code",
   "execution_count": 60,
   "metadata": {},
   "outputs": [
    {
     "data": {
      "image/png": "[encoded data removed]",
      "text/plain": [
       "plot without title"
      ]
     },
     "metadata": {},
     "output_type": "display_data"
    }
   ],
   "source": [
    "z=sample(1:6,10,replace=TRUE)\n",
    "pie(z)"
   ]
  },
  {
   "cell_type": "code",
   "execution_count": 61,
   "metadata": {},
   "outputs": [
    {
     "data": {
      "image/png": "[encoded data removed]",
      "text/plain": [
       "plot without title"
      ]
     },
     "metadata": {},
     "output_type": "display_data"
    }
   ],
   "source": [
    "x=1:12\n",
    "y1=x^2\n",
    "y2=x^3\n",
    "matplot(x,cbind(y1,y2))"
   ]
  },
  {
   "cell_type": "code",
   "execution_count": 62,
   "metadata": {},
   "outputs": [
    {
     "data": {
      "image/png": "[encoded data removed]",
      "text/plain": [
       "plot without title"
      ]
     },
     "metadata": {},
     "output_type": "display_data"
    }
   ],
   "source": [
    "matplot(x,cbind(y1,y2),type=\"l\")"
   ]
  },
  {
   "cell_type": "code",
   "execution_count": 63,
   "metadata": {},
   "outputs": [
    {
     "data": {
      "text/html": [
       "<table>\n",
       "<thead><tr><th scope=col>y1</th><th scope=col>y2</th></tr></thead>\n",
       "<tbody>\n",
       "\t<tr><td>  1 </td><td>   1</td></tr>\n",
       "\t<tr><td>  4 </td><td>   8</td></tr>\n",
       "\t<tr><td>  9 </td><td>  27</td></tr>\n",
       "\t<tr><td> 16 </td><td>  64</td></tr>\n",
       "\t<tr><td> 25 </td><td> 125</td></tr>\n",
       "\t<tr><td> 36 </td><td> 216</td></tr>\n",
       "\t<tr><td> 49 </td><td> 343</td></tr>\n",
       "\t<tr><td> 64 </td><td> 512</td></tr>\n",
       "\t<tr><td> 81 </td><td> 729</td></tr>\n",
       "\t<tr><td>100 </td><td>1000</td></tr>\n",
       "\t<tr><td>121 </td><td>1331</td></tr>\n",
       "\t<tr><td>144 </td><td>1728</td></tr>\n",
       "</tbody>\n",
       "</table>\n"
      ],
      "text/latex": [
       "\\begin{tabular}{ll}\n",
       " y1 & y2\\\\\n",
       "\\hline\n",
       "\t   1  &    1\\\\\n",
       "\t   4  &    8\\\\\n",
       "\t   9  &   27\\\\\n",
       "\t  16  &   64\\\\\n",
       "\t  25  &  125\\\\\n",
       "\t  36  &  216\\\\\n",
       "\t  49  &  343\\\\\n",
       "\t  64  &  512\\\\\n",
       "\t  81  &  729\\\\\n",
       "\t 100  & 1000\\\\\n",
       "\t 121  & 1331\\\\\n",
       "\t 144  & 1728\\\\\n",
       "\\end{tabular}\n"
      ],
      "text/markdown": [
       "\n",
       "| y1 | y2 |\n",
       "|---|---|\n",
       "|   1  |    1 |\n",
       "|   4  |    8 |\n",
       "|   9  |   27 |\n",
       "|  16  |   64 |\n",
       "|  25  |  125 |\n",
       "|  36  |  216 |\n",
       "|  49  |  343 |\n",
       "|  64  |  512 |\n",
       "|  81  |  729 |\n",
       "| 100  | 1000 |\n",
       "| 121  | 1331 |\n",
       "| 144  | 1728 |\n",
       "\n"
      ],
      "text/plain": [
       "      y1  y2  \n",
       " [1,]   1    1\n",
       " [2,]   4    8\n",
       " [3,]   9   27\n",
       " [4,]  16   64\n",
       " [5,]  25  125\n",
       " [6,]  36  216\n",
       " [7,]  49  343\n",
       " [8,]  64  512\n",
       " [9,]  81  729\n",
       "[10,] 100 1000\n",
       "[11,] 121 1331\n",
       "[12,] 144 1728"
      ]
     },
     "metadata": {},
     "output_type": "display_data"
    }
   ],
   "source": [
    "cbind(y1,y2)"
   ]
  },
  {
   "cell_type": "code",
   "execution_count": 64,
   "metadata": {},
   "outputs": [
    {
     "data": {
      "image/png": "[encoded data removed]",
      "text/plain": [
       "Plot with title \"Histogram of k\""
      ]
     },
     "metadata": {},
     "output_type": "display_data"
    }
   ],
   "source": [
    "par(mfrow=c(2,2)) #like subplot\n",
    "plot(y1,y2)\n",
    "matplot(x,cbind(y1,y2),type=\"l\")\n",
    "hist(k)\n",
    "boxplot(k)"
   ]
  },
  {
   "cell_type": "code",
   "execution_count": 65,
   "metadata": {},
   "outputs": [
    {
     "data": {
      "text/plain": [
       "value\n",
       "   1    2    3    4    5    6    7    8    9   10 \n",
       " 993 1053 1005 1012 1058  971  971  976  983  978 "
      ]
     },
     "metadata": {},
     "output_type": "display_data"
    }
   ],
   "source": [
    "value=sample(1:10,10000,replace=TRUE)\n",
    "table(value)"
   ]
  },
  {
   "cell_type": "markdown",
   "metadata": {},
   "source": [
    "### การมองภาพข้อมูล "
   ]
  },
  {
   "cell_type": "code",
   "execution_count": 66,
   "metadata": {},
   "outputs": [],
   "source": [
    "#install.packages(\"ggplot2\")"
   ]
  },
  {
   "cell_type": "code",
   "execution_count": 67,
   "metadata": {},
   "outputs": [
    {
     "data": {
      "text/html": [
       "<table>\n",
       "<thead><tr><th scope=col>Sepal.Length</th><th scope=col>Sepal.Width</th><th scope=col>Petal.Length</th><th scope=col>Petal.Width</th><th scope=col>Species</th></tr></thead>\n",
       "<tbody>\n",
       "\t<tr><td>5.1   </td><td>3.5   </td><td>1.4   </td><td>0.2   </td><td>setosa</td></tr>\n",
       "\t<tr><td>4.9   </td><td>3.0   </td><td>1.4   </td><td>0.2   </td><td>setosa</td></tr>\n",
       "\t<tr><td>4.7   </td><td>3.2   </td><td>1.3   </td><td>0.2   </td><td>setosa</td></tr>\n",
       "\t<tr><td>4.6   </td><td>3.1   </td><td>1.5   </td><td>0.2   </td><td>setosa</td></tr>\n",
       "\t<tr><td>5.0   </td><td>3.6   </td><td>1.4   </td><td>0.2   </td><td>setosa</td></tr>\n",
       "\t<tr><td>5.4   </td><td>3.9   </td><td>1.7   </td><td>0.4   </td><td>setosa</td></tr>\n",
       "</tbody>\n",
       "</table>\n"
      ],
      "text/latex": [
       "\\begin{tabular}{r|lllll}\n",
       " Sepal.Length & Sepal.Width & Petal.Length & Petal.Width & Species\\\\\n",
       "\\hline\n",
       "\t 5.1    & 3.5    & 1.4    & 0.2    & setosa\\\\\n",
       "\t 4.9    & 3.0    & 1.4    & 0.2    & setosa\\\\\n",
       "\t 4.7    & 3.2    & 1.3    & 0.2    & setosa\\\\\n",
       "\t 4.6    & 3.1    & 1.5    & 0.2    & setosa\\\\\n",
       "\t 5.0    & 3.6    & 1.4    & 0.2    & setosa\\\\\n",
       "\t 5.4    & 3.9    & 1.7    & 0.4    & setosa\\\\\n",
       "\\end{tabular}\n"
      ],
      "text/markdown": [
       "\n",
       "| Sepal.Length | Sepal.Width | Petal.Length | Petal.Width | Species |\n",
       "|---|---|---|---|---|\n",
       "| 5.1    | 3.5    | 1.4    | 0.2    | setosa |\n",
       "| 4.9    | 3.0    | 1.4    | 0.2    | setosa |\n",
       "| 4.7    | 3.2    | 1.3    | 0.2    | setosa |\n",
       "| 4.6    | 3.1    | 1.5    | 0.2    | setosa |\n",
       "| 5.0    | 3.6    | 1.4    | 0.2    | setosa |\n",
       "| 5.4    | 3.9    | 1.7    | 0.4    | setosa |\n",
       "\n"
      ],
      "text/plain": [
       "  Sepal.Length Sepal.Width Petal.Length Petal.Width Species\n",
       "1 5.1          3.5         1.4          0.2         setosa \n",
       "2 4.9          3.0         1.4          0.2         setosa \n",
       "3 4.7          3.2         1.3          0.2         setosa \n",
       "4 4.6          3.1         1.5          0.2         setosa \n",
       "5 5.0          3.6         1.4          0.2         setosa \n",
       "6 5.4          3.9         1.7          0.4         setosa "
      ]
     },
     "metadata": {},
     "output_type": "display_data"
    }
   ],
   "source": [
    "library(ggplot2)\n",
    "#data(iris)#in R Studio use View(iris)\n",
    "head(iris)"
   ]
  },
  {
   "cell_type": "code",
   "execution_count": 68,
   "metadata": {},
   "outputs": [
    {
     "data": {
      "image/png": "[encoded data removed]",
      "text/plain": [
       "plot without title"
      ]
     },
     "metadata": {},
     "output_type": "display_data"
    }
   ],
   "source": [
    "#bar plot\n",
    "bar<-ggplot(data=iris,aes(x=Species))\n",
    "bar+geom_bar()+xlab(\"Species\")+ylab(\"Count\")+ggtitle(\"Bar plot of Sepal Length\")"
   ]
  },
  {
   "cell_type": "code",
   "execution_count": 69,
   "metadata": {},
   "outputs": [
    {
     "data": {
      "image/png": "[encoded data removed]",
      "text/plain": [
       "plot without title"
      ]
     },
     "metadata": {},
     "output_type": "display_data"
    }
   ],
   "source": [
    "#pie chart\n",
    "quan<-as.vector(table(iris$Species))\n",
    "pos<-cumsum(quan)-quan/2\n",
    "quantity<-data.frame(Species=c(\"setosa\",\"versicolor\",\"virginica\"),quantity=quan,position=pos)\n",
    "pie=ggplot(iris,aes(x=factor(1),fill=Species))+geom_bar(width=1)+\n",
    "    geom_text(data=quantity,aes(x=factor(1),y=position,label=quantity),size=5)+\n",
    "    labs(x=\"\",y=\"\")\n",
    "pie"
   ]
  },
  {
   "cell_type": "code",
   "execution_count": 70,
   "metadata": {},
   "outputs": [
    {
     "data": {
      "image/png": "[encoded data removed]",
      "text/plain": [
       "plot without title"
      ]
     },
     "metadata": {},
     "output_type": "display_data"
    }
   ],
   "source": [
    "pie+coord_polar(theta=\"y\")"
   ]
  },
  {
   "cell_type": "code",
   "execution_count": 74,
   "metadata": {},
   "outputs": [
    {
     "data": {
      "text/html": [
       "<table>\n",
       "<thead><tr><th scope=col>Ozone</th><th scope=col>Solar.R</th><th scope=col>Wind</th><th scope=col>Temp</th><th scope=col>Month</th><th scope=col>Day</th></tr></thead>\n",
       "<tbody>\n",
       "\t<tr><td>41  </td><td>190 </td><td> 7.4</td><td>67  </td><td>5   </td><td>1   </td></tr>\n",
       "\t<tr><td>36  </td><td>118 </td><td> 8.0</td><td>72  </td><td>5   </td><td>2   </td></tr>\n",
       "\t<tr><td>12  </td><td>149 </td><td>12.6</td><td>74  </td><td>5   </td><td>3   </td></tr>\n",
       "\t<tr><td>18  </td><td>313 </td><td>11.5</td><td>62  </td><td>5   </td><td>4   </td></tr>\n",
       "\t<tr><td>NA  </td><td> NA </td><td>14.3</td><td>56  </td><td>5   </td><td>5   </td></tr>\n",
       "\t<tr><td>28  </td><td> NA </td><td>14.9</td><td>66  </td><td>5   </td><td>6   </td></tr>\n",
       "</tbody>\n",
       "</table>\n"
      ],
      "text/latex": [
       "\\begin{tabular}{r|llllll}\n",
       " Ozone & Solar.R & Wind & Temp & Month & Day\\\\\n",
       "\\hline\n",
       "\t 41   & 190  &  7.4 & 67   & 5    & 1   \\\\\n",
       "\t 36   & 118  &  8.0 & 72   & 5    & 2   \\\\\n",
       "\t 12   & 149  & 12.6 & 74   & 5    & 3   \\\\\n",
       "\t 18   & 313  & 11.5 & 62   & 5    & 4   \\\\\n",
       "\t NA   &  NA  & 14.3 & 56   & 5    & 5   \\\\\n",
       "\t 28   &  NA  & 14.9 & 66   & 5    & 6   \\\\\n",
       "\\end{tabular}\n"
      ],
      "text/markdown": [
       "\n",
       "| Ozone | Solar.R | Wind | Temp | Month | Day |\n",
       "|---|---|---|---|---|---|\n",
       "| 41   | 190  |  7.4 | 67   | 5    | 1    |\n",
       "| 36   | 118  |  8.0 | 72   | 5    | 2    |\n",
       "| 12   | 149  | 12.6 | 74   | 5    | 3    |\n",
       "| 18   | 313  | 11.5 | 62   | 5    | 4    |\n",
       "| NA   |  NA  | 14.3 | 56   | 5    | 5    |\n",
       "| 28   |  NA  | 14.9 | 66   | 5    | 6    |\n",
       "\n"
      ],
      "text/plain": [
       "  Ozone Solar.R Wind Temp Month Day\n",
       "1 41    190      7.4 67   5     1  \n",
       "2 36    118      8.0 72   5     2  \n",
       "3 12    149     12.6 74   5     3  \n",
       "4 18    313     11.5 62   5     4  \n",
       "5 NA     NA     14.3 56   5     5  \n",
       "6 28     NA     14.9 66   5     6  "
      ]
     },
     "metadata": {},
     "output_type": "display_data"
    }
   ],
   "source": [
    "head(airquality)"
   ]
  },
  {
   "cell_type": "code",
   "execution_count": 72,
   "metadata": {},
   "outputs": [
    {
     "data": {
      "image/png": "[encoded data removed]",
      "text/plain": [
       "plot without title"
      ]
     },
     "metadata": {},
     "output_type": "display_data"
    }
   ],
   "source": [
    "#line chart\n",
    "airquality<-subset(airquality,Month==5)\n",
    "ggplot(airquality,aes(x=Day,y=Temp))+geom_line(aes(colour=\"smooth\"),show.legend=FALSE)+\n",
    "    ggtitle(\"Daily Temperature\")"
   ]
  },
  {
   "cell_type": "code",
   "execution_count": 73,
   "metadata": {},
   "outputs": [
    {
     "data": {
      "image/png": "[encoded data removed]",
      "text/plain": [
       "plot without title"
      ]
     },
     "metadata": {},
     "output_type": "display_data"
    }
   ],
   "source": [
    "#scatter\n",
    "scatter=ggplot(data=iris,aes(x=Sepal.Length,y=Sepal.Width))\n",
    "scatter+geom_point(aes(color=Species,shape=Species))+xlab(\"Sepal Length\")+\n",
    "    ylab(\"Sepal Width\")+ggtitle(\"Sepal Length+Width\")"
   ]
  },
  {
   "cell_type": "code",
   "execution_count": 75,
   "metadata": {},
   "outputs": [
    {
     "data": {
      "image/png": "[encoded data removed]",
      "text/plain": [
       "plot without title"
      ]
     },
     "metadata": {},
     "output_type": "display_data"
    }
   ],
   "source": [
    "#box plot\n",
    "box<-ggplot(data=iris,aes(x=Species,y=Sepal.Length))\n",
    "box+geom_boxplot(aes(fill=Species))+ylab(\"Sepal Length\")+ggtitle(\"Iris Boxplot\")"
   ]
  },
  {
   "cell_type": "code",
   "execution_count": 76,
   "metadata": {},
   "outputs": [
    {
     "data": {
      "image/png": "[encoded data removed]",
      "text/plain": [
       "plot without title"
      ]
     },
     "metadata": {},
     "output_type": "display_data"
    }
   ],
   "source": [
    "box+geom_violin(aes(fill=Species))+ylab(\"Sepal Length\")+ggtitle(\"Iris Boxplot\")"
   ]
  },
  {
   "cell_type": "code",
   "execution_count": 79,
   "metadata": {},
   "outputs": [
    {
     "data": {
      "image/png": "[encoded data removed]",
      "text/plain": [
       "plot without title"
      ]
     },
     "metadata": {},
     "output_type": "display_data"
    }
   ],
   "source": [
    "#histrogram\n",
    "histrogram<-ggplot(data=iris,aes(x=Sepal.Width))\n",
    "histrogram+geom_histogram(binwidth=0.2,color=\"black\",aes(fill=Species))+\n",
    "    xlab(\"Sepal Width\")+ylab(\"Frequency\")+ggtitle(\"Histogram of Sepal Width\")"
   ]
  },
  {
   "cell_type": "markdown",
   "metadata": {},
   "source": [
    "## CH3: การวิเคราะห์ความสัมพันธ์จากข้อมูลขนาดใหญ่"
   ]
  },
  {
   "cell_type": "code",
   "execution_count": 80,
   "metadata": {},
   "outputs": [
    {
     "name": "stdout",
     "output_type": "stream",
     "text": [
      "package 'arules' successfully unpacked and MD5 sums checked\n",
      "\n",
      "The downloaded binary packages are in\n",
      "\tC:\\Users\\User\\AppData\\Local\\Temp\\Rtmp6ddqIz\\downloaded_packages\n"
     ]
    }
   ],
   "source": [
    "#install.packages(\"arules\")"
   ]
  },
  {
   "cell_type": "code",
   "execution_count": 82,
   "metadata": {},
   "outputs": [
    {
     "name": "stderr",
     "output_type": "stream",
     "text": [
      "also installing the dependencies 'gridExtra', 'bitops', 'viridis', 'gtools', 'gdata', 'caTools', 'lmtest', 'TSP', 'qap', 'gclus', 'dendextend', 'gplots', 'registry', 'crosstalk', 'scatterplot3d', 'vcd', 'seriation', 'igraph', 'DT', 'plotly', 'visNetwork'\n",
      "\n"
     ]
    },
    {
     "name": "stdout",
     "output_type": "stream",
     "text": [
      "package 'gridExtra' successfully unpacked and MD5 sums checked\n",
      "package 'bitops' successfully unpacked and MD5 sums checked\n",
      "package 'viridis' successfully unpacked and MD5 sums checked\n",
      "package 'gtools' successfully unpacked and MD5 sums checked\n",
      "package 'gdata' successfully unpacked and MD5 sums checked\n",
      "package 'caTools' successfully unpacked and MD5 sums checked\n",
      "package 'lmtest' successfully unpacked and MD5 sums checked\n",
      "package 'TSP' successfully unpacked and MD5 sums checked\n",
      "package 'qap' successfully unpacked and MD5 sums checked\n",
      "package 'gclus' successfully unpacked and MD5 sums checked\n",
      "package 'dendextend' successfully unpacked and MD5 sums checked\n",
      "package 'gplots' successfully unpacked and MD5 sums checked\n",
      "package 'registry' successfully unpacked and MD5 sums checked\n",
      "package 'crosstalk' successfully unpacked and MD5 sums checked\n",
      "package 'scatterplot3d' successfully unpacked and MD5 sums checked\n",
      "package 'vcd' successfully unpacked and MD5 sums checked\n",
      "package 'seriation' successfully unpacked and MD5 sums checked\n",
      "package 'igraph' successfully unpacked and MD5 sums checked\n",
      "package 'DT' successfully unpacked and MD5 sums checked\n",
      "package 'plotly' successfully unpacked and MD5 sums checked\n",
      "package 'visNetwork' successfully unpacked and MD5 sums checked\n",
      "package 'arulesViz' successfully unpacked and MD5 sums checked\n",
      "\n",
      "The downloaded binary packages are in\n",
      "\tC:\\Users\\User\\AppData\\Local\\Temp\\Rtmp6ddqIz\\downloaded_packages\n"
     ]
    }
   ],
   "source": [
    "#install.packages(\"arulesViz\")"
   ]
  },
  {
   "cell_type": "code",
   "execution_count": 83,
   "metadata": {},
   "outputs": [
    {
     "name": "stderr",
     "output_type": "stream",
     "text": [
      "Warning message:\n",
      "\"package 'arules' was built under R version 3.6.3\"Loading required package: Matrix\n",
      "\n",
      "Attaching package: 'arules'\n",
      "\n",
      "The following objects are masked from 'package:base':\n",
      "\n",
      "    abbreviate, write\n",
      "\n",
      "Warning message:\n",
      "\"package 'arulesViz' was built under R version 3.6.3\"Loading required package: grid\n",
      "Registered S3 method overwritten by 'seriation':\n",
      "  method         from \n",
      "  reorder.hclust gclus\n"
     ]
    }
   ],
   "source": [
    "library(arules)\n",
    "library(arulesViz)"
   ]
  },
  {
   "cell_type": "code",
   "execution_count": 86,
   "metadata": {},
   "outputs": [
    {
     "data": {
      "text/plain": [
       "transactions in sparse format with\n",
       " 10 transactions (rows) and\n",
       " 5 items (columns)"
      ]
     },
     "metadata": {},
     "output_type": "display_data"
    }
   ],
   "source": [
    "tdata=read.transactions(\"datatest.csv\",sep=\",\")\n",
    "tdata"
   ]
  },
  {
   "cell_type": "code",
   "execution_count": 87,
   "metadata": {},
   "outputs": [
    {
     "name": "stdout",
     "output_type": "stream",
     "text": [
      "Apriori\n",
      "\n",
      "Parameter specification:\n",
      " confidence minval smax arem  aval originalSupport maxtime support minlen\n",
      "        0.7    0.1    1 none FALSE            TRUE       5     0.4      2\n",
      " maxlen target  ext\n",
      "     10  rules TRUE\n",
      "\n",
      "Algorithmic control:\n",
      " filter tree heap memopt load sort verbose\n",
      "    0.1 TRUE TRUE  FALSE TRUE    2    TRUE\n",
      "\n",
      "Absolute minimum support count: 4 \n",
      "\n",
      "set item appearances ...[0 item(s)] done [0.00s].\n",
      "set transactions ...[5 item(s), 10 transaction(s)] done [0.00s].\n",
      "sorting and recoding items ... [5 item(s)] done [0.00s].\n",
      "creating transaction tree ... done [0.00s].\n",
      "checking subsets of size 1 2 3 done [0.00s].\n",
      "writing ... [4 rule(s)] done [0.00s].\n",
      "creating S4 object  ... done [0.00s].\n"
     ]
    }
   ],
   "source": [
    "rules=apriori(tdata,parameter=list(supp=0.4,conf=0.7,minlen=2))"
   ]
  },
  {
   "cell_type": "code",
   "execution_count": 88,
   "metadata": {},
   "outputs": [
    {
     "data": {
      "text/plain": [
       "set of 4 rules\n",
       "\n",
       "rule length distribution (lhs + rhs):sizes\n",
       "2 \n",
       "4 \n",
       "\n",
       "   Min. 1st Qu.  Median    Mean 3rd Qu.    Max. \n",
       "      2       2       2       2       2       2 \n",
       "\n",
       "summary of quality measures:\n",
       "    support        confidence        coverage          lift       \n",
       " Min.   :0.400   Min.   :0.7143   Min.   :0.400   Min.   :0.8929  \n",
       " 1st Qu.:0.475   1st Qu.:0.7143   1st Qu.:0.475   1st Qu.:1.1607  \n",
       " Median :0.500   Median :0.8571   Median :0.600   Median :1.3393  \n",
       " Mean   :0.475   Mean   :0.8571   Mean   :0.575   Mean   :1.2500  \n",
       " 3rd Qu.:0.500   3rd Qu.:1.0000   3rd Qu.:0.700   3rd Qu.:1.4286  \n",
       " Max.   :0.500   Max.   :1.0000   Max.   :0.700   Max.   :1.4286  \n",
       "     count     \n",
       " Min.   :4.00  \n",
       " 1st Qu.:4.75  \n",
       " Median :5.00  \n",
       " Mean   :4.75  \n",
       " 3rd Qu.:5.00  \n",
       " Max.   :5.00  \n",
       "\n",
       "mining info:\n",
       "  data ntransactions support confidence\n",
       " tdata            10     0.4        0.7"
      ]
     },
     "metadata": {},
     "output_type": "display_data"
    }
   ],
   "source": [
    "summary(rules)"
   ]
  },
  {
   "cell_type": "code",
   "execution_count": 89,
   "metadata": {},
   "outputs": [
    {
     "name": "stdout",
     "output_type": "stream",
     "text": [
      "    lhs         rhs       support confidence coverage lift      count\n",
      "[1] {Beer}   => {Diapers} 0.4     1.0000000  0.4      1.2500000 4    \n",
      "[2] {Butter} => {Bread}   0.5     1.0000000  0.5      1.4285714 5    \n",
      "[3] {Bread}  => {Butter}  0.5     0.7142857  0.7      1.4285714 5    \n",
      "[4] {Bread}  => {Diapers} 0.5     0.7142857  0.7      0.8928571 5    \n"
     ]
    }
   ],
   "source": [
    "inspect(rules)"
   ]
  },
  {
   "cell_type": "code",
   "execution_count": 92,
   "metadata": {},
   "outputs": [
    {
     "name": "stdout",
     "output_type": "stream",
     "text": [
      "    lhs         rhs       support confidence coverage lift      count\n",
      "[1] {Butter} => {Bread}   0.5     1.0000000  0.5      1.4285714 5    \n",
      "[2] {Bread}  => {Butter}  0.5     0.7142857  0.7      1.4285714 5    \n",
      "[3] {Beer}   => {Diapers} 0.4     1.0000000  0.4      1.2500000 4    \n",
      "[4] {Bread}  => {Diapers} 0.5     0.7142857  0.7      0.8928571 5    \n"
     ]
    }
   ],
   "source": [
    "rule.sorted=sort(rules,by=\"lift\")\n",
    "inspect(rule.sorted)"
   ]
  },
  {
   "cell_type": "code",
   "execution_count": 93,
   "metadata": {},
   "outputs": [
    {
     "name": "stderr",
     "output_type": "stream",
     "text": [
      "To reduce overplotting, jitter is added! Use jitter = 0 to prevent jitter.\n"
     ]
    },
    {
     "data": {
      "image/png": "[encoded data removed]",
      "text/plain": [
       "plot without title"
      ]
     },
     "metadata": {},
     "output_type": "display_data"
    }
   ],
   "source": [
    "plot(rules)"
   ]
  },
  {
   "cell_type": "code",
   "execution_count": 95,
   "metadata": {},
   "outputs": [],
   "source": [
    "#plot(rules,engine=\"interactive\") #cant use in jupyter"
   ]
  },
  {
   "cell_type": "code",
   "execution_count": 98,
   "metadata": {},
   "outputs": [
    {
     "data": {
      "image/png": "[encoded data removed]",
      "text/plain": [
       "Plot with title \"Graph for 4 rules\""
      ]
     },
     "metadata": {},
     "output_type": "display_data"
    }
   ],
   "source": [
    "plot(rules,method=\"graph\")\n",
    "#ขนาดของวงกลมจะแสดงค่าของ support ถ้าขนาดของวงกลมมากค่าของ support ก็จะมาก\n",
    "#ส่วนความเข้มสีของวงกลม ถ้าสีเข้มมากถ้าของ lift ก็จะมากถ้าสีเข้มน้อยค่าของ lift ก็จะน้อย"
   ]
  },
  {
   "cell_type": "markdown",
   "metadata": {},
   "source": [
    "# CH4: การจำแนกกลุ่มข้อมูล"
   ]
  },
  {
   "cell_type": "markdown",
   "metadata": {},
   "source": [
    "### ต้นไม้ตัดสินใจ"
   ]
  },
  {
   "cell_type": "code",
   "execution_count": 103,
   "metadata": {},
   "outputs": [
    {
     "name": "stdout",
     "output_type": "stream",
     "text": [
      "package 'rpart.plot' successfully unpacked and MD5 sums checked\n",
      "\n",
      "The downloaded binary packages are in\n",
      "\tC:\\Users\\User\\AppData\\Local\\Temp\\Rtmp6ddqIz\\downloaded_packages\n"
     ]
    }
   ],
   "source": [
    "#install.packages(\"e1071\")\n",
    "#install.packages(\"rpart.plot\")"
   ]
  },
  {
   "cell_type": "code",
   "execution_count": 104,
   "metadata": {},
   "outputs": [
    {
     "name": "stderr",
     "output_type": "stream",
     "text": [
      "Warning message:\n",
      "\"package 'rpart.plot' was built under R version 3.6.3\""
     ]
    }
   ],
   "source": [
    "library(dplyr)\n",
    "library(caret)\n",
    "library(e1071)\n",
    "library(rpart)\n",
    "library(rpart.plot)\n",
    "library(RColorBrewer)"
   ]
  },
  {
   "cell_type": "code",
   "execution_count": 111,
   "metadata": {},
   "outputs": [
    {
     "data": {
      "text/html": [
       "<table>\n",
       "<thead><tr><th scope=col>class</th><th scope=col>cap.shape</th><th scope=col>cap.surface</th><th scope=col>cap.color</th><th scope=col>bruises</th><th scope=col>odor</th><th scope=col>gill.attachment</th><th scope=col>gill.spacing</th><th scope=col>gill.size</th><th scope=col>gill.color</th><th scope=col>...</th><th scope=col>stalk.surface.below.ring</th><th scope=col>stalk.color.above.ring</th><th scope=col>stalk.color.below.ring</th><th scope=col>veil.type</th><th scope=col>veil.color</th><th scope=col>ring.number</th><th scope=col>ring.type</th><th scope=col>spore.print.color</th><th scope=col>population</th><th scope=col>habitat</th></tr></thead>\n",
       "<tbody>\n",
       "\t<tr><td>p  </td><td>x  </td><td>s  </td><td>n  </td><td>t  </td><td>p  </td><td>f  </td><td>c  </td><td>n  </td><td>k  </td><td>...</td><td>s  </td><td>w  </td><td>w  </td><td>p  </td><td>w  </td><td>o  </td><td>p  </td><td>k  </td><td>s  </td><td>u  </td></tr>\n",
       "\t<tr><td>e  </td><td>x  </td><td>s  </td><td>y  </td><td>t  </td><td>a  </td><td>f  </td><td>c  </td><td>b  </td><td>k  </td><td>...</td><td>s  </td><td>w  </td><td>w  </td><td>p  </td><td>w  </td><td>o  </td><td>p  </td><td>n  </td><td>n  </td><td>g  </td></tr>\n",
       "\t<tr><td>e  </td><td>b  </td><td>s  </td><td>w  </td><td>t  </td><td>l  </td><td>f  </td><td>c  </td><td>b  </td><td>n  </td><td>...</td><td>s  </td><td>w  </td><td>w  </td><td>p  </td><td>w  </td><td>o  </td><td>p  </td><td>n  </td><td>n  </td><td>m  </td></tr>\n",
       "\t<tr><td>p  </td><td>x  </td><td>y  </td><td>w  </td><td>t  </td><td>p  </td><td>f  </td><td>c  </td><td>n  </td><td>n  </td><td>...</td><td>s  </td><td>w  </td><td>w  </td><td>p  </td><td>w  </td><td>o  </td><td>p  </td><td>k  </td><td>s  </td><td>u  </td></tr>\n",
       "\t<tr><td>e  </td><td>x  </td><td>s  </td><td>g  </td><td>f  </td><td>n  </td><td>f  </td><td>w  </td><td>b  </td><td>k  </td><td>...</td><td>s  </td><td>w  </td><td>w  </td><td>p  </td><td>w  </td><td>o  </td><td>e  </td><td>n  </td><td>a  </td><td>g  </td></tr>\n",
       "\t<tr><td>e  </td><td>x  </td><td>y  </td><td>y  </td><td>t  </td><td>a  </td><td>f  </td><td>c  </td><td>b  </td><td>n  </td><td>...</td><td>s  </td><td>w  </td><td>w  </td><td>p  </td><td>w  </td><td>o  </td><td>p  </td><td>k  </td><td>n  </td><td>g  </td></tr>\n",
       "</tbody>\n",
       "</table>\n"
      ],
      "text/latex": [
       "\\begin{tabular}{r|lllllllllllllllllllllll}\n",
       " class & cap.shape & cap.surface & cap.color & bruises & odor & gill.attachment & gill.spacing & gill.size & gill.color & ... & stalk.surface.below.ring & stalk.color.above.ring & stalk.color.below.ring & veil.type & veil.color & ring.number & ring.type & spore.print.color & population & habitat\\\\\n",
       "\\hline\n",
       "\t p   & x   & s   & n   & t   & p   & f   & c   & n   & k   & ... & s   & w   & w   & p   & w   & o   & p   & k   & s   & u  \\\\\n",
       "\t e   & x   & s   & y   & t   & a   & f   & c   & b   & k   & ... & s   & w   & w   & p   & w   & o   & p   & n   & n   & g  \\\\\n",
       "\t e   & b   & s   & w   & t   & l   & f   & c   & b   & n   & ... & s   & w   & w   & p   & w   & o   & p   & n   & n   & m  \\\\\n",
       "\t p   & x   & y   & w   & t   & p   & f   & c   & n   & n   & ... & s   & w   & w   & p   & w   & o   & p   & k   & s   & u  \\\\\n",
       "\t e   & x   & s   & g   & f   & n   & f   & w   & b   & k   & ... & s   & w   & w   & p   & w   & o   & e   & n   & a   & g  \\\\\n",
       "\t e   & x   & y   & y   & t   & a   & f   & c   & b   & n   & ... & s   & w   & w   & p   & w   & o   & p   & k   & n   & g  \\\\\n",
       "\\end{tabular}\n"
      ],
      "text/markdown": [
       "\n",
       "| class | cap.shape | cap.surface | cap.color | bruises | odor | gill.attachment | gill.spacing | gill.size | gill.color | ... | stalk.surface.below.ring | stalk.color.above.ring | stalk.color.below.ring | veil.type | veil.color | ring.number | ring.type | spore.print.color | population | habitat |\n",
       "|---|---|---|---|---|---|---|---|---|---|---|---|---|---|---|---|---|---|---|---|---|\n",
       "| p   | x   | s   | n   | t   | p   | f   | c   | n   | k   | ... | s   | w   | w   | p   | w   | o   | p   | k   | s   | u   |\n",
       "| e   | x   | s   | y   | t   | a   | f   | c   | b   | k   | ... | s   | w   | w   | p   | w   | o   | p   | n   | n   | g   |\n",
       "| e   | b   | s   | w   | t   | l   | f   | c   | b   | n   | ... | s   | w   | w   | p   | w   | o   | p   | n   | n   | m   |\n",
       "| p   | x   | y   | w   | t   | p   | f   | c   | n   | n   | ... | s   | w   | w   | p   | w   | o   | p   | k   | s   | u   |\n",
       "| e   | x   | s   | g   | f   | n   | f   | w   | b   | k   | ... | s   | w   | w   | p   | w   | o   | e   | n   | a   | g   |\n",
       "| e   | x   | y   | y   | t   | a   | f   | c   | b   | n   | ... | s   | w   | w   | p   | w   | o   | p   | k   | n   | g   |\n",
       "\n"
      ],
      "text/plain": [
       "  class cap.shape cap.surface cap.color bruises odor gill.attachment\n",
       "1 p     x         s           n         t       p    f              \n",
       "2 e     x         s           y         t       a    f              \n",
       "3 e     b         s           w         t       l    f              \n",
       "4 p     x         y           w         t       p    f              \n",
       "5 e     x         s           g         f       n    f              \n",
       "6 e     x         y           y         t       a    f              \n",
       "  gill.spacing gill.size gill.color ... stalk.surface.below.ring\n",
       "1 c            n         k          ... s                       \n",
       "2 c            b         k          ... s                       \n",
       "3 c            b         n          ... s                       \n",
       "4 c            n         n          ... s                       \n",
       "5 w            b         k          ... s                       \n",
       "6 c            b         n          ... s                       \n",
       "  stalk.color.above.ring stalk.color.below.ring veil.type veil.color\n",
       "1 w                      w                      p         w         \n",
       "2 w                      w                      p         w         \n",
       "3 w                      w                      p         w         \n",
       "4 w                      w                      p         w         \n",
       "5 w                      w                      p         w         \n",
       "6 w                      w                      p         w         \n",
       "  ring.number ring.type spore.print.color population habitat\n",
       "1 o           p         k                 s          u      \n",
       "2 o           p         n                 n          g      \n",
       "3 o           p         n                 n          m      \n",
       "4 o           p         k                 s          u      \n",
       "5 o           e         n                 a          g      \n",
       "6 o           p         k                 n          g      "
      ]
     },
     "metadata": {},
     "output_type": "display_data"
    }
   ],
   "source": [
    "mushroom=read.csv(\"mushrooms.csv\")\n",
    "head(mushroom)"
   ]
  },
  {
   "cell_type": "code",
   "execution_count": 112,
   "metadata": {},
   "outputs": [
    {
     "data": {
      "text/html": [
       "<ol class=list-inline>\n",
       "\t<li>8124</li>\n",
       "\t<li>23</li>\n",
       "</ol>\n"
      ],
      "text/latex": [
       "\\begin{enumerate*}\n",
       "\\item 8124\n",
       "\\item 23\n",
       "\\end{enumerate*}\n"
      ],
      "text/markdown": [
       "1. 8124\n",
       "2. 23\n",
       "\n",
       "\n"
      ],
      "text/plain": [
       "[1] 8124   23"
      ]
     },
     "metadata": {},
     "output_type": "display_data"
    }
   ],
   "source": [
    "mushroom %>% dim()"
   ]
  },
  {
   "cell_type": "code",
   "execution_count": 113,
   "metadata": {},
   "outputs": [
    {
     "data": {
      "text/plain": [
       "\n",
       "   e    p \n",
       "4208 3916 "
      ]
     },
     "metadata": {},
     "output_type": "display_data"
    }
   ],
   "source": [
    "table(mushroom$class)"
   ]
  },
  {
   "cell_type": "code",
   "execution_count": 114,
   "metadata": {},
   "outputs": [],
   "source": [
    "set.seed(123)\n",
    "index=sample(1:nrow(mushroom),0.8*nrow(mushroom),replace=FALSE)\n",
    "train_set=mushroom[index,]\n",
    "test_set=mushroom[-index,]"
   ]
  },
  {
   "cell_type": "code",
   "execution_count": 116,
   "metadata": {},
   "outputs": [
    {
     "name": "stdout",
     "output_type": "stream",
     "text": [
      "n= 6499 \n",
      "\n",
      "node), split, n, loss, yval, (yprob)\n",
      "      * denotes terminal node\n",
      "\n",
      "1) root 6499 3155 e (0.51454070 0.48545930)  \n",
      "  2) odor=a,l,n 3440   96 e (0.97209302 0.02790698) *\n",
      "  3) odor=c,f,m,p,s,y 3059    0 p (0.00000000 1.00000000) *\n"
     ]
    }
   ],
   "source": [
    "set.seed(123)\n",
    "tree_train=rpart(class~.,data=train_set,method=\"class\",control=rpart.control(minsplit=1,\n",
    "                                                                            minbucket=1,cp=0.05))\n",
    "print(tree_train)"
   ]
  },
  {
   "cell_type": "code",
   "execution_count": 117,
   "metadata": {},
   "outputs": [
    {
     "name": "stdout",
     "output_type": "stream",
     "text": [
      "Call:\n",
      "rpart(formula = class ~ ., data = train_set, method = \"class\", \n",
      "    control = rpart.control(minsplit = 1, minbucket = 1, cp = 0.05))\n",
      "  n= 6499 \n",
      "\n",
      "         CP nsplit  rel error     xerror        xstd\n",
      "1 0.9695721      0 1.00000000 1.00000000 0.012770567\n",
      "2 0.0500000      1 0.03042789 0.03042789 0.003082512\n",
      "\n",
      "Variable importance\n",
      "                    odor        spore.print.color               gill.color \n",
      "                      26                       18                       15 \n",
      "stalk.surface.above.ring                ring.type stalk.surface.below.ring \n",
      "                      14                       14                       14 \n",
      "\n",
      "Node number 1: 6499 observations,    complexity param=0.9695721\n",
      "  predicted class=e  expected loss=0.4854593  P(node) =1\n",
      "    class counts:  3344  3155\n",
      "   probabilities: 0.515 0.485 \n",
      "  left son=2 (3440 obs) right son=3 (3059 obs)\n",
      "  Primary splits:\n",
      "      odor                     splits as  LRRLRLRRR,    improve=3060.110, (0 missing)\n",
      "      spore.print.color        splits as  LRLLLRLRL,    improve=1757.867, (0 missing)\n",
      "      gill.color               splits as  RLRRLLLLRLLL, improve=1247.353, (0 missing)\n",
      "      stalk.surface.above.ring splits as  LRLL,         improve=1120.376, (0 missing)\n",
      "      stalk.surface.below.ring splits as  LRLL,         improve=1054.844, (0 missing)\n",
      "  Surrogate splits:\n",
      "      spore.print.color        splits as  LRLLLLLRL,    agree=0.862, adj=0.707, (0 split)\n",
      "      gill.color               splits as  RLRRLLLLLLLL, agree=0.812, adj=0.600, (0 split)\n",
      "      stalk.surface.above.ring splits as  LRLL,         agree=0.781, adj=0.535, (0 split)\n",
      "      ring.type                splits as  RLRRL,        agree=0.780, adj=0.533, (0 split)\n",
      "      stalk.surface.below.ring splits as  LRLL,         agree=0.779, adj=0.530, (0 split)\n",
      "\n",
      "Node number 2: 3440 observations\n",
      "  predicted class=e  expected loss=0.02790698  P(node) =0.5293122\n",
      "    class counts:  3344    96\n",
      "   probabilities: 0.972 0.028 \n",
      "\n",
      "Node number 3: 3059 observations\n",
      "  predicted class=p  expected loss=0  P(node) =0.4706878\n",
      "    class counts:     0  3059\n",
      "   probabilities: 0.000 1.000 \n",
      "\n"
     ]
    }
   ],
   "source": [
    "summary(tree_train)"
   ]
  },
  {
   "cell_type": "code",
   "execution_count": 119,
   "metadata": {},
   "outputs": [
    {
     "data": {
      "image/png": "[encoded data removed]",
      "text/plain": [
       "plot without title"
      ]
     },
     "metadata": {},
     "output_type": "display_data"
    }
   ],
   "source": [
    "rpart.plot(tree_train,box.palette=\"RdBu\",shadow.col=\"gray\",nn=TRUE)"
   ]
  },
  {
   "cell_type": "code",
   "execution_count": 120,
   "metadata": {},
   "outputs": [
    {
     "data": {
      "text/plain": [
       "Confusion Matrix and Statistics\n",
       "\n",
       "          Reference\n",
       "Prediction    e    p\n",
       "         e 3344   96\n",
       "         p    0 3059\n",
       "                                        \n",
       "               Accuracy : 0.9852        \n",
       "                 95% CI : (0.982, 0.988)\n",
       "    No Information Rate : 0.5145        \n",
       "    P-Value [Acc > NIR] : < 2.2e-16     \n",
       "                                        \n",
       "                  Kappa : 0.9704        \n",
       "                                        \n",
       " Mcnemar's Test P-Value : < 2.2e-16     \n",
       "                                        \n",
       "            Sensitivity : 1.0000        \n",
       "            Specificity : 0.9696        \n",
       "         Pos Pred Value : 0.9721        \n",
       "         Neg Pred Value : 1.0000        \n",
       "             Prevalence : 0.5145        \n",
       "         Detection Rate : 0.5145        \n",
       "   Detection Prevalence : 0.5293        \n",
       "      Balanced Accuracy : 0.9848        \n",
       "                                        \n",
       "       'Positive' Class : e             \n",
       "                                        "
      ]
     },
     "metadata": {},
     "output_type": "display_data"
    }
   ],
   "source": [
    "confusionMatrix(data=predict(tree_train,type=\"class\"),reference=train_set$class,\n",
    "               positive=\"e\")"
   ]
  },
  {
   "cell_type": "code",
   "execution_count": 124,
   "metadata": {},
   "outputs": [
    {
     "data": {
      "text/html": [
       "<table>\n",
       "<thead><tr><th></th><th scope=col>e</th><th scope=col>p</th></tr></thead>\n",
       "<tbody>\n",
       "\t<tr><th scope=row>3</th><td>0.972093  </td><td>0.02790698</td></tr>\n",
       "\t<tr><th scope=row>8</th><td>0.972093  </td><td>0.02790698</td></tr>\n",
       "\t<tr><th scope=row>10</th><td>0.972093  </td><td>0.02790698</td></tr>\n",
       "\t<tr><th scope=row>12</th><td>0.972093  </td><td>0.02790698</td></tr>\n",
       "\t<tr><th scope=row>14</th><td>0.000000  </td><td>1.00000000</td></tr>\n",
       "\t<tr><th scope=row>15</th><td>0.972093  </td><td>0.02790698</td></tr>\n",
       "</tbody>\n",
       "</table>\n"
      ],
      "text/latex": [
       "\\begin{tabular}{r|ll}\n",
       "  & e & p\\\\\n",
       "\\hline\n",
       "\t3 & 0.972093   & 0.02790698\\\\\n",
       "\t8 & 0.972093   & 0.02790698\\\\\n",
       "\t10 & 0.972093   & 0.02790698\\\\\n",
       "\t12 & 0.972093   & 0.02790698\\\\\n",
       "\t14 & 0.000000   & 1.00000000\\\\\n",
       "\t15 & 0.972093   & 0.02790698\\\\\n",
       "\\end{tabular}\n"
      ],
      "text/markdown": [
       "\n",
       "| <!--/--> | e | p |\n",
       "|---|---|---|\n",
       "| 3 | 0.972093   | 0.02790698 |\n",
       "| 8 | 0.972093   | 0.02790698 |\n",
       "| 10 | 0.972093   | 0.02790698 |\n",
       "| 12 | 0.972093   | 0.02790698 |\n",
       "| 14 | 0.000000   | 1.00000000 |\n",
       "| 15 | 0.972093   | 0.02790698 |\n",
       "\n"
      ],
      "text/plain": [
       "   e        p         \n",
       "3  0.972093 0.02790698\n",
       "8  0.972093 0.02790698\n",
       "10 0.972093 0.02790698\n",
       "12 0.972093 0.02790698\n",
       "14 0.000000 1.00000000\n",
       "15 0.972093 0.02790698"
      ]
     },
     "metadata": {},
     "output_type": "display_data"
    }
   ],
   "source": [
    "tree_test=predict(tree_train,newdata=test_set)\n",
    "head(tree_test)"
   ]
  },
  {
   "cell_type": "code",
   "execution_count": 123,
   "metadata": {},
   "outputs": [
    {
     "data": {
      "text/plain": [
       "Confusion Matrix and Statistics\n",
       "\n",
       "          Reference\n",
       "Prediction   e   p\n",
       "         e 864  24\n",
       "         p   0 737\n",
       "                                          \n",
       "               Accuracy : 0.9852          \n",
       "                 95% CI : (0.9781, 0.9905)\n",
       "    No Information Rate : 0.5317          \n",
       "    P-Value [Acc > NIR] : < 2.2e-16       \n",
       "                                          \n",
       "                  Kappa : 0.9703          \n",
       "                                          \n",
       " Mcnemar's Test P-Value : 2.668e-06       \n",
       "                                          \n",
       "            Sensitivity : 1.0000          \n",
       "            Specificity : 0.9685          \n",
       "         Pos Pred Value : 0.9730          \n",
       "         Neg Pred Value : 1.0000          \n",
       "             Prevalence : 0.5317          \n",
       "         Detection Rate : 0.5317          \n",
       "   Detection Prevalence : 0.5465          \n",
       "      Balanced Accuracy : 0.9842          \n",
       "                                          \n",
       "       'Positive' Class : e               \n",
       "                                          "
      ]
     },
     "metadata": {},
     "output_type": "display_data"
    }
   ],
   "source": [
    "confusionMatrix(data=predict(tree_train,newdata=test_set,type=\"class\"),\n",
    "                reference=test_set$class,positive=\"e\")"
   ]
  },
  {
   "cell_type": "markdown",
   "metadata": {},
   "source": [
    "### Naive Bayes "
   ]
  },
  {
   "cell_type": "code",
   "execution_count": 125,
   "metadata": {},
   "outputs": [],
   "source": [
    "set.seed(56546)\n",
    "library(e1071)"
   ]
  },
  {
   "cell_type": "code",
   "execution_count": 128,
   "metadata": {},
   "outputs": [
    {
     "data": {
      "text/html": [
       "<table>\n",
       "<thead><tr><th scope=col>outlook</th><th scope=col>temperature</th><th scope=col>humidity</th><th scope=col>windy</th><th scope=col>play</th></tr></thead>\n",
       "<tbody>\n",
       "\t<tr><td>overcast</td><td>hot     </td><td>high    </td><td>FALSE   </td><td>yes     </td></tr>\n",
       "\t<tr><td>overcast</td><td>cool    </td><td>normal  </td><td> TRUE   </td><td>yes     </td></tr>\n",
       "\t<tr><td>overcast</td><td>mild    </td><td>high    </td><td> TRUE   </td><td>yes     </td></tr>\n",
       "\t<tr><td>overcast</td><td>hot     </td><td>normal  </td><td>FALSE   </td><td>yes     </td></tr>\n",
       "\t<tr><td>rainy   </td><td>mild    </td><td>high    </td><td>FALSE   </td><td>yes     </td></tr>\n",
       "\t<tr><td>rainy   </td><td>cool    </td><td>normal  </td><td>FALSE   </td><td>yes     </td></tr>\n",
       "</tbody>\n",
       "</table>\n"
      ],
      "text/latex": [
       "\\begin{tabular}{r|lllll}\n",
       " outlook & temperature & humidity & windy & play\\\\\n",
       "\\hline\n",
       "\t overcast & hot      & high     & FALSE    & yes     \\\\\n",
       "\t overcast & cool     & normal   &  TRUE    & yes     \\\\\n",
       "\t overcast & mild     & high     &  TRUE    & yes     \\\\\n",
       "\t overcast & hot      & normal   & FALSE    & yes     \\\\\n",
       "\t rainy    & mild     & high     & FALSE    & yes     \\\\\n",
       "\t rainy    & cool     & normal   & FALSE    & yes     \\\\\n",
       "\\end{tabular}\n"
      ],
      "text/markdown": [
       "\n",
       "| outlook | temperature | humidity | windy | play |\n",
       "|---|---|---|---|---|\n",
       "| overcast | hot      | high     | FALSE    | yes      |\n",
       "| overcast | cool     | normal   |  TRUE    | yes      |\n",
       "| overcast | mild     | high     |  TRUE    | yes      |\n",
       "| overcast | hot      | normal   | FALSE    | yes      |\n",
       "| rainy    | mild     | high     | FALSE    | yes      |\n",
       "| rainy    | cool     | normal   | FALSE    | yes      |\n",
       "\n"
      ],
      "text/plain": [
       "  outlook  temperature humidity windy play\n",
       "1 overcast hot         high     FALSE yes \n",
       "2 overcast cool        normal    TRUE yes \n",
       "3 overcast mild        high      TRUE yes \n",
       "4 overcast hot         normal   FALSE yes \n",
       "5 rainy    mild        high     FALSE yes \n",
       "6 rainy    cool        normal   FALSE yes "
      ]
     },
     "metadata": {},
     "output_type": "display_data"
    }
   ],
   "source": [
    "#weather=read.csv(file.choose(),header=T)\n",
    "weather=read.csv(\"weather.csv\",header=T)\n",
    "head(weather)"
   ]
  },
  {
   "cell_type": "code",
   "execution_count": 129,
   "metadata": {},
   "outputs": [
    {
     "name": "stdout",
     "output_type": "stream",
     "text": [
      "'data.frame':\t14 obs. of  5 variables:\n",
      " $ outlook    : Factor w/ 3 levels \"overcast\",\"rainy\",..: 1 1 1 1 2 2 2 2 2 3 ...\n",
      " $ temperature: Factor w/ 3 levels \"cool\",\"hot\",\"mild\": 2 1 3 2 3 1 1 3 3 2 ...\n",
      " $ humidity   : Factor w/ 2 levels \"high\",\"normal\": 1 2 1 2 1 2 2 2 1 1 ...\n",
      " $ windy      : logi  FALSE TRUE TRUE FALSE FALSE FALSE ...\n",
      " $ play       : Factor w/ 2 levels \"no\",\"yes\": 2 2 2 2 2 2 1 2 1 1 ...\n"
     ]
    }
   ],
   "source": [
    "str(weather)"
   ]
  },
  {
   "cell_type": "code",
   "execution_count": 130,
   "metadata": {},
   "outputs": [],
   "source": [
    "index=sample(1:nrow(weather),0.7*nrow(weather),replace=FALSE)\n",
    "train_set=weather[index,]\n",
    "test_set=weather[-index,]"
   ]
  },
  {
   "cell_type": "code",
   "execution_count": 133,
   "metadata": {},
   "outputs": [
    {
     "data": {
      "text/plain": [
       "\n",
       "Naive Bayes Classifier for Discrete Predictors\n",
       "\n",
       "Call:\n",
       "naiveBayes.default(x = X, y = Y, laplace = laplace)\n",
       "\n",
       "A-priori probabilities:\n",
       "Y\n",
       "       no       yes \n",
       "0.3333333 0.6666667 \n",
       "\n",
       "Conditional probabilities:\n",
       "     outlook\n",
       "Y      overcast     rainy     sunny\n",
       "  no  0.0000000 0.3333333 0.6666667\n",
       "  yes 0.6666667 0.1666667 0.1666667\n",
       "\n",
       "     temperature\n",
       "Y          cool       hot      mild\n",
       "  no  0.0000000 0.3333333 0.6666667\n",
       "  yes 0.1666667 0.3333333 0.5000000\n",
       "\n",
       "     humidity\n",
       "Y          high    normal\n",
       "  no  1.0000000 0.0000000\n",
       "  yes 0.3333333 0.6666667\n",
       "\n",
       "     windy\n",
       "Y         FALSE      TRUE\n",
       "  no  0.6666667 0.3333333\n",
       "  yes 0.5000000 0.5000000\n"
      ]
     },
     "metadata": {},
     "output_type": "display_data"
    }
   ],
   "source": [
    "model=naiveBayes(play~.,data=train_set)\n",
    "model"
   ]
  },
  {
   "cell_type": "code",
   "execution_count": 135,
   "metadata": {},
   "outputs": [
    {
     "data": {
      "text/html": [
       "<ol class=list-inline>\n",
       "\t<li>yes</li>\n",
       "\t<li>no</li>\n",
       "\t<li>yes</li>\n",
       "\t<li>yes</li>\n",
       "\t<li>no</li>\n",
       "\t<li>yes</li>\n",
       "\t<li>no</li>\n",
       "\t<li>yes</li>\n",
       "\t<li>yes</li>\n",
       "</ol>\n",
       "\n",
       "<details>\n",
       "\t<summary style=display:list-item;cursor:pointer>\n",
       "\t\t<strong>Levels</strong>:\n",
       "\t</summary>\n",
       "\t<ol class=list-inline>\n",
       "\t\t<li>'no'</li>\n",
       "\t\t<li>'yes'</li>\n",
       "\t</ol>\n",
       "</details>"
      ],
      "text/latex": [
       "\\begin{enumerate*}\n",
       "\\item yes\n",
       "\\item no\n",
       "\\item yes\n",
       "\\item yes\n",
       "\\item no\n",
       "\\item yes\n",
       "\\item no\n",
       "\\item yes\n",
       "\\item yes\n",
       "\\end{enumerate*}\n",
       "\n",
       "\\emph{Levels}: \\begin{enumerate*}\n",
       "\\item 'no'\n",
       "\\item 'yes'\n",
       "\\end{enumerate*}\n"
      ],
      "text/markdown": [
       "1. yes\n",
       "2. no\n",
       "3. yes\n",
       "4. yes\n",
       "5. no\n",
       "6. yes\n",
       "7. no\n",
       "8. yes\n",
       "9. yes\n",
       "\n",
       "\n",
       "\n",
       "**Levels**: 1. 'no'\n",
       "2. 'yes'\n",
       "\n",
       "\n"
      ],
      "text/plain": [
       "[1] yes no  yes yes no  yes no  yes yes\n",
       "Levels: no yes"
      ]
     },
     "metadata": {},
     "output_type": "display_data"
    }
   ],
   "source": [
    "y=predict(model,train_set,type=\"class\")\n",
    "y"
   ]
  },
  {
   "cell_type": "code",
   "execution_count": 137,
   "metadata": {},
   "outputs": [
    {
     "data": {
      "text/plain": [
       "Confusion Matrix and Statistics\n",
       "\n",
       "          Reference\n",
       "Prediction no yes\n",
       "       no   3   0\n",
       "       yes  0   6\n",
       "                                     \n",
       "               Accuracy : 1          \n",
       "                 95% CI : (0.6637, 1)\n",
       "    No Information Rate : 0.6667     \n",
       "    P-Value [Acc > NIR] : 0.02601    \n",
       "                                     \n",
       "                  Kappa : 1          \n",
       "                                     \n",
       " Mcnemar's Test P-Value : NA         \n",
       "                                     \n",
       "            Sensitivity : 1.0000     \n",
       "            Specificity : 1.0000     \n",
       "         Pos Pred Value : 1.0000     \n",
       "         Neg Pred Value : 1.0000     \n",
       "             Prevalence : 0.6667     \n",
       "         Detection Rate : 0.6667     \n",
       "   Detection Prevalence : 0.6667     \n",
       "      Balanced Accuracy : 1.0000     \n",
       "                                     \n",
       "       'Positive' Class : yes        \n",
       "                                     "
      ]
     },
     "metadata": {},
     "output_type": "display_data"
    }
   ],
   "source": [
    "library(caret)\n",
    "confusionMatrix(y,reference=train_set$play,positive=\"yes\")"
   ]
  },
  {
   "cell_type": "code",
   "execution_count": 139,
   "metadata": {},
   "outputs": [
    {
     "data": {
      "text/html": [
       "<ol class=list-inline>\n",
       "\t<li>no</li>\n",
       "\t<li>yes</li>\n",
       "\t<li>yes</li>\n",
       "\t<li>no</li>\n",
       "\t<li>yes</li>\n",
       "</ol>\n",
       "\n",
       "<details>\n",
       "\t<summary style=display:list-item;cursor:pointer>\n",
       "\t\t<strong>Levels</strong>:\n",
       "\t</summary>\n",
       "\t<ol class=list-inline>\n",
       "\t\t<li>'no'</li>\n",
       "\t\t<li>'yes'</li>\n",
       "\t</ol>\n",
       "</details>"
      ],
      "text/latex": [
       "\\begin{enumerate*}\n",
       "\\item no\n",
       "\\item yes\n",
       "\\item yes\n",
       "\\item no\n",
       "\\item yes\n",
       "\\end{enumerate*}\n",
       "\n",
       "\\emph{Levels}: \\begin{enumerate*}\n",
       "\\item 'no'\n",
       "\\item 'yes'\n",
       "\\end{enumerate*}\n"
      ],
      "text/markdown": [
       "1. no\n",
       "2. yes\n",
       "3. yes\n",
       "4. no\n",
       "5. yes\n",
       "\n",
       "\n",
       "\n",
       "**Levels**: 1. 'no'\n",
       "2. 'yes'\n",
       "\n",
       "\n"
      ],
      "text/plain": [
       "[1] no  yes yes no  yes\n",
       "Levels: no yes"
      ]
     },
     "metadata": {},
     "output_type": "display_data"
    }
   ],
   "source": [
    "test=predict(model,newdata=test_set,type=\"class\")\n",
    "test"
   ]
  },
  {
   "cell_type": "code",
   "execution_count": 140,
   "metadata": {},
   "outputs": [
    {
     "data": {
      "text/plain": [
       "Confusion Matrix and Statistics\n",
       "\n",
       "          Reference\n",
       "Prediction no yes\n",
       "       no   1   1\n",
       "       yes  1   2\n",
       "                                          \n",
       "               Accuracy : 0.6             \n",
       "                 95% CI : (0.1466, 0.9473)\n",
       "    No Information Rate : 0.6             \n",
       "    P-Value [Acc > NIR] : 0.6826          \n",
       "                                          \n",
       "                  Kappa : 0.1667          \n",
       "                                          \n",
       " Mcnemar's Test P-Value : 1.0000          \n",
       "                                          \n",
       "            Sensitivity : 0.6667          \n",
       "            Specificity : 0.5000          \n",
       "         Pos Pred Value : 0.6667          \n",
       "         Neg Pred Value : 0.5000          \n",
       "             Prevalence : 0.6000          \n",
       "         Detection Rate : 0.4000          \n",
       "   Detection Prevalence : 0.6000          \n",
       "      Balanced Accuracy : 0.5833          \n",
       "                                          \n",
       "       'Positive' Class : yes             \n",
       "                                          "
      ]
     },
     "metadata": {},
     "output_type": "display_data"
    }
   ],
   "source": [
    "confusionMatrix(test,reference=test_set$play,positive=\"yes\")"
   ]
  },
  {
   "cell_type": "code",
   "execution_count": 142,
   "metadata": {},
   "outputs": [
    {
     "data": {
      "text/html": [
       "<table>\n",
       "<thead><tr><th scope=col>Outlook</th><th scope=col>Temperature</th><th scope=col>Humidity</th><th scope=col>Windy</th></tr></thead>\n",
       "<tbody>\n",
       "\t<tr><td>sunny </td><td>mid   </td><td>normal</td><td>TRUE  </td></tr>\n",
       "</tbody>\n",
       "</table>\n"
      ],
      "text/latex": [
       "\\begin{tabular}{r|llll}\n",
       " Outlook & Temperature & Humidity & Windy\\\\\n",
       "\\hline\n",
       "\t sunny  & mid    & normal & TRUE  \\\\\n",
       "\\end{tabular}\n"
      ],
      "text/markdown": [
       "\n",
       "| Outlook | Temperature | Humidity | Windy |\n",
       "|---|---|---|---|\n",
       "| sunny  | mid    | normal | TRUE   |\n",
       "\n"
      ],
      "text/plain": [
       "  Outlook Temperature Humidity Windy\n",
       "1 sunny   mid         normal   TRUE "
      ]
     },
     "metadata": {},
     "output_type": "display_data"
    }
   ],
   "source": [
    "Outlook=c(\"sunny\")\n",
    "Temperature=c(\"mid\")\n",
    "Humidity=c(\"normal\")\n",
    "Windy=c(\"TRUE\")\n",
    "x.data=data.frame(Outlook,Temperature,Humidity,Windy)\n",
    "x.data"
   ]
  },
  {
   "cell_type": "code",
   "execution_count": 143,
   "metadata": {},
   "outputs": [
    {
     "data": {
      "text/html": [
       "yes\n",
       "<details>\n",
       "\t<summary style=display:list-item;cursor:pointer>\n",
       "\t\t<strong>Levels</strong>:\n",
       "\t</summary>\n",
       "\t<ol class=list-inline>\n",
       "\t\t<li>'no'</li>\n",
       "\t\t<li>'yes'</li>\n",
       "\t</ol>\n",
       "</details>"
      ],
      "text/latex": [
       "yes\n",
       "\\emph{Levels}: \\begin{enumerate*}\n",
       "\\item 'no'\n",
       "\\item 'yes'\n",
       "\\end{enumerate*}\n"
      ],
      "text/markdown": [
       "yes\n",
       "**Levels**: 1. 'no'\n",
       "2. 'yes'\n",
       "\n",
       "\n"
      ],
      "text/plain": [
       "[1] yes\n",
       "Levels: no yes"
      ]
     },
     "metadata": {},
     "output_type": "display_data"
    }
   ],
   "source": [
    "predict(model,x.data,type=\"class\")"
   ]
  },
  {
   "cell_type": "code",
   "execution_count": 144,
   "metadata": {},
   "outputs": [
    {
     "data": {
      "text/html": [
       "<table>\n",
       "<thead><tr><th scope=col>no</th><th scope=col>yes</th></tr></thead>\n",
       "<tbody>\n",
       "\t<tr><td>0.3333333</td><td>0.6666667</td></tr>\n",
       "</tbody>\n",
       "</table>\n"
      ],
      "text/latex": [
       "\\begin{tabular}{ll}\n",
       " no & yes\\\\\n",
       "\\hline\n",
       "\t 0.3333333 & 0.6666667\\\\\n",
       "\\end{tabular}\n"
      ],
      "text/markdown": [
       "\n",
       "| no | yes |\n",
       "|---|---|\n",
       "| 0.3333333 | 0.6666667 |\n",
       "\n"
      ],
      "text/plain": [
       "     no        yes      \n",
       "[1,] 0.3333333 0.6666667"
      ]
     },
     "metadata": {},
     "output_type": "display_data"
    }
   ],
   "source": [
    "predict(model,x.data,type=\"raw\")"
   ]
  },
  {
   "cell_type": "markdown",
   "metadata": {},
   "source": [
    "### การถดถอยโลจิสติกทวิ "
   ]
  },
  {
   "cell_type": "code",
   "execution_count": 146,
   "metadata": {},
   "outputs": [
    {
     "name": "stdout",
     "output_type": "stream",
     "text": [
      "package 'ISLR' successfully unpacked and MD5 sums checked\n",
      "\n",
      "The downloaded binary packages are in\n",
      "\tC:\\Users\\User\\AppData\\Local\\Temp\\Rtmp6ddqIz\\downloaded_packages\n"
     ]
    }
   ],
   "source": [
    "#install.packages(\"ISLR\")"
   ]
  },
  {
   "cell_type": "code",
   "execution_count": 147,
   "metadata": {},
   "outputs": [
    {
     "name": "stderr",
     "output_type": "stream",
     "text": [
      "Warning message:\n",
      "\"package 'ISLR' was built under R version 3.6.3\""
     ]
    }
   ],
   "source": [
    "library(ISLR)"
   ]
  },
  {
   "cell_type": "code",
   "execution_count": 149,
   "metadata": {},
   "outputs": [
    {
     "name": "stdout",
     "output_type": "stream",
     "text": [
      "'data.frame':\t10000 obs. of  4 variables:\n",
      " $ default: Factor w/ 2 levels \"No\",\"Yes\": 1 1 1 1 1 1 1 1 1 1 ...\n",
      " $ student: Factor w/ 2 levels \"No\",\"Yes\": 1 2 1 1 1 2 1 2 1 1 ...\n",
      " $ balance: num  730 817 1074 529 786 ...\n",
      " $ income : num  44362 12106 31767 35704 38463 ...\n"
     ]
    }
   ],
   "source": [
    "data=ISLR::Default\n",
    "str(data)"
   ]
  },
  {
   "cell_type": "code",
   "execution_count": 150,
   "metadata": {},
   "outputs": [
    {
     "name": "stderr",
     "output_type": "stream",
     "text": [
      "Warning message:\n",
      "\"package 'caTools' was built under R version 3.6.3\""
     ]
    }
   ],
   "source": [
    "library(caTools)"
   ]
  },
  {
   "cell_type": "code",
   "execution_count": 151,
   "metadata": {},
   "outputs": [],
   "source": [
    "set.seed(10)\n",
    "split=sample.split(data$default,SplitRatio=0.8)\n",
    "traindata=subset(data,split==T)\n",
    "testdata=subset(data,split==F)"
   ]
  },
  {
   "cell_type": "code",
   "execution_count": 155,
   "metadata": {},
   "outputs": [
    {
     "data": {
      "text/plain": [
       "\n",
       "Call:\n",
       "glm(formula = default ~ ., family = \"binomial\", data = traindata)\n",
       "\n",
       "Deviance Residuals: \n",
       "    Min       1Q   Median       3Q      Max  \n",
       "-2.4581  -0.1386  -0.0536  -0.0194   3.7718  \n",
       "\n",
       "Coefficients:\n",
       "              Estimate Std. Error z value Pr(>|z|)    \n",
       "(Intercept) -1.081e+01  5.471e-01 -19.753   <2e-16 ***\n",
       "studentYes  -6.548e-01  2.669e-01  -2.454   0.0141 *  \n",
       "balance      5.805e-03  2.625e-04  22.116   <2e-16 ***\n",
       "income      -1.993e-06  9.311e-06  -0.214   0.8305    \n",
       "---\n",
       "Signif. codes:  0 '***' 0.001 '**' 0.01 '*' 0.05 '.' 0.1 ' ' 1\n",
       "\n",
       "(Dispersion parameter for binomial family taken to be 1)\n",
       "\n",
       "    Null deviance: 2333.8  on 7999  degrees of freedom\n",
       "Residual deviance: 1236.9  on 7996  degrees of freedom\n",
       "AIC: 1244.9\n",
       "\n",
       "Number of Fisher Scoring iterations: 8\n"
      ]
     },
     "metadata": {},
     "output_type": "display_data"
    }
   ],
   "source": [
    "model1=glm(formula=default~.,family=\"binomial\",data=traindata)\n",
    "summary(model1)\n",
    "#Signif. codes:  0 '***' 0.001 '**' 0.01 '*' 0.05 '.' 0.1 ' ' 1\n",
    "#studentYes  -6.548e-01  2.669e-01  -2.454   0.0141 *  -> แตกต่างอย่างมีนัยสำคัญ\n",
    "#balance      5.805e-03  2.625e-04  22.116   <2e-16 *** -> แตกต่างอย่างมีนัยสำคัญ\n",
    "#AIC: 1244.9 วัดคุณภาพของตัวแบบ ควรจะเลือกตัวแบบที่มีค่า AIC น้อยๆ"
   ]
  },
  {
   "cell_type": "code",
   "execution_count": 153,
   "metadata": {},
   "outputs": [
    {
     "data": {
      "text/plain": [
       "\n",
       "Call:\n",
       "glm(formula = default ~ student + balance, family = \"binomial\", \n",
       "    data = traindata)\n",
       "\n",
       "Deviance Residuals: \n",
       "    Min       1Q   Median       3Q      Max  \n",
       "-2.4649  -0.1384  -0.0538  -0.0195   3.7680  \n",
       "\n",
       "Coefficients:\n",
       "              Estimate Std. Error z value Pr(>|z|)    \n",
       "(Intercept) -10.882875   0.418610 -25.998  < 2e-16 ***\n",
       "studentYes   -0.609668   0.164111  -3.715 0.000203 ***\n",
       "balance       0.005802   0.000262  22.140  < 2e-16 ***\n",
       "---\n",
       "Signif. codes:  0 '***' 0.001 '**' 0.01 '*' 0.05 '.' 0.1 ' ' 1\n",
       "\n",
       "(Dispersion parameter for binomial family taken to be 1)\n",
       "\n",
       "    Null deviance: 2333.8  on 7999  degrees of freedom\n",
       "Residual deviance: 1237.0  on 7997  degrees of freedom\n",
       "AIC: 1243\n",
       "\n",
       "Number of Fisher Scoring iterations: 8\n"
      ]
     },
     "metadata": {},
     "output_type": "display_data"
    }
   ],
   "source": [
    "model2=glm(formula=default~student+balance,family=\"binomial\",data=traindata)\n",
    "summary(model2)"
   ]
  },
  {
   "cell_type": "code",
   "execution_count": 156,
   "metadata": {},
   "outputs": [
    {
     "data": {
      "text/html": [
       "<dl class=dl-horizontal>\n",
       "\t<dt>20</dt>\n",
       "\t\t<dd>0.0106689719267573</dd>\n",
       "\t<dt>21</dt>\n",
       "\t\t<dd>7.08707886547331e-05</dd>\n",
       "\t<dt>27</dt>\n",
       "\t\t<dd>0.000782338207885803</dd>\n",
       "\t<dt>34</dt>\n",
       "\t\t<dd>0.00374867227933605</dd>\n",
       "\t<dt>37</dt>\n",
       "\t\t<dd>0.00103951380671631</dd>\n",
       "\t<dt>38</dt>\n",
       "\t\t<dd>0.000144241302922022</dd>\n",
       "</dl>\n"
      ],
      "text/latex": [
       "\\begin{description*}\n",
       "\\item[20] 0.0106689719267573\n",
       "\\item[21] 7.08707886547331e-05\n",
       "\\item[27] 0.000782338207885803\n",
       "\\item[34] 0.00374867227933605\n",
       "\\item[37] 0.00103951380671631\n",
       "\\item[38] 0.000144241302922022\n",
       "\\end{description*}\n"
      ],
      "text/markdown": [
       "20\n",
       ":   0.010668971926757321\n",
       ":   7.08707886547331e-0527\n",
       ":   0.00078233820788580334\n",
       ":   0.0037486722793360537\n",
       ":   0.0010395138067163138\n",
       ":   0.000144241302922022\n",
       "\n"
      ],
      "text/plain": [
       "          20           21           27           34           37           38 \n",
       "1.066897e-02 7.087079e-05 7.823382e-04 3.748672e-03 1.039514e-03 1.442413e-04 "
      ]
     },
     "metadata": {},
     "output_type": "display_data"
    }
   ],
   "source": [
    "predict=predict(model2,newdata=testdata,type=\"response\")\n",
    "head(predict)"
   ]
  },
  {
   "cell_type": "code",
   "execution_count": 157,
   "metadata": {},
   "outputs": [
    {
     "data": {
      "text/plain": [
       "     \n",
       "      FALSE TRUE\n",
       "  No   1925    8\n",
       "  Yes    50   17"
      ]
     },
     "metadata": {},
     "output_type": "display_data"
    }
   ],
   "source": [
    "table(testdata$default,predict>0.5)"
   ]
  },
  {
   "cell_type": "code",
   "execution_count": 158,
   "metadata": {},
   "outputs": [
    {
     "data": {
      "text/html": [
       "0.971"
      ],
      "text/latex": [
       "0.971"
      ],
      "text/markdown": [
       "0.971"
      ],
      "text/plain": [
       "[1] 0.971"
      ]
     },
     "metadata": {},
     "output_type": "display_data"
    }
   ],
   "source": [
    "accuracy=(1925+17)/2000\n",
    "accuracy"
   ]
  },
  {
   "cell_type": "markdown",
   "metadata": {},
   "source": [
    "# CH5: การพยากรณ์"
   ]
  },
  {
   "cell_type": "markdown",
   "metadata": {},
   "source": [
    "### การวิเคราะห์การถดถอย "
   ]
  },
  {
   "cell_type": "code",
   "execution_count": 159,
   "metadata": {},
   "outputs": [
    {
     "data": {
      "text/html": [
       "<table>\n",
       "<thead><tr><th></th><th scope=col>mpg</th><th scope=col>cyl</th><th scope=col>disp</th><th scope=col>hp</th><th scope=col>drat</th><th scope=col>wt</th><th scope=col>qsec</th><th scope=col>vs</th><th scope=col>am</th><th scope=col>gear</th><th scope=col>carb</th></tr></thead>\n",
       "<tbody>\n",
       "\t<tr><th scope=row>Mazda RX4</th><td>21.0 </td><td>6    </td><td>160  </td><td>110  </td><td>3.90 </td><td>2.620</td><td>16.46</td><td>0    </td><td>1    </td><td>4    </td><td>4    </td></tr>\n",
       "\t<tr><th scope=row>Mazda RX4 Wag</th><td>21.0 </td><td>6    </td><td>160  </td><td>110  </td><td>3.90 </td><td>2.875</td><td>17.02</td><td>0    </td><td>1    </td><td>4    </td><td>4    </td></tr>\n",
       "\t<tr><th scope=row>Datsun 710</th><td>22.8 </td><td>4    </td><td>108  </td><td> 93  </td><td>3.85 </td><td>2.320</td><td>18.61</td><td>1    </td><td>1    </td><td>4    </td><td>1    </td></tr>\n",
       "\t<tr><th scope=row>Hornet 4 Drive</th><td>21.4 </td><td>6    </td><td>258  </td><td>110  </td><td>3.08 </td><td>3.215</td><td>19.44</td><td>1    </td><td>0    </td><td>3    </td><td>1    </td></tr>\n",
       "\t<tr><th scope=row>Hornet Sportabout</th><td>18.7 </td><td>8    </td><td>360  </td><td>175  </td><td>3.15 </td><td>3.440</td><td>17.02</td><td>0    </td><td>0    </td><td>3    </td><td>2    </td></tr>\n",
       "\t<tr><th scope=row>Valiant</th><td>18.1 </td><td>6    </td><td>225  </td><td>105  </td><td>2.76 </td><td>3.460</td><td>20.22</td><td>1    </td><td>0    </td><td>3    </td><td>1    </td></tr>\n",
       "</tbody>\n",
       "</table>\n"
      ],
      "text/latex": [
       "\\begin{tabular}{r|lllllllllll}\n",
       "  & mpg & cyl & disp & hp & drat & wt & qsec & vs & am & gear & carb\\\\\n",
       "\\hline\n",
       "\tMazda RX4 & 21.0  & 6     & 160   & 110   & 3.90  & 2.620 & 16.46 & 0     & 1     & 4     & 4    \\\\\n",
       "\tMazda RX4 Wag & 21.0  & 6     & 160   & 110   & 3.90  & 2.875 & 17.02 & 0     & 1     & 4     & 4    \\\\\n",
       "\tDatsun 710 & 22.8  & 4     & 108   &  93   & 3.85  & 2.320 & 18.61 & 1     & 1     & 4     & 1    \\\\\n",
       "\tHornet 4 Drive & 21.4  & 6     & 258   & 110   & 3.08  & 3.215 & 19.44 & 1     & 0     & 3     & 1    \\\\\n",
       "\tHornet Sportabout & 18.7  & 8     & 360   & 175   & 3.15  & 3.440 & 17.02 & 0     & 0     & 3     & 2    \\\\\n",
       "\tValiant & 18.1  & 6     & 225   & 105   & 2.76  & 3.460 & 20.22 & 1     & 0     & 3     & 1    \\\\\n",
       "\\end{tabular}\n"
      ],
      "text/markdown": [
       "\n",
       "| <!--/--> | mpg | cyl | disp | hp | drat | wt | qsec | vs | am | gear | carb |\n",
       "|---|---|---|---|---|---|---|---|---|---|---|---|\n",
       "| Mazda RX4 | 21.0  | 6     | 160   | 110   | 3.90  | 2.620 | 16.46 | 0     | 1     | 4     | 4     |\n",
       "| Mazda RX4 Wag | 21.0  | 6     | 160   | 110   | 3.90  | 2.875 | 17.02 | 0     | 1     | 4     | 4     |\n",
       "| Datsun 710 | 22.8  | 4     | 108   |  93   | 3.85  | 2.320 | 18.61 | 1     | 1     | 4     | 1     |\n",
       "| Hornet 4 Drive | 21.4  | 6     | 258   | 110   | 3.08  | 3.215 | 19.44 | 1     | 0     | 3     | 1     |\n",
       "| Hornet Sportabout | 18.7  | 8     | 360   | 175   | 3.15  | 3.440 | 17.02 | 0     | 0     | 3     | 2     |\n",
       "| Valiant | 18.1  | 6     | 225   | 105   | 2.76  | 3.460 | 20.22 | 1     | 0     | 3     | 1     |\n",
       "\n"
      ],
      "text/plain": [
       "                  mpg  cyl disp hp  drat wt    qsec  vs am gear carb\n",
       "Mazda RX4         21.0 6   160  110 3.90 2.620 16.46 0  1  4    4   \n",
       "Mazda RX4 Wag     21.0 6   160  110 3.90 2.875 17.02 0  1  4    4   \n",
       "Datsun 710        22.8 4   108   93 3.85 2.320 18.61 1  1  4    1   \n",
       "Hornet 4 Drive    21.4 6   258  110 3.08 3.215 19.44 1  0  3    1   \n",
       "Hornet Sportabout 18.7 8   360  175 3.15 3.440 17.02 0  0  3    2   \n",
       "Valiant           18.1 6   225  105 2.76 3.460 20.22 1  0  3    1   "
      ]
     },
     "metadata": {},
     "output_type": "display_data"
    }
   ],
   "source": [
    "head(mtcars)"
   ]
  },
  {
   "cell_type": "code",
   "execution_count": 160,
   "metadata": {},
   "outputs": [
    {
     "name": "stdout",
     "output_type": "stream",
     "text": [
      "'data.frame':\t32 obs. of  11 variables:\n",
      " $ mpg : num  21 21 22.8 21.4 18.7 18.1 14.3 24.4 22.8 19.2 ...\n",
      " $ cyl : num  6 6 4 6 8 6 8 4 4 6 ...\n",
      " $ disp: num  160 160 108 258 360 ...\n",
      " $ hp  : num  110 110 93 110 175 105 245 62 95 123 ...\n",
      " $ drat: num  3.9 3.9 3.85 3.08 3.15 2.76 3.21 3.69 3.92 3.92 ...\n",
      " $ wt  : num  2.62 2.88 2.32 3.21 3.44 ...\n",
      " $ qsec: num  16.5 17 18.6 19.4 17 ...\n",
      " $ vs  : num  0 0 1 1 0 1 0 1 1 1 ...\n",
      " $ am  : num  1 1 1 0 0 0 0 0 0 0 ...\n",
      " $ gear: num  4 4 4 3 3 3 3 4 4 4 ...\n",
      " $ carb: num  4 4 1 1 2 1 4 2 2 4 ...\n"
     ]
    }
   ],
   "source": [
    "str(mtcars)"
   ]
  },
  {
   "cell_type": "code",
   "execution_count": 161,
   "metadata": {},
   "outputs": [
    {
     "data": {
      "text/html": [
       "<ol class=list-inline>\n",
       "\t<li>TRUE</li>\n",
       "\t<li>TRUE</li>\n",
       "\t<li>TRUE</li>\n",
       "\t<li>FALSE</li>\n",
       "\t<li>TRUE</li>\n",
       "\t<li>TRUE</li>\n",
       "\t<li>TRUE</li>\n",
       "\t<li>TRUE</li>\n",
       "\t<li>TRUE</li>\n",
       "\t<li>TRUE</li>\n",
       "\t<li>TRUE</li>\n",
       "\t<li>TRUE</li>\n",
       "\t<li>TRUE</li>\n",
       "\t<li>TRUE</li>\n",
       "\t<li>TRUE</li>\n",
       "\t<li>TRUE</li>\n",
       "\t<li>TRUE</li>\n",
       "\t<li>TRUE</li>\n",
       "\t<li>TRUE</li>\n",
       "\t<li>FALSE</li>\n",
       "\t<li>FALSE</li>\n",
       "\t<li>TRUE</li>\n",
       "\t<li>FALSE</li>\n",
       "\t<li>TRUE</li>\n",
       "\t<li>TRUE</li>\n",
       "\t<li>FALSE</li>\n",
       "\t<li>FALSE</li>\n",
       "\t<li>TRUE</li>\n",
       "\t<li>FALSE</li>\n",
       "\t<li>TRUE</li>\n",
       "\t<li>TRUE</li>\n",
       "\t<li>TRUE</li>\n",
       "</ol>\n"
      ],
      "text/latex": [
       "\\begin{enumerate*}\n",
       "\\item TRUE\n",
       "\\item TRUE\n",
       "\\item TRUE\n",
       "\\item FALSE\n",
       "\\item TRUE\n",
       "\\item TRUE\n",
       "\\item TRUE\n",
       "\\item TRUE\n",
       "\\item TRUE\n",
       "\\item TRUE\n",
       "\\item TRUE\n",
       "\\item TRUE\n",
       "\\item TRUE\n",
       "\\item TRUE\n",
       "\\item TRUE\n",
       "\\item TRUE\n",
       "\\item TRUE\n",
       "\\item TRUE\n",
       "\\item TRUE\n",
       "\\item FALSE\n",
       "\\item FALSE\n",
       "\\item TRUE\n",
       "\\item FALSE\n",
       "\\item TRUE\n",
       "\\item TRUE\n",
       "\\item FALSE\n",
       "\\item FALSE\n",
       "\\item TRUE\n",
       "\\item FALSE\n",
       "\\item TRUE\n",
       "\\item TRUE\n",
       "\\item TRUE\n",
       "\\end{enumerate*}\n"
      ],
      "text/markdown": [
       "1. TRUE\n",
       "2. TRUE\n",
       "3. TRUE\n",
       "4. FALSE\n",
       "5. TRUE\n",
       "6. TRUE\n",
       "7. TRUE\n",
       "8. TRUE\n",
       "9. TRUE\n",
       "10. TRUE\n",
       "11. TRUE\n",
       "12. TRUE\n",
       "13. TRUE\n",
       "14. TRUE\n",
       "15. TRUE\n",
       "16. TRUE\n",
       "17. TRUE\n",
       "18. TRUE\n",
       "19. TRUE\n",
       "20. FALSE\n",
       "21. FALSE\n",
       "22. TRUE\n",
       "23. FALSE\n",
       "24. TRUE\n",
       "25. TRUE\n",
       "26. FALSE\n",
       "27. FALSE\n",
       "28. TRUE\n",
       "29. FALSE\n",
       "30. TRUE\n",
       "31. TRUE\n",
       "32. TRUE\n",
       "\n",
       "\n"
      ],
      "text/plain": [
       " [1]  TRUE  TRUE  TRUE FALSE  TRUE  TRUE  TRUE  TRUE  TRUE  TRUE  TRUE  TRUE\n",
       "[13]  TRUE  TRUE  TRUE  TRUE  TRUE  TRUE  TRUE FALSE FALSE  TRUE FALSE  TRUE\n",
       "[25]  TRUE FALSE FALSE  TRUE FALSE  TRUE  TRUE  TRUE"
      ]
     },
     "metadata": {},
     "output_type": "display_data"
    }
   ],
   "source": [
    "library(caTools)\n",
    "set.seed(10)\n",
    "split=sample.split(mtcars$mpg,SplitRatio=0.8)\n",
    "split"
   ]
  },
  {
   "cell_type": "code",
   "execution_count": 162,
   "metadata": {},
   "outputs": [],
   "source": [
    "trainingData=subset(mtcars,split==T)\n",
    "testData=subset(mtcars,split==F)"
   ]
  },
  {
   "cell_type": "code",
   "execution_count": 163,
   "metadata": {},
   "outputs": [
    {
     "data": {
      "text/plain": [
       "\n",
       "Call:\n",
       "lm(formula = mpg ~ disp + hp + wt, data = trainingData)\n",
       "\n",
       "Residuals:\n",
       "    Min      1Q  Median      3Q     Max \n",
       "-3.5233 -1.6793 -0.4986  1.4039  6.0946 \n",
       "\n",
       "Coefficients:\n",
       "             Estimate Std. Error t value Pr(>|t|)    \n",
       "(Intercept) 36.718566   2.377921  15.441 6.14e-13 ***\n",
       "disp         0.001728   0.010691   0.162  0.87315    \n",
       "hp          -0.030769   0.011783  -2.611  0.01630 *  \n",
       "wt          -3.871999   1.139343  -3.398  0.00271 ** \n",
       "---\n",
       "Signif. codes:  0 '***' 0.001 '**' 0.01 '*' 0.05 '.' 0.1 ' ' 1\n",
       "\n",
       "Residual standard error: 2.517 on 21 degrees of freedom\n",
       "Multiple R-squared:  0.8307,\tAdjusted R-squared:  0.8065 \n",
       "F-statistic: 34.35 on 3 and 21 DF,  p-value: 2.768e-08\n"
      ]
     },
     "metadata": {},
     "output_type": "display_data"
    }
   ],
   "source": [
    "model=lm(mpg~disp+hp+wt,data=trainingData)\n",
    "summary(model)"
   ]
  },
  {
   "cell_type": "code",
   "execution_count": 164,
   "metadata": {},
   "outputs": [
    {
     "data": {
      "text/plain": [
       "\n",
       "Call:\n",
       "lm(formula = mpg ~ hp + wt, data = trainingData)\n",
       "\n",
       "Residuals:\n",
       "    Min      1Q  Median      3Q     Max \n",
       "-3.4091 -1.5998 -0.4333  1.4857  6.0799 \n",
       "\n",
       "Coefficients:\n",
       "             Estimate Std. Error t value Pr(>|t|)    \n",
       "(Intercept) 36.472772   1.787137  20.408 8.73e-16 ***\n",
       "hp          -0.029717   0.009604  -3.094   0.0053 ** \n",
       "wt          -3.723325   0.657214  -5.665 1.07e-05 ***\n",
       "---\n",
       "Signif. codes:  0 '***' 0.001 '**' 0.01 '*' 0.05 '.' 0.1 ' ' 1\n",
       "\n",
       "Residual standard error: 2.46 on 22 degrees of freedom\n",
       "Multiple R-squared:  0.8305,\tAdjusted R-squared:  0.8151 \n",
       "F-statistic:  53.9 on 2 and 22 DF,  p-value: 3.318e-09\n"
      ]
     },
     "metadata": {},
     "output_type": "display_data"
    }
   ],
   "source": [
    "model.fit=lm(mpg~hp+wt,data=trainingData)\n",
    "summary(model.fit)"
   ]
  },
  {
   "cell_type": "code",
   "execution_count": 165,
   "metadata": {},
   "outputs": [
    {
     "data": {
      "text/html": [
       "<dl class=dl-horizontal>\n",
       "\t<dt>Hornet 4 Drive</dt>\n",
       "\t\t<dd>21.2333759366941</dd>\n",
       "\t<dt>Toyota Corolla</dt>\n",
       "\t\t<dd>27.7088442456484</dd>\n",
       "\t<dt>Toyota Corona</dt>\n",
       "\t\t<dd>24.4121948579178</dd>\n",
       "\t<dt>AMC Javelin</dt>\n",
       "\t\t<dd>19.2255509668278</dd>\n",
       "\t<dt>Fiat X1-9</dt>\n",
       "\t\t<dd>27.3067944376602</dd>\n",
       "\t<dt>Porsche 914-2</dt>\n",
       "\t\t<dd>25.8005794145356</dd>\n",
       "\t<dt>Ford Pantera L</dt>\n",
       "\t\t<dd>16.8244554312533</dd>\n",
       "</dl>\n"
      ],
      "text/latex": [
       "\\begin{description*}\n",
       "\\item[Hornet 4 Drive] 21.2333759366941\n",
       "\\item[Toyota Corolla] 27.7088442456484\n",
       "\\item[Toyota Corona] 24.4121948579178\n",
       "\\item[AMC Javelin] 19.2255509668278\n",
       "\\item[Fiat X1-9] 27.3067944376602\n",
       "\\item[Porsche 914-2] 25.8005794145356\n",
       "\\item[Ford Pantera L] 16.8244554312533\n",
       "\\end{description*}\n"
      ],
      "text/markdown": [
       "Hornet 4 Drive\n",
       ":   21.2333759366941Toyota Corolla\n",
       ":   27.7088442456484Toyota Corona\n",
       ":   24.4121948579178AMC Javelin\n",
       ":   19.2255509668278Fiat X1-9\n",
       ":   27.3067944376602Porsche 914-2\n",
       ":   25.8005794145356Ford Pantera L\n",
       ":   16.8244554312533\n",
       "\n"
      ],
      "text/plain": [
       "Hornet 4 Drive Toyota Corolla  Toyota Corona    AMC Javelin      Fiat X1-9 \n",
       "      21.23338       27.70884       24.41219       19.22555       27.30679 \n",
       " Porsche 914-2 Ford Pantera L \n",
       "      25.80058       16.82446 "
      ]
     },
     "metadata": {},
     "output_type": "display_data"
    }
   ],
   "source": [
    "predict=predict(model.fit,newdata=testData)\n",
    "predict"
   ]
  },
  {
   "cell_type": "code",
   "execution_count": 166,
   "metadata": {},
   "outputs": [
    {
     "data": {
      "text/html": [
       "<table>\n",
       "<thead><tr><th scope=col>car type</th><th scope=col>actual</th><th scope=col>predict</th></tr></thead>\n",
       "<tbody>\n",
       "\t<tr><td>Hornet 4 Drive  </td><td>21.4            </td><td>21.2333759366941</td></tr>\n",
       "\t<tr><td>Toyota Corolla  </td><td>33.9            </td><td>27.7088442456484</td></tr>\n",
       "\t<tr><td>Toyota Corona   </td><td>21.5            </td><td>24.4121948579178</td></tr>\n",
       "\t<tr><td>AMC Javelin     </td><td>15.2            </td><td>19.2255509668278</td></tr>\n",
       "\t<tr><td>Fiat X1-9       </td><td>27.3            </td><td>27.3067944376602</td></tr>\n",
       "\t<tr><td>Porsche 914-2   </td><td>26              </td><td>25.8005794145356</td></tr>\n",
       "\t<tr><td>Ford Pantera L  </td><td>15.8            </td><td>16.8244554312533</td></tr>\n",
       "</tbody>\n",
       "</table>\n"
      ],
      "text/latex": [
       "\\begin{tabular}{lll}\n",
       " car type & actual & predict\\\\\n",
       "\\hline\n",
       "\t Hornet 4 Drive   & 21.4             & 21.2333759366941\\\\\n",
       "\t Toyota Corolla   & 33.9             & 27.7088442456484\\\\\n",
       "\t Toyota Corona    & 21.5             & 24.4121948579178\\\\\n",
       "\t AMC Javelin      & 15.2             & 19.2255509668278\\\\\n",
       "\t Fiat X1-9        & 27.3             & 27.3067944376602\\\\\n",
       "\t Porsche 914-2    & 26               & 25.8005794145356\\\\\n",
       "\t Ford Pantera L   & 15.8             & 16.8244554312533\\\\\n",
       "\\end{tabular}\n"
      ],
      "text/markdown": [
       "\n",
       "| car type | actual | predict |\n",
       "|---|---|---|\n",
       "| Hornet 4 Drive   | 21.4             | 21.2333759366941 |\n",
       "| Toyota Corolla   | 33.9             | 27.7088442456484 |\n",
       "| Toyota Corona    | 21.5             | 24.4121948579178 |\n",
       "| AMC Javelin      | 15.2             | 19.2255509668278 |\n",
       "| Fiat X1-9        | 27.3             | 27.3067944376602 |\n",
       "| Porsche 914-2    | 26               | 25.8005794145356 |\n",
       "| Ford Pantera L   | 15.8             | 16.8244554312533 |\n",
       "\n"
      ],
      "text/plain": [
       "     car type       actual predict         \n",
       "[1,] Hornet 4 Drive 21.4   21.2333759366941\n",
       "[2,] Toyota Corolla 33.9   27.7088442456484\n",
       "[3,] Toyota Corona  21.5   24.4121948579178\n",
       "[4,] AMC Javelin    15.2   19.2255509668278\n",
       "[5,] Fiat X1-9      27.3   27.3067944376602\n",
       "[6,] Porsche 914-2  26     25.8005794145356\n",
       "[7,] Ford Pantera L 15.8   16.8244554312533"
      ]
     },
     "metadata": {},
     "output_type": "display_data"
    }
   ],
   "source": [
    "compare=cbind(rownames(testData),testData$mpg,as.numeric(predict))\n",
    "colnames(compare)=c(\"car type\",\"actual\",\"predict\")\n",
    "compare"
   ]
  },
  {
   "cell_type": "markdown",
   "metadata": {},
   "source": [
    "### โครงข่ายประสาท "
   ]
  },
  {
   "cell_type": "code",
   "execution_count": 167,
   "metadata": {},
   "outputs": [
    {
     "name": "stdout",
     "output_type": "stream",
     "text": [
      "'data.frame':\t32 obs. of  9 variables:\n",
      " $ mpg : num  21 21 22.8 21.4 18.7 18.1 14.3 24.4 22.8 19.2 ...\n",
      " $ cyl : num  6 6 4 6 8 6 8 4 4 6 ...\n",
      " $ disp: num  160 160 108 258 360 ...\n",
      " $ hp  : num  110 110 93 110 175 105 245 62 95 123 ...\n",
      " $ drat: num  3.9 3.9 3.85 3.08 3.15 2.76 3.21 3.69 3.92 3.92 ...\n",
      " $ wt  : num  2.62 2.88 2.32 3.21 3.44 ...\n",
      " $ qsec: num  16.5 17 18.6 19.4 17 ...\n",
      " $ gear: num  4 4 4 3 3 3 3 4 4 4 ...\n",
      " $ carb: num  4 4 1 1 2 1 4 2 2 4 ...\n"
     ]
    }
   ],
   "source": [
    "my_data=mtcars[,-c(8,9)]\n",
    "str(my_data)"
   ]
  },
  {
   "cell_type": "code",
   "execution_count": 168,
   "metadata": {},
   "outputs": [],
   "source": [
    "maxs=apply(my_data[,],2,max)\n",
    "mins=apply(my_data[,],2,min)\n",
    "scaled=as.data.frame(scale(my_data[,],center=mins,scale=maxs-mins))\n",
    "#min-max normalization "
   ]
  },
  {
   "cell_type": "code",
   "execution_count": 170,
   "metadata": {},
   "outputs": [],
   "source": [
    "set.seed(1234)\n",
    "index=sample(1:nrow(my_data),0.7*nrow(my_data),replace=FALSE)\n",
    "train_set=scaled[index,]\n",
    "test_set=scaled[-index,]"
   ]
  },
  {
   "cell_type": "code",
   "execution_count": 173,
   "metadata": {},
   "outputs": [
    {
     "name": "stderr",
     "output_type": "stream",
     "text": [
      "also installing the dependency 'Deriv'\n",
      "\n"
     ]
    },
    {
     "name": "stdout",
     "output_type": "stream",
     "text": [
      "package 'Deriv' successfully unpacked and MD5 sums checked\n",
      "package 'neuralnet' successfully unpacked and MD5 sums checked\n",
      "\n",
      "The downloaded binary packages are in\n",
      "\tC:\\Users\\User\\AppData\\Local\\Temp\\Rtmp6ddqIz\\downloaded_packages\n"
     ]
    }
   ],
   "source": [
    "#install.packages(\"neuralnet\")"
   ]
  },
  {
   "cell_type": "code",
   "execution_count": 192,
   "metadata": {},
   "outputs": [],
   "source": [
    "library(neuralnet)\n",
    "set.seed(1234)\n",
    "NN=neuralnet(mpg~.,data=train_set,hidden=1,act.fct=\"logistic\")\n",
    "plot(NN)"
   ]
  },
  {
   "cell_type": "code",
   "execution_count": 193,
   "metadata": {},
   "outputs": [],
   "source": [
    "predicted=compute(NN,train_set[,2:9])"
   ]
  },
  {
   "cell_type": "code",
   "execution_count": 194,
   "metadata": {},
   "outputs": [],
   "source": [
    "predicted_train=predicted$net.result*(max(my_data$mpg)-min(my_data$mpg))+\n",
    "    min(my_data$mpg)"
   ]
  },
  {
   "cell_type": "code",
   "execution_count": 195,
   "metadata": {},
   "outputs": [],
   "source": [
    "rmse=function(predicted,actual){\n",
    "    mse=sum((predicted-actual)^2)/length(actual)\n",
    "    return(sqrt(mse))\n",
    "}"
   ]
  },
  {
   "cell_type": "code",
   "execution_count": 196,
   "metadata": {},
   "outputs": [
    {
     "name": "stdout",
     "output_type": "stream",
     "text": [
      "Train RMSE:  19.1042"
     ]
    }
   ],
   "source": [
    "cat(\"Train RMSE: \",rmse(predicted_train,train_set$mpg))"
   ]
  },
  {
   "cell_type": "code",
   "execution_count": 197,
   "metadata": {},
   "outputs": [],
   "source": [
    "predicted2=compute(NN,test_set[,2:9])\n",
    "predicted_test=predicted2$net.result*(test_set$mpg)*\n",
    "    (max(my_data$mpg)-min(my_data$mpg))+min(my_data$mpg)"
   ]
  },
  {
   "cell_type": "code",
   "execution_count": 191,
   "metadata": {},
   "outputs": [
    {
     "name": "stdout",
     "output_type": "stream",
     "text": [
      "Test RMSE:  18.04442"
     ]
    }
   ],
   "source": [
    "cat(\"Test RMSE: \",rmse(predicted_test,test_set$mpg))"
   ]
  },
  {
   "cell_type": "markdown",
   "metadata": {},
   "source": [
    "# CH6: การวิเคราะห์แบ่งกลุ่ม"
   ]
  },
  {
   "cell_type": "markdown",
   "metadata": {},
   "source": [
    "### การแบ่งส่วน"
   ]
  },
  {
   "cell_type": "code",
   "execution_count": 209,
   "metadata": {},
   "outputs": [],
   "source": [
    "data=data.frame(\n",
    "    ace=c(22,22,23,24,48,27,28,32,34,35,38,40,55,60,50,53,40),\n",
    "    online_shopping=c(15,20,30,18,25,25,30,50,65,55,68,50,20,15,35,32,40))"
   ]
  },
  {
   "cell_type": "code",
   "execution_count": 210,
   "metadata": {},
   "outputs": [
    {
     "data": {
      "text/plain": [
       "K-means clustering with 3 clusters of sizes 5, 6, 6\n",
       "\n",
       "Cluster means:\n",
       "       ace online_shopping\n",
       "1 53.20000        25.40000\n",
       "2 36.50000        54.66667\n",
       "3 24.33333        23.00000\n",
       "\n",
       "Clustering vector:\n",
       " [1] 3 3 3 3 1 3 3 2 2 2 2 2 1 1 1 1 2\n",
       "\n",
       "Within cluster sum of squares by cluster:\n",
       "[1] 360.0000 598.8333 233.3333\n",
       " (between_SS / total_SS =  83.2 %)\n",
       "\n",
       "Available components:\n",
       "\n",
       "[1] \"cluster\"      \"centers\"      \"totss\"        \"withinss\"     \"tot.withinss\"\n",
       "[6] \"betweenss\"    \"size\"         \"iter\"         \"ifault\"      "
      ]
     },
     "metadata": {},
     "output_type": "display_data"
    }
   ],
   "source": [
    "kc=kmeans(data,3,algorithm=\"MacQueen\")\n",
    "kc"
   ]
  },
  {
   "cell_type": "code",
   "execution_count": 211,
   "metadata": {},
   "outputs": [
    {
     "data": {
      "image/png": "[encoded data removed]",
      "text/plain": [
       "plot without title"
      ]
     },
     "metadata": {},
     "output_type": "display_data"
    }
   ],
   "source": [
    "plot(data,col=kc$cluster)\n",
    "points(kc$centers,col=1:3,pch=18,cex=2)"
   ]
  },
  {
   "cell_type": "markdown",
   "metadata": {},
   "source": [
    "### วิธีลำดับขั้น "
   ]
  },
  {
   "cell_type": "code",
   "execution_count": 217,
   "metadata": {},
   "outputs": [],
   "source": [
    "library(cluster)"
   ]
  },
  {
   "cell_type": "code",
   "execution_count": 221,
   "metadata": {},
   "outputs": [
    {
     "data": {
      "text/plain": [
       "Call:\t agnes(x = d, diss = inherits(data, \"dist\"), metric = \"euclidean\",      stand = FALSE, method = \"average\") \n",
       "Agglomerative coefficient:  0.8100236 \n",
       "Order of objects:\n",
       " [1] 1  2  4  3  7  6  5  15 16 13 14 8  12 10 17 9  11\n",
       "Height (summary):\n",
       "   Min. 1st Qu.  Median    Mean 3rd Qu.    Max. \n",
       "  6.607  14.512  22.884  33.441  43.947  94.235 \n",
       "\n",
       "Available components:\n",
       "[1] \"order\"     \"height\"    \"ac\"        \"merge\"     \"diss\"      \"call\"     \n",
       "[7] \"method\"    \"order.lab\" \"data\"     "
      ]
     },
     "metadata": {},
     "output_type": "display_data"
    }
   ],
   "source": [
    "d=dist(as.matrix(data),method=\"euclidean\")\n",
    "hc_agnes=agnes(data,diss=inherits(data,\"dist\"),metric=\"euclidean\",\n",
    "              stand=FALSE,method=\"average\")#x is dataframe\n",
    "hc_agnes=agnes(d,diss=inherits(data,\"dist\"),metric=\"euclidean\",\n",
    "              stand=FALSE,method=\"average\")#x is matrix\n",
    "hc_agnes"
   ]
  },
  {
   "cell_type": "code",
   "execution_count": 222,
   "metadata": {},
   "outputs": [
    {
     "data": {
      "text/html": [
       "0.81002363123729"
      ],
      "text/latex": [
       "0.81002363123729"
      ],
      "text/markdown": [
       "0.81002363123729"
      ],
      "text/plain": [
       "[1] 0.8100236"
      ]
     },
     "metadata": {},
     "output_type": "display_data"
    }
   ],
   "source": [
    "hc_agnes$ac"
   ]
  },
  {
   "cell_type": "code",
   "execution_count": 223,
   "metadata": {},
   "outputs": [
    {
     "data": {
      "image/png": "[encoded data removed]",
      "text/plain": [
       "Plot with title \"Dendrogram of agnes\""
      ]
     },
     "metadata": {},
     "output_type": "display_data"
    }
   ],
   "source": [
    "pltree(hc_agnes,cex=0.6,hang=-1,main=\"Dendrogram of agnes\")"
   ]
  },
  {
   "cell_type": "code",
   "execution_count": 224,
   "metadata": {},
   "outputs": [
    {
     "data": {
      "text/html": [
       "<ol class=list-inline>\n",
       "\t<li>1</li>\n",
       "\t<li>1</li>\n",
       "\t<li>1</li>\n",
       "\t<li>1</li>\n",
       "\t<li>2</li>\n",
       "\t<li>1</li>\n",
       "\t<li>1</li>\n",
       "\t<li>3</li>\n",
       "\t<li>3</li>\n",
       "\t<li>3</li>\n",
       "\t<li>3</li>\n",
       "\t<li>3</li>\n",
       "\t<li>2</li>\n",
       "\t<li>2</li>\n",
       "\t<li>2</li>\n",
       "\t<li>2</li>\n",
       "\t<li>3</li>\n",
       "</ol>\n"
      ],
      "text/latex": [
       "\\begin{enumerate*}\n",
       "\\item 1\n",
       "\\item 1\n",
       "\\item 1\n",
       "\\item 1\n",
       "\\item 2\n",
       "\\item 1\n",
       "\\item 1\n",
       "\\item 3\n",
       "\\item 3\n",
       "\\item 3\n",
       "\\item 3\n",
       "\\item 3\n",
       "\\item 2\n",
       "\\item 2\n",
       "\\item 2\n",
       "\\item 2\n",
       "\\item 3\n",
       "\\end{enumerate*}\n"
      ],
      "text/markdown": [
       "1. 1\n",
       "2. 1\n",
       "3. 1\n",
       "4. 1\n",
       "5. 2\n",
       "6. 1\n",
       "7. 1\n",
       "8. 3\n",
       "9. 3\n",
       "10. 3\n",
       "11. 3\n",
       "12. 3\n",
       "13. 2\n",
       "14. 2\n",
       "15. 2\n",
       "16. 2\n",
       "17. 3\n",
       "\n",
       "\n"
      ],
      "text/plain": [
       " [1] 1 1 1 1 2 1 1 3 3 3 3 3 2 2 2 2 3"
      ]
     },
     "metadata": {},
     "output_type": "display_data"
    }
   ],
   "source": [
    "sub_grp=cutree(hc_agnes,k=3)\n",
    "sub_grp"
   ]
  },
  {
   "cell_type": "code",
   "execution_count": 225,
   "metadata": {},
   "outputs": [
    {
     "data": {
      "image/png": "[encoded data removed]",
      "text/plain": [
       "plot without title"
      ]
     },
     "metadata": {},
     "output_type": "display_data"
    }
   ],
   "source": [
    "plot(data,col=sub_grp)"
   ]
  },
  {
   "cell_type": "code",
   "execution_count": 226,
   "metadata": {
    "scrolled": true
   },
   "outputs": [
    {
     "data": {
      "image/png": "[encoded data removed]",
      "text/plain": [
       "Plot with title \"Dendrogram of Diana\""
      ]
     },
     "metadata": {},
     "output_type": "display_data"
    }
   ],
   "source": [
    "dv=diana(data,stand=FALSE)\n",
    "pltree(dv,cex=0.6,hang=-1,main=\"Dendrogram of Diana\")"
   ]
  },
  {
   "cell_type": "code",
   "execution_count": 227,
   "metadata": {},
   "outputs": [
    {
     "data": {
      "text/html": [
       "<ol class=list-inline>\n",
       "\t<li>1</li>\n",
       "\t<li>1</li>\n",
       "\t<li>1</li>\n",
       "\t<li>1</li>\n",
       "\t<li>2</li>\n",
       "\t<li>1</li>\n",
       "\t<li>1</li>\n",
       "\t<li>3</li>\n",
       "\t<li>3</li>\n",
       "\t<li>3</li>\n",
       "\t<li>3</li>\n",
       "\t<li>3</li>\n",
       "\t<li>2</li>\n",
       "\t<li>2</li>\n",
       "\t<li>2</li>\n",
       "\t<li>2</li>\n",
       "\t<li>3</li>\n",
       "</ol>\n"
      ],
      "text/latex": [
       "\\begin{enumerate*}\n",
       "\\item 1\n",
       "\\item 1\n",
       "\\item 1\n",
       "\\item 1\n",
       "\\item 2\n",
       "\\item 1\n",
       "\\item 1\n",
       "\\item 3\n",
       "\\item 3\n",
       "\\item 3\n",
       "\\item 3\n",
       "\\item 3\n",
       "\\item 2\n",
       "\\item 2\n",
       "\\item 2\n",
       "\\item 2\n",
       "\\item 3\n",
       "\\end{enumerate*}\n"
      ],
      "text/markdown": [
       "1. 1\n",
       "2. 1\n",
       "3. 1\n",
       "4. 1\n",
       "5. 2\n",
       "6. 1\n",
       "7. 1\n",
       "8. 3\n",
       "9. 3\n",
       "10. 3\n",
       "11. 3\n",
       "12. 3\n",
       "13. 2\n",
       "14. 2\n",
       "15. 2\n",
       "16. 2\n",
       "17. 3\n",
       "\n",
       "\n"
      ],
      "text/plain": [
       " [1] 1 1 1 1 2 1 1 3 3 3 3 3 2 2 2 2 3"
      ]
     },
     "metadata": {},
     "output_type": "display_data"
    }
   ],
   "source": [
    "dc=cutree(as.hclust(dv),k=3)\n",
    "dc"
   ]
  },
  {
   "cell_type": "code",
   "execution_count": 228,
   "metadata": {},
   "outputs": [
    {
     "data": {
      "image/png": "[encoded data removed]",
      "text/plain": [
       "plot without title"
      ]
     },
     "metadata": {},
     "output_type": "display_data"
    }
   ],
   "source": [
    "plot(data,col=dc)"
   ]
  }
 ],
 "metadata": {
  "kernelspec": {
   "display_name": "R",
   "language": "R",
   "name": "ir"
  },
  "language_info": {
   "codemirror_mode": "r",
   "file_extension": ".r",
   "mimetype": "text/x-r-source",
   "name": "R",
   "pygments_lexer": "r",
   "version": "3.6.1"
  }
 },
 "nbformat": 4,
 "nbformat_minor": 4
}
