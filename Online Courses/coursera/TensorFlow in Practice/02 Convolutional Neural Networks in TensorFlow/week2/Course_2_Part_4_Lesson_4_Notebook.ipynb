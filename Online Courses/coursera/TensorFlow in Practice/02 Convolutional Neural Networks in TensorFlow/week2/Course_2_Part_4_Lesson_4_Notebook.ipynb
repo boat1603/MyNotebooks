{
  "nbformat": 4,
  "nbformat_minor": 0,
  "metadata": {
    "accelerator": "GPU",
    "colab": {
      "name": "Course 2 - Part 4 - Lesson 4 - Notebook.ipynb",
      "provenance": [],
      "collapsed_sections": [],
      "toc_visible": true
    },
    "kernelspec": {
      "display_name": "Python 3",
      "name": "python3"
    }
  },
  "cells": [
    {
      "cell_type": "markdown",
      "metadata": {
        "colab_type": "text",
        "id": "rX8mhOLljYeM"
      },
      "source": [
        "##### Copyright 2019 The TensorFlow Authors."
      ]
    },
    {
      "cell_type": "code",
      "metadata": {
        "cellView": "form",
        "colab_type": "code",
        "id": "BZSlp3DAjdYf",
        "colab": {}
      },
      "source": [
        "#@title Licensed under the Apache License, Version 2.0 (the \"License\");\n",
        "# you may not use this file except in compliance with the License.\n",
        "# You may obtain a copy of the License at\n",
        "#\n",
        "# https://www.apache.org/licenses/LICENSE-2.0\n",
        "#\n",
        "# Unless required by applicable law or agreed to in writing, software\n",
        "# distributed under the License is distributed on an \"AS IS\" BASIS,\n",
        "# WITHOUT WARRANTIES OR CONDITIONS OF ANY KIND, either express or implied.\n",
        "# See the License for the specific language governing permissions and\n",
        "# limitations under the License."
      ],
      "execution_count": null,
      "outputs": []
    },
    {
      "cell_type": "code",
      "metadata": {
        "colab_type": "code",
        "id": "RXZT2UsyIVe_",
        "colab": {
          "base_uri": "https://localhost:8080/",
          "height": 386
        },
        "outputId": "e1ee1801-cf51-4618-ef2b-1cafd2c80053"
      },
      "source": [
        "!wget --no-check-certificate \\\n",
        "    https://storage.googleapis.com/laurencemoroney-blog.appspot.com/horse-or-human.zip \\\n",
        "    -O /tmp/horse-or-human.zip\n",
        "\n",
        "!wget --no-check-certificate \\\n",
        "    https://storage.googleapis.com/laurencemoroney-blog.appspot.com/validation-horse-or-human.zip \\\n",
        "    -O /tmp/validation-horse-or-human.zip\n",
        "  \n",
        "import os\n",
        "import zipfile\n",
        "\n",
        "local_zip = '/tmp/horse-or-human.zip'\n",
        "zip_ref = zipfile.ZipFile(local_zip, 'r')\n",
        "zip_ref.extractall('/tmp/horse-or-human')\n",
        "local_zip = '/tmp/validation-horse-or-human.zip'\n",
        "zip_ref = zipfile.ZipFile(local_zip, 'r')\n",
        "zip_ref.extractall('/tmp/validation-horse-or-human')\n",
        "zip_ref.close()\n",
        "# Directory with our training horse pictures\n",
        "train_horse_dir = os.path.join('/tmp/horse-or-human/horses')\n",
        "\n",
        "# Directory with our training human pictures\n",
        "train_human_dir = os.path.join('/tmp/horse-or-human/humans')\n",
        "\n",
        "# Directory with our training horse pictures\n",
        "validation_horse_dir = os.path.join('/tmp/validation-horse-or-human/horses')\n",
        "\n",
        "# Directory with our training human pictures\n",
        "validation_human_dir = os.path.join('/tmp/validation-horse-or-human/humans')"
      ],
      "execution_count": 1,
      "outputs": [
        {
          "output_type": "stream",
          "text": [
            "--2020-08-07 01:52:02--  https://storage.googleapis.com/laurencemoroney-blog.appspot.com/horse-or-human.zip\n",
            "Resolving storage.googleapis.com (storage.googleapis.com)... 74.125.20.128, 74.125.197.128, 74.125.142.128, ...\n",
            "Connecting to storage.googleapis.com (storage.googleapis.com)|74.125.20.128|:443... connected.\n",
            "HTTP request sent, awaiting response... 200 OK\n",
            "Length: 149574867 (143M) [application/zip]\n",
            "Saving to: ‘/tmp/horse-or-human.zip’\n",
            "\n",
            "/tmp/horse-or-human 100%[===================>] 142.65M   100MB/s    in 1.4s    \n",
            "\n",
            "2020-08-07 01:52:04 (100 MB/s) - ‘/tmp/horse-or-human.zip’ saved [149574867/149574867]\n",
            "\n",
            "--2020-08-07 01:52:05--  https://storage.googleapis.com/laurencemoroney-blog.appspot.com/validation-horse-or-human.zip\n",
            "Resolving storage.googleapis.com (storage.googleapis.com)... 74.125.142.128, 74.125.195.128, 74.125.20.128, ...\n",
            "Connecting to storage.googleapis.com (storage.googleapis.com)|74.125.142.128|:443... connected.\n",
            "HTTP request sent, awaiting response... 200 OK\n",
            "Length: 11480187 (11M) [application/zip]\n",
            "Saving to: ‘/tmp/validation-horse-or-human.zip’\n",
            "\n",
            "/tmp/validation-hor 100%[===================>]  10.95M  39.9MB/s    in 0.3s    \n",
            "\n",
            "2020-08-07 01:52:06 (39.9 MB/s) - ‘/tmp/validation-horse-or-human.zip’ saved [11480187/11480187]\n",
            "\n"
          ],
          "name": "stdout"
        }
      ]
    },
    {
      "cell_type": "markdown",
      "metadata": {
        "colab_type": "text",
        "id": "5oqBkNBJmtUv"
      },
      "source": [
        "## Building a Small Model from Scratch\n",
        "\n",
        "But before we continue, let's start defining the model:\n",
        "\n",
        "Step 1 will be to import tensorflow."
      ]
    },
    {
      "cell_type": "code",
      "metadata": {
        "colab_type": "code",
        "id": "qvfZg3LQbD-5",
        "colab": {}
      },
      "source": [
        "import tensorflow as tf"
      ],
      "execution_count": 2,
      "outputs": []
    },
    {
      "cell_type": "markdown",
      "metadata": {
        "colab_type": "text",
        "id": "BnhYCP4tdqjC"
      },
      "source": [
        "We then add convolutional layers as in the previous example, and flatten the final result to feed into the densely connected layers."
      ]
    },
    {
      "cell_type": "markdown",
      "metadata": {
        "colab_type": "text",
        "id": "gokG5HKpdtzm"
      },
      "source": [
        "Finally we add the densely connected layers. \n",
        "\n",
        "Note that because we are facing a two-class classification problem, i.e. a *binary classification problem*, we will end our network with a [*sigmoid* activation](https://wikipedia.org/wiki/Sigmoid_function), so that the output of our network will be a single scalar between 0 and 1, encoding the probability that the current image is class 1 (as opposed to class 0)."
      ]
    },
    {
      "cell_type": "code",
      "metadata": {
        "colab_type": "code",
        "id": "PixZ2s5QbYQ3",
        "colab": {}
      },
      "source": [
        "model = tf.keras.models.Sequential([\n",
        "    # Note the input shape is the desired size of the image 300x300 with 3 bytes color\n",
        "    # This is the first convolution\n",
        "    tf.keras.layers.Conv2D(16, (3,3), activation='relu', input_shape=(300, 300, 3)),\n",
        "    tf.keras.layers.MaxPooling2D(2, 2),\n",
        "    # The second convolution\n",
        "    tf.keras.layers.Conv2D(32, (3,3), activation='relu'),\n",
        "    tf.keras.layers.MaxPooling2D(2,2),\n",
        "    # The third convolution\n",
        "    tf.keras.layers.Conv2D(64, (3,3), activation='relu'),\n",
        "    tf.keras.layers.MaxPooling2D(2,2),\n",
        "    # The fourth convolution\n",
        "    tf.keras.layers.Conv2D(64, (3,3), activation='relu'),\n",
        "    tf.keras.layers.MaxPooling2D(2,2),\n",
        "    # The fifth convolution\n",
        "    tf.keras.layers.Conv2D(64, (3,3), activation='relu'),\n",
        "    tf.keras.layers.MaxPooling2D(2,2),\n",
        "    # Flatten the results to feed into a DNN\n",
        "    tf.keras.layers.Flatten(),\n",
        "    # 512 neuron hidden layer\n",
        "    tf.keras.layers.Dense(512, activation='relu'),\n",
        "    # Only 1 output neuron. It will contain a value from 0-1 where 0 for 1 class ('horses') and 1 for the other ('humans')\n",
        "    tf.keras.layers.Dense(1, activation='sigmoid')\n",
        "])"
      ],
      "execution_count": 3,
      "outputs": []
    },
    {
      "cell_type": "code",
      "metadata": {
        "colab_type": "code",
        "id": "8DHWhFP_uhq3",
        "colab": {}
      },
      "source": [
        "from tensorflow.keras.optimizers import RMSprop\n",
        "\n",
        "model.compile(loss='binary_crossentropy',\n",
        "              optimizer=RMSprop(lr=1e-4),\n",
        "              metrics=['accuracy'])"
      ],
      "execution_count": 4,
      "outputs": []
    },
    {
      "cell_type": "code",
      "metadata": {
        "colab_type": "code",
        "id": "ClebU9NJg99G",
        "colab": {
          "base_uri": "https://localhost:8080/",
          "height": 50
        },
        "outputId": "f75e7c2e-87f2-42c6-d4bd-e8d2fbea3a97"
      },
      "source": [
        "from tensorflow.keras.preprocessing.image import ImageDataGenerator\n",
        "\n",
        "# All images will be rescaled by 1./255\n",
        "train_datagen = ImageDataGenerator(\n",
        "      rescale=1./255,\n",
        "      rotation_range=40,\n",
        "      width_shift_range=0.2,\n",
        "      height_shift_range=0.2,\n",
        "      shear_range=0.2,\n",
        "      zoom_range=0.2,\n",
        "      horizontal_flip=True,\n",
        "      fill_mode='nearest')\n",
        "\n",
        "validation_datagen = ImageDataGenerator(rescale=1/255)\n",
        "\n",
        "# Flow training images in batches of 128 using train_datagen generator\n",
        "train_generator = train_datagen.flow_from_directory(\n",
        "        '/tmp/horse-or-human/',  # This is the source directory for training images\n",
        "        target_size=(300, 300),  # All images will be resized to 150x150\n",
        "        batch_size=128,\n",
        "        # Since we use binary_crossentropy loss, we need binary labels\n",
        "        class_mode='binary')\n",
        "\n",
        "# Flow training images in batches of 128 using train_datagen generator\n",
        "validation_generator = validation_datagen.flow_from_directory(\n",
        "        '/tmp/validation-horse-or-human/',  # This is the source directory for training images\n",
        "        target_size=(300, 300),  # All images will be resized to 150x150\n",
        "        batch_size=32,\n",
        "        # Since we use binary_crossentropy loss, we need binary labels\n",
        "        class_mode='binary')"
      ],
      "execution_count": 5,
      "outputs": [
        {
          "output_type": "stream",
          "text": [
            "Found 1027 images belonging to 2 classes.\n",
            "Found 256 images belonging to 2 classes.\n"
          ],
          "name": "stdout"
        }
      ]
    },
    {
      "cell_type": "code",
      "metadata": {
        "colab_type": "code",
        "id": "Fb1_lgobv81m",
        "colab": {
          "base_uri": "https://localhost:8080/",
          "height": 1000
        },
        "outputId": "8dff6ec8-201b-475f-bd9f-f2fa6670fc10"
      },
      "source": [
        "history = model.fit(\n",
        "      train_generator,\n",
        "      steps_per_epoch=8,  \n",
        "      epochs=100,\n",
        "      verbose=1,\n",
        "      validation_data = validation_generator,\n",
        "      validation_steps=8)"
      ],
      "execution_count": 6,
      "outputs": [
        {
          "output_type": "stream",
          "text": [
            "Epoch 1/100\n",
            "8/8 [==============================] - 19s 2s/step - loss: 0.6844 - accuracy: 0.5662 - val_loss: 0.6443 - val_accuracy: 0.9297\n",
            "Epoch 2/100\n",
            "8/8 [==============================] - 19s 2s/step - loss: 0.6813 - accuracy: 0.5962 - val_loss: 0.6191 - val_accuracy: 0.7773\n",
            "Epoch 3/100\n",
            "8/8 [==============================] - 19s 2s/step - loss: 0.6622 - accuracy: 0.5973 - val_loss: 0.5948 - val_accuracy: 0.8164\n",
            "Epoch 4/100\n",
            "8/8 [==============================] - 19s 2s/step - loss: 0.6523 - accuracy: 0.6908 - val_loss: 0.5948 - val_accuracy: 0.6172\n",
            "Epoch 5/100\n",
            "8/8 [==============================] - 21s 3s/step - loss: 0.6234 - accuracy: 0.7070 - val_loss: 0.7172 - val_accuracy: 0.5000\n",
            "Epoch 6/100\n",
            "8/8 [==============================] - 19s 2s/step - loss: 0.6179 - accuracy: 0.6563 - val_loss: 0.5396 - val_accuracy: 0.7188\n",
            "Epoch 7/100\n",
            "8/8 [==============================] - 19s 2s/step - loss: 0.5800 - accuracy: 0.6885 - val_loss: 0.4904 - val_accuracy: 0.7930\n",
            "Epoch 8/100\n",
            "8/8 [==============================] - 21s 3s/step - loss: 0.5543 - accuracy: 0.7129 - val_loss: 0.5135 - val_accuracy: 0.7109\n",
            "Epoch 9/100\n",
            "8/8 [==============================] - 18s 2s/step - loss: 0.5609 - accuracy: 0.7219 - val_loss: 0.9109 - val_accuracy: 0.5039\n",
            "Epoch 10/100\n",
            "8/8 [==============================] - 18s 2s/step - loss: 0.5541 - accuracy: 0.7253 - val_loss: 1.5710 - val_accuracy: 0.5000\n",
            "Epoch 11/100\n",
            "8/8 [==============================] - 19s 2s/step - loss: 0.6002 - accuracy: 0.7208 - val_loss: 0.5774 - val_accuracy: 0.6484\n",
            "Epoch 12/100\n",
            "8/8 [==============================] - 19s 2s/step - loss: 0.5109 - accuracy: 0.7597 - val_loss: 0.4723 - val_accuracy: 0.7617\n",
            "Epoch 13/100\n",
            "8/8 [==============================] - 19s 2s/step - loss: 0.4970 - accuracy: 0.7608 - val_loss: 0.7368 - val_accuracy: 0.6094\n",
            "Epoch 14/100\n",
            "8/8 [==============================] - 19s 2s/step - loss: 0.5102 - accuracy: 0.7608 - val_loss: 0.6469 - val_accuracy: 0.6445\n",
            "Epoch 15/100\n",
            "8/8 [==============================] - 19s 2s/step - loss: 0.4905 - accuracy: 0.7697 - val_loss: 0.7622 - val_accuracy: 0.6211\n",
            "Epoch 16/100\n",
            "8/8 [==============================] - 18s 2s/step - loss: 0.5337 - accuracy: 0.7241 - val_loss: 0.7214 - val_accuracy: 0.6523\n",
            "Epoch 17/100\n",
            "8/8 [==============================] - 19s 2s/step - loss: 0.4981 - accuracy: 0.7497 - val_loss: 0.6538 - val_accuracy: 0.6758\n",
            "Epoch 18/100\n",
            "8/8 [==============================] - 18s 2s/step - loss: 0.4426 - accuracy: 0.7987 - val_loss: 1.0718 - val_accuracy: 0.5703\n",
            "Epoch 19/100\n",
            "8/8 [==============================] - 21s 3s/step - loss: 0.4560 - accuracy: 0.8027 - val_loss: 0.8753 - val_accuracy: 0.6211\n",
            "Epoch 20/100\n",
            "8/8 [==============================] - 19s 2s/step - loss: 0.4512 - accuracy: 0.8020 - val_loss: 0.8594 - val_accuracy: 0.6289\n",
            "Epoch 21/100\n",
            "8/8 [==============================] - 21s 3s/step - loss: 0.4247 - accuracy: 0.7998 - val_loss: 0.6154 - val_accuracy: 0.7383\n",
            "Epoch 22/100\n",
            "8/8 [==============================] - 19s 2s/step - loss: 0.3868 - accuracy: 0.8254 - val_loss: 0.7740 - val_accuracy: 0.6914\n",
            "Epoch 23/100\n",
            "8/8 [==============================] - 19s 2s/step - loss: 0.5270 - accuracy: 0.7508 - val_loss: 0.9517 - val_accuracy: 0.6328\n",
            "Epoch 24/100\n",
            "8/8 [==============================] - 19s 2s/step - loss: 0.3807 - accuracy: 0.8365 - val_loss: 1.0441 - val_accuracy: 0.6367\n",
            "Epoch 25/100\n",
            "8/8 [==============================] - 18s 2s/step - loss: 0.4322 - accuracy: 0.8076 - val_loss: 0.8324 - val_accuracy: 0.6758\n",
            "Epoch 26/100\n",
            "8/8 [==============================] - 19s 2s/step - loss: 0.3891 - accuracy: 0.8287 - val_loss: 0.8439 - val_accuracy: 0.6953\n",
            "Epoch 27/100\n",
            "8/8 [==============================] - 19s 2s/step - loss: 0.3964 - accuracy: 0.8187 - val_loss: 0.8415 - val_accuracy: 0.6992\n",
            "Epoch 28/100\n",
            "8/8 [==============================] - 18s 2s/step - loss: 0.4076 - accuracy: 0.8231 - val_loss: 0.8180 - val_accuracy: 0.6914\n",
            "Epoch 29/100\n",
            "8/8 [==============================] - 19s 2s/step - loss: 0.3575 - accuracy: 0.8487 - val_loss: 0.9795 - val_accuracy: 0.6914\n",
            "Epoch 30/100\n",
            "8/8 [==============================] - 19s 2s/step - loss: 0.4066 - accuracy: 0.8320 - val_loss: 1.2406 - val_accuracy: 0.6094\n",
            "Epoch 31/100\n",
            "8/8 [==============================] - 18s 2s/step - loss: 0.4347 - accuracy: 0.7964 - val_loss: 1.1488 - val_accuracy: 0.6484\n",
            "Epoch 32/100\n",
            "8/8 [==============================] - 19s 2s/step - loss: 0.3117 - accuracy: 0.8687 - val_loss: 1.2285 - val_accuracy: 0.6445\n",
            "Epoch 33/100\n",
            "8/8 [==============================] - 21s 3s/step - loss: 0.3512 - accuracy: 0.8543 - val_loss: 1.1923 - val_accuracy: 0.6445\n",
            "Epoch 34/100\n",
            "8/8 [==============================] - 18s 2s/step - loss: 0.4329 - accuracy: 0.7931 - val_loss: 0.9249 - val_accuracy: 0.6758\n",
            "Epoch 35/100\n",
            "8/8 [==============================] - 21s 3s/step - loss: 0.3317 - accuracy: 0.8621 - val_loss: 1.1048 - val_accuracy: 0.6484\n",
            "Epoch 36/100\n",
            "8/8 [==============================] - 20s 2s/step - loss: 0.3225 - accuracy: 0.8532 - val_loss: 1.4988 - val_accuracy: 0.5820\n",
            "Epoch 37/100\n",
            "8/8 [==============================] - 20s 2s/step - loss: 0.3556 - accuracy: 0.8465 - val_loss: 0.9553 - val_accuracy: 0.7031\n",
            "Epoch 38/100\n",
            "8/8 [==============================] - 20s 2s/step - loss: 0.3678 - accuracy: 0.8309 - val_loss: 1.3308 - val_accuracy: 0.6484\n",
            "Epoch 39/100\n",
            "8/8 [==============================] - 23s 3s/step - loss: 0.3005 - accuracy: 0.8633 - val_loss: 1.6397 - val_accuracy: 0.6016\n",
            "Epoch 40/100\n",
            "8/8 [==============================] - 23s 3s/step - loss: 0.3129 - accuracy: 0.8711 - val_loss: 1.1760 - val_accuracy: 0.6719\n",
            "Epoch 41/100\n",
            "8/8 [==============================] - 20s 3s/step - loss: 0.4631 - accuracy: 0.8276 - val_loss: 1.4370 - val_accuracy: 0.6367\n",
            "Epoch 42/100\n",
            "8/8 [==============================] - 23s 3s/step - loss: 0.2792 - accuracy: 0.8906 - val_loss: 1.3801 - val_accuracy: 0.6406\n",
            "Epoch 43/100\n",
            "8/8 [==============================] - 20s 2s/step - loss: 0.2691 - accuracy: 0.8943 - val_loss: 1.1218 - val_accuracy: 0.6953\n",
            "Epoch 44/100\n",
            "8/8 [==============================] - 19s 2s/step - loss: 0.3198 - accuracy: 0.8632 - val_loss: 2.4639 - val_accuracy: 0.5312\n",
            "Epoch 45/100\n",
            "8/8 [==============================] - 19s 2s/step - loss: 0.4477 - accuracy: 0.8420 - val_loss: 0.6254 - val_accuracy: 0.7617\n",
            "Epoch 46/100\n",
            "8/8 [==============================] - 19s 2s/step - loss: 0.2884 - accuracy: 0.8776 - val_loss: 1.4221 - val_accuracy: 0.6406\n",
            "Epoch 47/100\n",
            "8/8 [==============================] - 19s 2s/step - loss: 0.2647 - accuracy: 0.8988 - val_loss: 1.4231 - val_accuracy: 0.6406\n",
            "Epoch 48/100\n",
            "8/8 [==============================] - 19s 2s/step - loss: 0.2370 - accuracy: 0.9043 - val_loss: 1.1932 - val_accuracy: 0.6797\n",
            "Epoch 49/100\n",
            "8/8 [==============================] - 19s 2s/step - loss: 0.3510 - accuracy: 0.8487 - val_loss: 1.2096 - val_accuracy: 0.6602\n",
            "Epoch 50/100\n",
            "8/8 [==============================] - 19s 2s/step - loss: 0.2487 - accuracy: 0.8999 - val_loss: 2.9426 - val_accuracy: 0.5117\n",
            "Epoch 51/100\n",
            "8/8 [==============================] - 19s 2s/step - loss: 0.3432 - accuracy: 0.8554 - val_loss: 0.9171 - val_accuracy: 0.7227\n",
            "Epoch 52/100\n",
            "8/8 [==============================] - 19s 2s/step - loss: 0.2581 - accuracy: 0.8988 - val_loss: 1.1013 - val_accuracy: 0.7109\n",
            "Epoch 53/100\n",
            "8/8 [==============================] - 19s 2s/step - loss: 0.3110 - accuracy: 0.8699 - val_loss: 1.4498 - val_accuracy: 0.6406\n",
            "Epoch 54/100\n",
            "8/8 [==============================] - 19s 2s/step - loss: 0.2538 - accuracy: 0.8921 - val_loss: 1.6448 - val_accuracy: 0.6406\n",
            "Epoch 55/100\n",
            "8/8 [==============================] - 19s 2s/step - loss: 0.2356 - accuracy: 0.9010 - val_loss: 2.1901 - val_accuracy: 0.5781\n",
            "Epoch 56/100\n",
            "8/8 [==============================] - 22s 3s/step - loss: 0.2782 - accuracy: 0.8945 - val_loss: 0.9303 - val_accuracy: 0.7227\n",
            "Epoch 57/100\n",
            "8/8 [==============================] - 19s 2s/step - loss: 0.2579 - accuracy: 0.8854 - val_loss: 1.3225 - val_accuracy: 0.6992\n",
            "Epoch 58/100\n",
            "8/8 [==============================] - 19s 2s/step - loss: 0.2697 - accuracy: 0.8954 - val_loss: 1.1120 - val_accuracy: 0.7070\n",
            "Epoch 59/100\n",
            "8/8 [==============================] - 22s 3s/step - loss: 0.2361 - accuracy: 0.9088 - val_loss: 1.5952 - val_accuracy: 0.6484\n",
            "Epoch 60/100\n",
            "8/8 [==============================] - 19s 2s/step - loss: 0.2519 - accuracy: 0.8988 - val_loss: 1.7552 - val_accuracy: 0.6367\n",
            "Epoch 61/100\n",
            "8/8 [==============================] - 19s 2s/step - loss: 0.2218 - accuracy: 0.9110 - val_loss: 1.8747 - val_accuracy: 0.6328\n",
            "Epoch 62/100\n",
            "8/8 [==============================] - 21s 3s/step - loss: 0.2606 - accuracy: 0.8910 - val_loss: 1.9571 - val_accuracy: 0.6250\n",
            "Epoch 63/100\n",
            "8/8 [==============================] - 21s 3s/step - loss: 0.2126 - accuracy: 0.9177 - val_loss: 1.3806 - val_accuracy: 0.6875\n",
            "Epoch 64/100\n",
            "8/8 [==============================] - 18s 2s/step - loss: 0.2674 - accuracy: 0.8865 - val_loss: 1.4526 - val_accuracy: 0.6523\n",
            "Epoch 65/100\n",
            "8/8 [==============================] - 19s 2s/step - loss: 0.2990 - accuracy: 0.8977 - val_loss: 1.6777 - val_accuracy: 0.6328\n",
            "Epoch 66/100\n",
            "8/8 [==============================] - 19s 2s/step - loss: 0.2002 - accuracy: 0.9210 - val_loss: 1.5147 - val_accuracy: 0.6797\n",
            "Epoch 67/100\n",
            "8/8 [==============================] - 21s 3s/step - loss: 0.1988 - accuracy: 0.9287 - val_loss: 1.4749 - val_accuracy: 0.6953\n",
            "Epoch 68/100\n",
            "8/8 [==============================] - 18s 2s/step - loss: 0.2458 - accuracy: 0.9032 - val_loss: 1.5369 - val_accuracy: 0.6914\n",
            "Epoch 69/100\n",
            "8/8 [==============================] - 21s 3s/step - loss: 0.1986 - accuracy: 0.9229 - val_loss: 2.3975 - val_accuracy: 0.6055\n",
            "Epoch 70/100\n",
            "8/8 [==============================] - 21s 3s/step - loss: 0.2348 - accuracy: 0.8943 - val_loss: 1.3778 - val_accuracy: 0.7031\n",
            "Epoch 71/100\n",
            "8/8 [==============================] - 18s 2s/step - loss: 0.2123 - accuracy: 0.9166 - val_loss: 1.3067 - val_accuracy: 0.7070\n",
            "Epoch 72/100\n",
            "8/8 [==============================] - 21s 3s/step - loss: 0.1832 - accuracy: 0.9219 - val_loss: 1.9445 - val_accuracy: 0.6328\n",
            "Epoch 73/100\n",
            "8/8 [==============================] - 18s 2s/step - loss: 0.2142 - accuracy: 0.9110 - val_loss: 0.7582 - val_accuracy: 0.7617\n",
            "Epoch 74/100\n",
            "8/8 [==============================] - 18s 2s/step - loss: 0.3434 - accuracy: 0.8632 - val_loss: 1.1564 - val_accuracy: 0.7031\n",
            "Epoch 75/100\n",
            "8/8 [==============================] - 18s 2s/step - loss: 0.2003 - accuracy: 0.9299 - val_loss: 1.5005 - val_accuracy: 0.6797\n",
            "Epoch 76/100\n",
            "8/8 [==============================] - 21s 3s/step - loss: 0.1634 - accuracy: 0.9365 - val_loss: 1.1899 - val_accuracy: 0.7188\n",
            "Epoch 77/100\n",
            "8/8 [==============================] - 18s 2s/step - loss: 0.2552 - accuracy: 0.8988 - val_loss: 1.9803 - val_accuracy: 0.6484\n",
            "Epoch 78/100\n",
            "8/8 [==============================] - 21s 3s/step - loss: 0.1695 - accuracy: 0.9355 - val_loss: 1.6564 - val_accuracy: 0.6797\n",
            "Epoch 79/100\n",
            "8/8 [==============================] - 18s 2s/step - loss: 0.2756 - accuracy: 0.8888 - val_loss: 2.0440 - val_accuracy: 0.6328\n",
            "Epoch 80/100\n",
            "8/8 [==============================] - 18s 2s/step - loss: 0.1365 - accuracy: 0.9544 - val_loss: 1.9050 - val_accuracy: 0.6523\n",
            "Epoch 81/100\n",
            "8/8 [==============================] - 18s 2s/step - loss: 0.1749 - accuracy: 0.9299 - val_loss: 3.0629 - val_accuracy: 0.5703\n",
            "Epoch 82/100\n",
            "8/8 [==============================] - 18s 2s/step - loss: 0.2001 - accuracy: 0.9143 - val_loss: 1.5832 - val_accuracy: 0.7031\n",
            "Epoch 83/100\n",
            "8/8 [==============================] - 18s 2s/step - loss: 0.2505 - accuracy: 0.8999 - val_loss: 1.1105 - val_accuracy: 0.7266\n",
            "Epoch 84/100\n",
            "8/8 [==============================] - 18s 2s/step - loss: 0.1673 - accuracy: 0.9477 - val_loss: 1.2907 - val_accuracy: 0.7070\n",
            "Epoch 85/100\n",
            "8/8 [==============================] - 21s 3s/step - loss: 0.1928 - accuracy: 0.9232 - val_loss: 1.2106 - val_accuracy: 0.7266\n",
            "Epoch 86/100\n",
            "8/8 [==============================] - 20s 3s/step - loss: 0.1578 - accuracy: 0.9395 - val_loss: 2.6690 - val_accuracy: 0.6055\n",
            "Epoch 87/100\n",
            "8/8 [==============================] - 18s 2s/step - loss: 0.1868 - accuracy: 0.9299 - val_loss: 2.2928 - val_accuracy: 0.6211\n",
            "Epoch 88/100\n",
            "8/8 [==============================] - 21s 3s/step - loss: 0.1537 - accuracy: 0.9492 - val_loss: 1.3755 - val_accuracy: 0.7188\n",
            "Epoch 89/100\n",
            "8/8 [==============================] - 18s 2s/step - loss: 0.2275 - accuracy: 0.9055 - val_loss: 2.8033 - val_accuracy: 0.5898\n",
            "Epoch 90/100\n",
            "8/8 [==============================] - 21s 3s/step - loss: 0.1345 - accuracy: 0.9566 - val_loss: 1.9249 - val_accuracy: 0.6641\n",
            "Epoch 91/100\n",
            "8/8 [==============================] - 18s 2s/step - loss: 0.1307 - accuracy: 0.9544 - val_loss: 1.9194 - val_accuracy: 0.6602\n",
            "Epoch 92/100\n",
            "8/8 [==============================] - 18s 2s/step - loss: 0.1357 - accuracy: 0.9477 - val_loss: 1.4838 - val_accuracy: 0.7188\n",
            "Epoch 93/100\n",
            "8/8 [==============================] - 20s 3s/step - loss: 0.1560 - accuracy: 0.9404 - val_loss: 3.8092 - val_accuracy: 0.5820\n",
            "Epoch 94/100\n",
            "8/8 [==============================] - 18s 2s/step - loss: 0.1691 - accuracy: 0.9388 - val_loss: 1.8204 - val_accuracy: 0.6836\n",
            "Epoch 95/100\n",
            "8/8 [==============================] - 18s 2s/step - loss: 0.1884 - accuracy: 0.9188 - val_loss: 1.8757 - val_accuracy: 0.6641\n",
            "Epoch 96/100\n",
            "8/8 [==============================] - 20s 3s/step - loss: 0.1326 - accuracy: 0.9541 - val_loss: 2.1643 - val_accuracy: 0.6602\n",
            "Epoch 97/100\n",
            "8/8 [==============================] - 18s 2s/step - loss: 0.1731 - accuracy: 0.9277 - val_loss: 2.6385 - val_accuracy: 0.6289\n",
            "Epoch 98/100\n",
            "8/8 [==============================] - 18s 2s/step - loss: 0.1519 - accuracy: 0.9410 - val_loss: 4.2745 - val_accuracy: 0.5547\n",
            "Epoch 99/100\n",
            "8/8 [==============================] - 18s 2s/step - loss: 0.1781 - accuracy: 0.9277 - val_loss: 3.4361 - val_accuracy: 0.5469\n",
            "Epoch 100/100\n",
            "8/8 [==============================] - 18s 2s/step - loss: 0.1781 - accuracy: 0.9255 - val_loss: 3.6709 - val_accuracy: 0.5820\n"
          ],
          "name": "stdout"
        }
      ]
    },
    {
      "cell_type": "code",
      "metadata": {
        "colab_type": "code",
        "id": "7zNPRWOVJdOH",
        "colab": {
          "base_uri": "https://localhost:8080/",
          "height": 545
        },
        "outputId": "4e5a2cc1-2122-4484-c7cf-dffabf51cc0c"
      },
      "source": [
        "import matplotlib.pyplot as plt\n",
        "acc = history.history['accuracy']\n",
        "val_acc = history.history['val_accuracy']\n",
        "loss = history.history['loss']\n",
        "val_loss = history.history['val_loss']\n",
        "\n",
        "epochs = range(len(acc))\n",
        "\n",
        "plt.plot(epochs, acc, 'r', label='Training accuracy')\n",
        "plt.plot(epochs, val_acc, 'b', label='Validation accuracy')\n",
        "plt.title('Training and validation accuracy')\n",
        "\n",
        "plt.figure()\n",
        "\n",
        "plt.plot(epochs, loss, 'r', label='Training Loss')\n",
        "plt.plot(epochs, val_loss, 'b', label='Validation Loss')\n",
        "plt.title('Training and validation loss')\n",
        "plt.legend()\n",
        "\n",
        "plt.show()"
      ],
      "execution_count": 7,
      "outputs": [
        {
          "output_type": "display_data",
          "data": {
            "image/png": "[encoded data removed]",
            "text/plain": [
              "<Figure size 432x288 with 1 Axes>"
            ]
          },
          "metadata": {
            "tags": [],
            "needs_background": "light"
          }
        },
        {
          "output_type": "display_data",
          "data": {
            "image/png": "[encoded data removed]",
            "text/plain": [
              "<Figure size 432x288 with 1 Axes>"
            ]
          },
          "metadata": {
            "tags": [],
            "needs_background": "light"
          }
        }
      ]
    },
    {
      "cell_type": "code",
      "metadata": {
        "id": "9R3PSzfZniqT",
        "colab_type": "code",
        "colab": {}
      },
      "source": [
        ""
      ],
      "execution_count": null,
      "outputs": []
    }
  ]
}