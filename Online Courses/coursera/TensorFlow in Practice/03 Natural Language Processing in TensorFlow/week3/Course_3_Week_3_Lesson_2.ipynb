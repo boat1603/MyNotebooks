{
  "nbformat": 4,
  "nbformat_minor": 0,
  "metadata": {
    "accelerator": "GPU",
    "colab": {
      "name": "Course 3 - Week 3 - Lesson 2.ipynb",
      "provenance": [],
      "collapsed_sections": [],
      "toc_visible": true
    },
    "kernelspec": {
      "display_name": "Python 3",
      "language": "python",
      "name": "python3"
    },
    "language_info": {
      "codemirror_mode": {
        "name": "ipython",
        "version": 3
      },
      "file_extension": ".py",
      "mimetype": "text/x-python",
      "name": "python",
      "nbconvert_exporter": "python",
      "pygments_lexer": "ipython3",
      "version": "3.7.6"
    }
  },
  "cells": [
    {
      "cell_type": "code",
      "metadata": {
        "colab_type": "code",
        "id": "zX4Kg8DUTKWO",
        "colab": {}
      },
      "source": [
        "#@title Licensed under the Apache License, Version 2.0 (the \"License\");\n",
        "# you may not use this file except in compliance with the License.\n",
        "# You may obtain a copy of the License at\n",
        "#\n",
        "# https://www.apache.org/licenses/LICENSE-2.0\n",
        "#\n",
        "# Unless required by applicable law or agreed to in writing, software\n",
        "# distributed under the License is distributed on an \"AS IS\" BASIS,\n",
        "# WITHOUT WARRANTIES OR CONDITIONS OF ANY KIND, either express or implied.\n",
        "# See the License for the specific language governing permissions and\n",
        "# limitations under the License."
      ],
      "execution_count": null,
      "outputs": []
    },
    {
      "cell_type": "markdown",
      "metadata": {
        "id": "d4azuY2aguVX",
        "colab_type": "text"
      },
      "source": [
        "<a href=\"https://colab.research.google.com/github/lmoroney/dlaicourse/blob/master/TensorFlow%20In%20Practice/Course%203%20-%20NLP/Course%203%20-%20Week%203%20-%20Lesson%202.ipynb\" target=\"_parent\"><img src=\"https://colab.research.google.com/assets/colab-badge.svg\" alt=\"Open In Colab\"/></a>"
      ]
    },
    {
      "cell_type": "code",
      "metadata": {
        "colab_type": "code",
        "id": "jGwXGIXvFhXW",
        "colab": {
          "base_uri": "https://localhost:8080/",
          "height": 1000
        },
        "outputId": "d71df6d9-98e2-4f4c-f644-19533661df20"
      },
      "source": [
        "import numpy as np\n",
        "\n",
        "import json\n",
        "import tensorflow as tf\n",
        "\n",
        "from tensorflow.keras.preprocessing.text import Tokenizer\n",
        "from tensorflow.keras.preprocessing.sequence import pad_sequences\n",
        "\n",
        "!wget --no-check-certificate \\\n",
        "    https://storage.googleapis.com/laurencemoroney-blog.appspot.com/sarcasm.json \\\n",
        "    -O /tmp/sarcasm.json\n",
        "\n",
        "vocab_size = 1000\n",
        "embedding_dim = 16\n",
        "max_length = 120\n",
        "trunc_type='post'\n",
        "padding_type='post'\n",
        "oov_tok = \"<OOV>\"\n",
        "training_size = 20000\n",
        "\n",
        "\n",
        "with open(\"/tmp/sarcasm.json\", 'r') as f:\n",
        "    datastore = json.load(f)\n",
        "\n",
        "\n",
        "sentences = []\n",
        "labels = []\n",
        "urls = []\n",
        "for item in datastore:\n",
        "    sentences.append(item['headline'])\n",
        "    labels.append(item['is_sarcastic'])\n",
        "\n",
        "training_sentences = sentences[0:training_size]\n",
        "testing_sentences = sentences[training_size:]\n",
        "training_labels = labels[0:training_size]\n",
        "testing_labels = labels[training_size:]\n",
        "\n",
        "tokenizer = Tokenizer(num_words=vocab_size, oov_token=oov_tok)\n",
        "tokenizer.fit_on_texts(training_sentences)\n",
        "\n",
        "word_index = tokenizer.word_index\n",
        "\n",
        "training_sequences = tokenizer.texts_to_sequences(training_sentences)\n",
        "training_padded = pad_sequences(training_sequences, maxlen=max_length, padding=padding_type, truncating=trunc_type)\n",
        "\n",
        "testing_sequences = tokenizer.texts_to_sequences(testing_sentences)\n",
        "testing_padded = pad_sequences(testing_sequences, maxlen=max_length, padding=padding_type, truncating=trunc_type)\n",
        "\n",
        "model = tf.keras.Sequential([\n",
        "    tf.keras.layers.Embedding(vocab_size, embedding_dim, input_length=max_length),\n",
        "    tf.keras.layers.Bidirectional(tf.keras.layers.LSTM(32)),\n",
        "    tf.keras.layers.Dense(24, activation='relu'),\n",
        "    tf.keras.layers.Dense(1, activation='sigmoid')\n",
        "])\n",
        "model.compile(loss='binary_crossentropy',optimizer='adam',metrics=['accuracy'])\n",
        "model.summary()\n",
        "\n",
        "num_epochs = 50\n",
        "training_padded = np.array(training_padded)\n",
        "training_labels = np.array(training_labels)\n",
        "testing_padded = np.array(testing_padded)\n",
        "testing_labels = np.array(testing_labels)\n",
        "history = model.fit(training_padded, training_labels, epochs=num_epochs, validation_data=(testing_padded, testing_labels), verbose=1)\n"
      ],
      "execution_count": 1,
      "outputs": [
        {
          "output_type": "stream",
          "text": [
            "--2020-09-04 09:47:14--  https://storage.googleapis.com/laurencemoroney-blog.appspot.com/sarcasm.json\n",
            "Resolving storage.googleapis.com (storage.googleapis.com)... 173.194.217.128, 172.217.193.128, 172.217.204.128, ...\n",
            "Connecting to storage.googleapis.com (storage.googleapis.com)|173.194.217.128|:443... connected.\n",
            "HTTP request sent, awaiting response... 200 OK\n",
            "Length: 5643545 (5.4M) [application/json]\n",
            "Saving to: ‘/tmp/sarcasm.json’\n",
            "\n",
            "/tmp/sarcasm.json   100%[===================>]   5.38M  --.-KB/s    in 0.05s   \n",
            "\n",
            "2020-09-04 09:47:14 (108 MB/s) - ‘/tmp/sarcasm.json’ saved [5643545/5643545]\n",
            "\n",
            "Model: \"sequential\"\n",
            "_________________________________________________________________\n",
            "Layer (type)                 Output Shape              Param #   \n",
            "=================================================================\n",
            "embedding (Embedding)        (None, 120, 16)           16000     \n",
            "_________________________________________________________________\n",
            "bidirectional (Bidirectional (None, 64)                12544     \n",
            "_________________________________________________________________\n",
            "dense (Dense)                (None, 24)                1560      \n",
            "_________________________________________________________________\n",
            "dense_1 (Dense)              (None, 1)                 25        \n",
            "=================================================================\n",
            "Total params: 30,129\n",
            "Trainable params: 30,129\n",
            "Non-trainable params: 0\n",
            "_________________________________________________________________\n",
            "Epoch 1/50\n",
            "625/625 [==============================] - 38s 61ms/step - loss: 0.4540 - accuracy: 0.7668 - val_loss: 0.3872 - val_accuracy: 0.8217\n",
            "Epoch 2/50\n",
            "625/625 [==============================] - 37s 59ms/step - loss: 0.3562 - accuracy: 0.8370 - val_loss: 0.3777 - val_accuracy: 0.8253\n",
            "Epoch 3/50\n",
            "625/625 [==============================] - 37s 59ms/step - loss: 0.3355 - accuracy: 0.8487 - val_loss: 0.3770 - val_accuracy: 0.8281\n",
            "Epoch 4/50\n",
            "625/625 [==============================] - 37s 59ms/step - loss: 0.3185 - accuracy: 0.8571 - val_loss: 0.3718 - val_accuracy: 0.8308\n",
            "Epoch 5/50\n",
            "625/625 [==============================] - 37s 59ms/step - loss: 0.3042 - accuracy: 0.8662 - val_loss: 0.3704 - val_accuracy: 0.8357\n",
            "Epoch 6/50\n",
            "625/625 [==============================] - 37s 59ms/step - loss: 0.2923 - accuracy: 0.8712 - val_loss: 0.3790 - val_accuracy: 0.8307\n",
            "Epoch 7/50\n",
            "625/625 [==============================] - 37s 59ms/step - loss: 0.2836 - accuracy: 0.8776 - val_loss: 0.3940 - val_accuracy: 0.8292\n",
            "Epoch 8/50\n",
            "625/625 [==============================] - 37s 59ms/step - loss: 0.2747 - accuracy: 0.8802 - val_loss: 0.3800 - val_accuracy: 0.8313\n",
            "Epoch 9/50\n",
            "625/625 [==============================] - 37s 59ms/step - loss: 0.2662 - accuracy: 0.8855 - val_loss: 0.3886 - val_accuracy: 0.8323\n",
            "Epoch 10/50\n",
            "625/625 [==============================] - 37s 59ms/step - loss: 0.2581 - accuracy: 0.8891 - val_loss: 0.4010 - val_accuracy: 0.8271\n",
            "Epoch 11/50\n",
            "625/625 [==============================] - 37s 59ms/step - loss: 0.2504 - accuracy: 0.8918 - val_loss: 0.4183 - val_accuracy: 0.8256\n",
            "Epoch 12/50\n",
            "625/625 [==============================] - 37s 59ms/step - loss: 0.2452 - accuracy: 0.8956 - val_loss: 0.4060 - val_accuracy: 0.8247\n",
            "Epoch 13/50\n",
            "625/625 [==============================] - 37s 59ms/step - loss: 0.2375 - accuracy: 0.8985 - val_loss: 0.4200 - val_accuracy: 0.8261\n",
            "Epoch 14/50\n",
            "625/625 [==============================] - 37s 58ms/step - loss: 0.2315 - accuracy: 0.9009 - val_loss: 0.4478 - val_accuracy: 0.8225\n",
            "Epoch 15/50\n",
            "625/625 [==============================] - 37s 59ms/step - loss: 0.2251 - accuracy: 0.9037 - val_loss: 0.4564 - val_accuracy: 0.8246\n",
            "Epoch 16/50\n",
            "625/625 [==============================] - 37s 59ms/step - loss: 0.2178 - accuracy: 0.9093 - val_loss: 0.4701 - val_accuracy: 0.8202\n",
            "Epoch 17/50\n",
            "625/625 [==============================] - 37s 59ms/step - loss: 0.2109 - accuracy: 0.9107 - val_loss: 0.4725 - val_accuracy: 0.8208\n",
            "Epoch 18/50\n",
            "625/625 [==============================] - 37s 59ms/step - loss: 0.2029 - accuracy: 0.9144 - val_loss: 0.5195 - val_accuracy: 0.8135\n",
            "Epoch 19/50\n",
            "625/625 [==============================] - 37s 59ms/step - loss: 0.1976 - accuracy: 0.9189 - val_loss: 0.4943 - val_accuracy: 0.8155\n",
            "Epoch 20/50\n",
            "625/625 [==============================] - 37s 59ms/step - loss: 0.1909 - accuracy: 0.9218 - val_loss: 0.5699 - val_accuracy: 0.8159\n",
            "Epoch 21/50\n",
            "625/625 [==============================] - 37s 59ms/step - loss: 0.1824 - accuracy: 0.9251 - val_loss: 0.5755 - val_accuracy: 0.8132\n",
            "Epoch 22/50\n",
            "625/625 [==============================] - 37s 59ms/step - loss: 0.1751 - accuracy: 0.9287 - val_loss: 0.6071 - val_accuracy: 0.8113\n",
            "Epoch 23/50\n",
            "625/625 [==============================] - 37s 59ms/step - loss: 0.1674 - accuracy: 0.9327 - val_loss: 0.6472 - val_accuracy: 0.8092\n",
            "Epoch 24/50\n",
            "625/625 [==============================] - 37s 59ms/step - loss: 0.1610 - accuracy: 0.9351 - val_loss: 0.6550 - val_accuracy: 0.8113\n",
            "Epoch 25/50\n",
            "625/625 [==============================] - 37s 59ms/step - loss: 0.1552 - accuracy: 0.9380 - val_loss: 0.6590 - val_accuracy: 0.8037\n",
            "Epoch 26/50\n",
            "625/625 [==============================] - 37s 59ms/step - loss: 0.1491 - accuracy: 0.9386 - val_loss: 0.7338 - val_accuracy: 0.8065\n",
            "Epoch 27/50\n",
            "625/625 [==============================] - 37s 59ms/step - loss: 0.1439 - accuracy: 0.9418 - val_loss: 0.7420 - val_accuracy: 0.8064\n",
            "Epoch 28/50\n",
            "625/625 [==============================] - 37s 59ms/step - loss: 0.1364 - accuracy: 0.9444 - val_loss: 0.9128 - val_accuracy: 0.7997\n",
            "Epoch 29/50\n",
            "625/625 [==============================] - 37s 59ms/step - loss: 0.1289 - accuracy: 0.9474 - val_loss: 0.8395 - val_accuracy: 0.7992\n",
            "Epoch 30/50\n",
            "625/625 [==============================] - 37s 59ms/step - loss: 0.1254 - accuracy: 0.9480 - val_loss: 0.8567 - val_accuracy: 0.7977\n",
            "Epoch 31/50\n",
            "625/625 [==============================] - 37s 59ms/step - loss: 0.1175 - accuracy: 0.9514 - val_loss: 1.0013 - val_accuracy: 0.8001\n",
            "Epoch 32/50\n",
            "625/625 [==============================] - 37s 59ms/step - loss: 0.1154 - accuracy: 0.9524 - val_loss: 0.9769 - val_accuracy: 0.7915\n",
            "Epoch 33/50\n",
            "625/625 [==============================] - 37s 59ms/step - loss: 0.1105 - accuracy: 0.9546 - val_loss: 0.9979 - val_accuracy: 0.7986\n",
            "Epoch 34/50\n",
            "625/625 [==============================] - 37s 59ms/step - loss: 0.1074 - accuracy: 0.9549 - val_loss: 1.0674 - val_accuracy: 0.7965\n",
            "Epoch 35/50\n",
            "625/625 [==============================] - 37s 59ms/step - loss: 0.1016 - accuracy: 0.9570 - val_loss: 1.0661 - val_accuracy: 0.7945\n",
            "Epoch 36/50\n",
            "625/625 [==============================] - 37s 59ms/step - loss: 0.0994 - accuracy: 0.9569 - val_loss: 1.0781 - val_accuracy: 0.7943\n",
            "Epoch 37/50\n",
            "625/625 [==============================] - 37s 59ms/step - loss: 0.0968 - accuracy: 0.9590 - val_loss: 1.1742 - val_accuracy: 0.7925\n",
            "Epoch 38/50\n",
            "625/625 [==============================] - 37s 59ms/step - loss: 0.0896 - accuracy: 0.9622 - val_loss: 1.3046 - val_accuracy: 0.7906\n",
            "Epoch 39/50\n",
            "625/625 [==============================] - 37s 59ms/step - loss: 0.0893 - accuracy: 0.9618 - val_loss: 1.3044 - val_accuracy: 0.7948\n",
            "Epoch 40/50\n",
            "625/625 [==============================] - 36s 58ms/step - loss: 0.0809 - accuracy: 0.9647 - val_loss: 1.3816 - val_accuracy: 0.7961\n",
            "Epoch 41/50\n",
            "625/625 [==============================] - 37s 59ms/step - loss: 0.0813 - accuracy: 0.9631 - val_loss: 1.3836 - val_accuracy: 0.7892\n",
            "Epoch 42/50\n",
            "625/625 [==============================] - 37s 59ms/step - loss: 0.0825 - accuracy: 0.9639 - val_loss: 1.3684 - val_accuracy: 0.7903\n",
            "Epoch 43/50\n",
            "625/625 [==============================] - 37s 59ms/step - loss: 0.0766 - accuracy: 0.9668 - val_loss: 1.5025 - val_accuracy: 0.7894\n",
            "Epoch 44/50\n",
            "625/625 [==============================] - 37s 59ms/step - loss: 0.0724 - accuracy: 0.9674 - val_loss: 1.5856 - val_accuracy: 0.7898\n",
            "Epoch 45/50\n",
            "625/625 [==============================] - 37s 59ms/step - loss: 0.0708 - accuracy: 0.9692 - val_loss: 1.6471 - val_accuracy: 0.7915\n",
            "Epoch 46/50\n",
            "625/625 [==============================] - 37s 59ms/step - loss: 0.0692 - accuracy: 0.9683 - val_loss: 1.6396 - val_accuracy: 0.7882\n",
            "Epoch 47/50\n",
            "625/625 [==============================] - 37s 59ms/step - loss: 0.0647 - accuracy: 0.9725 - val_loss: 1.6206 - val_accuracy: 0.7915\n",
            "Epoch 48/50\n",
            "625/625 [==============================] - 37s 59ms/step - loss: 0.0645 - accuracy: 0.9718 - val_loss: 1.8045 - val_accuracy: 0.7891\n",
            "Epoch 49/50\n",
            "625/625 [==============================] - 37s 59ms/step - loss: 0.0651 - accuracy: 0.9714 - val_loss: 1.7800 - val_accuracy: 0.7898\n",
            "Epoch 50/50\n",
            "625/625 [==============================] - 37s 59ms/step - loss: 0.0579 - accuracy: 0.9764 - val_loss: 1.7534 - val_accuracy: 0.7863\n"
          ],
          "name": "stdout"
        }
      ]
    },
    {
      "cell_type": "code",
      "metadata": {
        "colab_type": "code",
        "id": "g9DC6dmLF8DC",
        "colab": {
          "base_uri": "https://localhost:8080/",
          "height": 541
        },
        "outputId": "7cb5e364-5259-4425-e947-bbd2bcf265c3"
      },
      "source": [
        "import matplotlib.pyplot as plt\n",
        "\n",
        "\n",
        "def plot_graphs(history, string):\n",
        "  plt.plot(history.history[string])\n",
        "  plt.plot(history.history['val_'+string])\n",
        "  plt.xlabel(\"Epochs\")\n",
        "  plt.ylabel(string)\n",
        "  plt.legend([string, 'val_'+string])\n",
        "  plt.show()\n",
        "\n",
        "plot_graphs(history, 'accuracy')\n",
        "plot_graphs(history, 'loss')"
      ],
      "execution_count": 2,
      "outputs": [
        {
          "output_type": "display_data",
          "data": {
            "image/png": "[encoded data removed]",
            "text/plain": [
              "<Figure size 432x288 with 1 Axes>"
            ]
          },
          "metadata": {
            "tags": [],
            "needs_background": "light"
          }
        },
        {
          "output_type": "display_data",
          "data": {
            "image/png": "[encoded data removed]",
            "text/plain": [
              "<Figure size 432x288 with 1 Axes>"
            ]
          },
          "metadata": {
            "tags": [],
            "needs_background": "light"
          }
        }
      ]
    },
    {
      "cell_type": "code",
      "metadata": {
        "colab_type": "code",
        "id": "7ZEZIUppGhdi",
        "colab": {}
      },
      "source": [
        "model.save(\"test.h5\")"
      ],
      "execution_count": 3,
      "outputs": []
    },
    {
      "cell_type": "code",
      "metadata": {
        "id": "AnXyFZmPg1HK",
        "colab_type": "code",
        "colab": {}
      },
      "source": [
        ""
      ],
      "execution_count": null,
      "outputs": []
    }
  ]
}