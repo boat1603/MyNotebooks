{
  "nbformat": 4,
  "nbformat_minor": 0,
  "metadata": {
    "accelerator": "GPU",
    "colab": {
      "name": "NLP Course - Week 3 Exercise Question.ipynb",
      "provenance": []
    },
    "kernelspec": {
      "display_name": "Python 3",
      "name": "python3"
    }
  },
  "cells": [
    {
      "cell_type": "code",
      "metadata": {
        "id": "zX4Kg8DUTKWO",
        "colab_type": "code",
        "colab": {}
      },
      "source": [
        "#@title Licensed under the Apache License, Version 2.0 (the \"License\");\n",
        "# you may not use this file except in compliance with the License.\n",
        "# You may obtain a copy of the License at\n",
        "#\n",
        "# https://www.apache.org/licenses/LICENSE-2.0\n",
        "#\n",
        "# Unless required by applicable law or agreed to in writing, software\n",
        "# distributed under the License is distributed on an \"AS IS\" BASIS,\n",
        "# WITHOUT WARRANTIES OR CONDITIONS OF ANY KIND, either express or implied.\n",
        "# See the License for the specific language governing permissions and\n",
        "# limitations under the License."
      ],
      "execution_count": null,
      "outputs": []
    },
    {
      "cell_type": "code",
      "metadata": {
        "colab_type": "code",
        "id": "hmA6EzkQJ5jt",
        "colab": {}
      },
      "source": [
        "import json\n",
        "import tensorflow as tf\n",
        "import csv\n",
        "import random\n",
        "import numpy as np\n",
        "\n",
        "from tensorflow.keras.preprocessing.text import Tokenizer\n",
        "from tensorflow.keras.preprocessing.sequence import pad_sequences\n",
        "from tensorflow.keras.utils import to_categorical\n",
        "from tensorflow.keras import regularizers\n",
        "\n",
        "\n",
        "embedding_dim = 100\n",
        "max_length = 16\n",
        "trunc_type='post'\n",
        "padding_type='post'\n",
        "oov_tok = \"<OOV>\"\n",
        "training_size=160000#Your dataset size here. Experiment using smaller values (i.e. 16000), but don't forget to train on at least 160000 to see the best effects\n",
        "test_portion=.1\n",
        "\n",
        "corpus = []\n"
      ],
      "execution_count": 5,
      "outputs": []
    },
    {
      "cell_type": "code",
      "metadata": {
        "colab_type": "code",
        "id": "bM0l_dORKqE0",
        "colab": {
          "base_uri": "https://localhost:8080/",
          "height": 222
        },
        "outputId": "1b932a3e-4cc8-43b9-b7e5-1ef7aeac04e0"
      },
      "source": [
        "# Note that I cleaned the Stanford dataset to remove LATIN1 encoding to make it easier for Python CSV reader\n",
        "# You can do that yourself with:\n",
        "# iconv -f LATIN1 -t UTF8 training.1600000.processed.noemoticon.csv -o training_cleaned.csv\n",
        "# I then hosted it on my site to make it easier to use in this notebook\n",
        "\n",
        "!wget --no-check-certificate \\\n",
        "    https://storage.googleapis.com/laurencemoroney-blog.appspot.com/training_cleaned.csv \\\n",
        "    -O /tmp/training_cleaned.csv\n",
        "\n",
        "num_sentences = 0\n",
        "\n",
        "with open(\"/tmp/training_cleaned.csv\") as csvfile:\n",
        "    reader = csv.reader(csvfile, delimiter=',')\n",
        "    for row in reader:\n",
        "      # Your Code here. Create list items where the first item is the text, found in row[5], and the second is the label. Note that the label is a '0' or a '4' in the text. When it's the former, make\n",
        "      # your label to be 0, otherwise 1. Keep a count of the number of sentences in num_sentences\n",
        "        list_item=[]\n",
        "        # YOUR CODE HERE\n",
        "        list_item.append(row[5])\n",
        "        this_label = row[0]\n",
        "        if this_label == '0':\n",
        "            list_item.append(0)\n",
        "        else:\n",
        "            list_item.append(1)\n",
        "        num_sentences = num_sentences + 1\n",
        "        corpus.append(list_item)\n"
      ],
      "execution_count": 6,
      "outputs": [
        {
          "output_type": "stream",
          "text": [
            "--2020-09-04 09:55:37--  https://storage.googleapis.com/laurencemoroney-blog.appspot.com/training_cleaned.csv\n",
            "Resolving storage.googleapis.com (storage.googleapis.com)... 74.125.143.128, 108.177.119.128, 108.177.126.128, ...\n",
            "Connecting to storage.googleapis.com (storage.googleapis.com)|74.125.143.128|:443... connected.\n",
            "HTTP request sent, awaiting response... 200 OK\n",
            "Length: 238942690 (228M) [application/octet-stream]\n",
            "Saving to: ‘/tmp/training_cleaned.csv’\n",
            "\n",
            "/tmp/training_clean 100%[===================>] 227.87M   273MB/s    in 0.8s    \n",
            "\n",
            "2020-09-04 09:55:38 (273 MB/s) - ‘/tmp/training_cleaned.csv’ saved [238942690/238942690]\n",
            "\n"
          ],
          "name": "stdout"
        }
      ]
    },
    {
      "cell_type": "code",
      "metadata": {
        "colab_type": "code",
        "id": "3kxblBUjEUX-",
        "colab": {
          "base_uri": "https://localhost:8080/",
          "height": 87
        },
        "outputId": "7ae491bb-8c74-41d1-903d-7223bdd82168"
      },
      "source": [
        "print(num_sentences)\n",
        "print(len(corpus))\n",
        "print(corpus[1])\n",
        "\n",
        "# Expected Output:\n",
        "# 1600000\n",
        "# 1600000\n",
        "# [\"is upset that he can't update his Facebook by texting it... and might cry as a result  School today also. Blah!\", 0]"
      ],
      "execution_count": 7,
      "outputs": [
        {
          "output_type": "stream",
          "text": [
            "1600000\n",
            "1600000\n",
            "[\"is upset that he can't update his Facebook by texting it... and might cry as a result  School today also. Blah!\", 0]\n"
          ],
          "name": "stdout"
        }
      ]
    },
    {
      "cell_type": "code",
      "metadata": {
        "colab_type": "code",
        "id": "ohOGz24lsNAD",
        "colab": {}
      },
      "source": [
        "sentences=[]\n",
        "labels=[]\n",
        "random.shuffle(corpus)\n",
        "for x in range(training_size):\n",
        "    sentences.append(corpus[x][0])# YOUR CODE HERE)\n",
        "    labels.append(corpus[x][1])# YOUR CODE HERE)\n",
        "\n",
        "\n",
        "tokenizer = Tokenizer()\n",
        "tokenizer.fit_on_texts(sentences)# YOUR CODE HERE)\n",
        "\n",
        "word_index = tokenizer.word_index\n",
        "vocab_size=len(word_index)# YOUR CODE HERE)\n",
        "\n",
        "sequences = tokenizer.texts_to_sequences(sentences)# YOUR CODE HERE)\n",
        "padded = pad_sequences(sequences, maxlen=max_length, padding=padding_type, truncating=trunc_type)# YOUR CODE HERE)\n",
        "\n",
        "split = int(test_portion * training_size)\n",
        "\n",
        "test_sequences = padded[0:split]# YOUR CODE HERE]\n",
        "training_sequences = padded[split:training_size]# YOUR CODE HERE]\n",
        "test_labels =np.array(labels[0:split])# YOUR CODE HERE]\n",
        "training_labels = np.array(labels[split:training_size])# YOUR CODE HERE]"
      ],
      "execution_count": 17,
      "outputs": []
    },
    {
      "cell_type": "code",
      "metadata": {
        "colab_type": "code",
        "id": "gIrtRem1En3N",
        "colab": {
          "base_uri": "https://localhost:8080/",
          "height": 50
        },
        "outputId": "523a0249-2873-423e-cc92-7b6a2f2ee5cc"
      },
      "source": [
        "print(vocab_size)\n",
        "print(word_index['i'])\n",
        "# Expected Output\n",
        "# 138858\n",
        "# 1"
      ],
      "execution_count": 18,
      "outputs": [
        {
          "output_type": "stream",
          "text": [
            "138751\n",
            "1\n"
          ],
          "name": "stdout"
        }
      ]
    },
    {
      "cell_type": "code",
      "metadata": {
        "colab_type": "code",
        "id": "C1zdgJkusRh0",
        "colab": {
          "base_uri": "https://localhost:8080/",
          "height": 222
        },
        "outputId": "745a7192-0b48-4291-cb2b-bbbfcd9969e6"
      },
      "source": [
        "# Note this is the 100 dimension version of GloVe from Stanford\n",
        "# I unzipped and hosted it on my site to make this notebook easier\n",
        "!wget --no-check-certificate \\\n",
        "    https://storage.googleapis.com/laurencemoroney-blog.appspot.com/glove.6B.100d.txt \\\n",
        "    -O /tmp/glove.6B.100d.txt\n",
        "embeddings_index = {};\n",
        "with open('/tmp/glove.6B.100d.txt') as f:\n",
        "    for line in f:\n",
        "        values = line.split();\n",
        "        word = values[0];\n",
        "        coefs = np.asarray(values[1:], dtype='float32');\n",
        "        embeddings_index[word] = coefs;\n",
        "\n",
        "embeddings_matrix = np.zeros((vocab_size+1, embedding_dim));\n",
        "for word, i in word_index.items():\n",
        "    embedding_vector = embeddings_index.get(word);\n",
        "    if embedding_vector is not None:\n",
        "        embeddings_matrix[i] = embedding_vector;"
      ],
      "execution_count": 19,
      "outputs": [
        {
          "output_type": "stream",
          "text": [
            "--2020-09-04 10:04:04--  https://storage.googleapis.com/laurencemoroney-blog.appspot.com/glove.6B.100d.txt\n",
            "Resolving storage.googleapis.com (storage.googleapis.com)... 108.177.96.128, 108.177.119.128, 108.177.126.128, ...\n",
            "Connecting to storage.googleapis.com (storage.googleapis.com)|108.177.96.128|:443... connected.\n",
            "HTTP request sent, awaiting response... 200 OK\n",
            "Length: 347116733 (331M) [text/plain]\n",
            "Saving to: ‘/tmp/glove.6B.100d.txt’\n",
            "\n",
            "/tmp/glove.6B.100d. 100%[===================>] 331.04M  60.3MB/s    in 5.5s    \n",
            "\n",
            "2020-09-04 10:04:10 (60.3 MB/s) - ‘/tmp/glove.6B.100d.txt’ saved [347116733/347116733]\n",
            "\n"
          ],
          "name": "stdout"
        }
      ]
    },
    {
      "cell_type": "code",
      "metadata": {
        "colab_type": "code",
        "id": "71NLk_lpFLNt",
        "colab": {
          "base_uri": "https://localhost:8080/",
          "height": 34
        },
        "outputId": "ee5ffe97-a060-4f10-b890-790267d00a3e"
      },
      "source": [
        "print(len(embeddings_matrix))\n",
        "# Expected Output\n",
        "# 138859"
      ],
      "execution_count": 20,
      "outputs": [
        {
          "output_type": "stream",
          "text": [
            "138752\n"
          ],
          "name": "stdout"
        }
      ]
    },
    {
      "cell_type": "code",
      "metadata": {
        "colab_type": "code",
        "id": "iKKvbuEBOGFz",
        "colab": {
          "base_uri": "https://localhost:8080/",
          "height": 1000
        },
        "outputId": "069dd30c-738a-431e-f0dc-ff7c7e31bb8d"
      },
      "source": [
        "model = tf.keras.Sequential([\n",
        "    tf.keras.layers.Embedding(vocab_size+1, embedding_dim, input_length=max_length, weights=[embeddings_matrix], trainable=False),\n",
        "    # YOUR CODE HERE - experiment with combining different types, such as convolutions and LSTMs\n",
        "    tf.keras.layers.Dropout(0.2),\n",
        "    tf.keras.layers.Conv1D(64, 5, activation='relu'),\n",
        "    tf.keras.layers.MaxPooling1D(pool_size=4),\n",
        "    tf.keras.layers.GlobalAveragePooling1D(),\n",
        "    tf.keras.layers.Dense(128, activation='relu'),\n",
        "    tf.keras.layers.Dense(1, activation='sigmoid')\n",
        "])\n",
        "model.compile(loss='binary_crossentropy',optimizer='adam',metrics=['accuracy'])# YOUR CODE HERE)\n",
        "model.summary()\n",
        "\n",
        "num_epochs = 50\n",
        "history = model.fit(training_sequences, training_labels, epochs=num_epochs, validation_data=(test_sequences, test_labels), verbose=2)\n",
        "\n",
        "print(\"Training Complete\")\n"
      ],
      "execution_count": 21,
      "outputs": [
        {
          "output_type": "stream",
          "text": [
            "Model: \"sequential_1\"\n",
            "_________________________________________________________________\n",
            "Layer (type)                 Output Shape              Param #   \n",
            "=================================================================\n",
            "embedding_1 (Embedding)      (None, 16, 100)           13875200  \n",
            "_________________________________________________________________\n",
            "dropout_1 (Dropout)          (None, 16, 100)           0         \n",
            "_________________________________________________________________\n",
            "conv1d_1 (Conv1D)            (None, 12, 64)            32064     \n",
            "_________________________________________________________________\n",
            "max_pooling1d_1 (MaxPooling1 (None, 3, 64)             0         \n",
            "_________________________________________________________________\n",
            "global_average_pooling1d_1 ( (None, 64)                0         \n",
            "_________________________________________________________________\n",
            "dense_2 (Dense)              (None, 128)               8320      \n",
            "_________________________________________________________________\n",
            "dense_3 (Dense)              (None, 1)                 129       \n",
            "=================================================================\n",
            "Total params: 13,915,713\n",
            "Trainable params: 40,513\n",
            "Non-trainable params: 13,875,200\n",
            "_________________________________________________________________\n",
            "Epoch 1/50\n",
            "4500/4500 - 10s - loss: 0.5757 - accuracy: 0.6929 - val_loss: 0.5304 - val_accuracy: 0.7244\n",
            "Epoch 2/50\n",
            "4500/4500 - 10s - loss: 0.5387 - accuracy: 0.7231 - val_loss: 0.5253 - val_accuracy: 0.7325\n",
            "Epoch 3/50\n",
            "4500/4500 - 10s - loss: 0.5228 - accuracy: 0.7337 - val_loss: 0.5135 - val_accuracy: 0.7415\n",
            "Epoch 4/50\n",
            "4500/4500 - 10s - loss: 0.5133 - accuracy: 0.7416 - val_loss: 0.5077 - val_accuracy: 0.7454\n",
            "Epoch 5/50\n",
            "4500/4500 - 10s - loss: 0.5056 - accuracy: 0.7465 - val_loss: 0.5076 - val_accuracy: 0.7463\n",
            "Epoch 6/50\n",
            "4500/4500 - 10s - loss: 0.4996 - accuracy: 0.7499 - val_loss: 0.5081 - val_accuracy: 0.7474\n",
            "Epoch 7/50\n",
            "4500/4500 - 10s - loss: 0.4944 - accuracy: 0.7542 - val_loss: 0.5073 - val_accuracy: 0.7491\n",
            "Epoch 8/50\n",
            "4500/4500 - 10s - loss: 0.4903 - accuracy: 0.7564 - val_loss: 0.5084 - val_accuracy: 0.7479\n",
            "Epoch 9/50\n",
            "4500/4500 - 10s - loss: 0.4857 - accuracy: 0.7589 - val_loss: 0.5254 - val_accuracy: 0.7349\n",
            "Epoch 10/50\n",
            "4500/4500 - 10s - loss: 0.4827 - accuracy: 0.7613 - val_loss: 0.5108 - val_accuracy: 0.7454\n",
            "Epoch 11/50\n",
            "4500/4500 - 10s - loss: 0.4795 - accuracy: 0.7643 - val_loss: 0.5081 - val_accuracy: 0.7448\n",
            "Epoch 12/50\n",
            "4500/4500 - 10s - loss: 0.4768 - accuracy: 0.7663 - val_loss: 0.5127 - val_accuracy: 0.7432\n",
            "Epoch 13/50\n",
            "4500/4500 - 10s - loss: 0.4754 - accuracy: 0.7671 - val_loss: 0.5181 - val_accuracy: 0.7431\n",
            "Epoch 14/50\n",
            "4500/4500 - 10s - loss: 0.4720 - accuracy: 0.7674 - val_loss: 0.5080 - val_accuracy: 0.7484\n",
            "Epoch 15/50\n",
            "4500/4500 - 10s - loss: 0.4694 - accuracy: 0.7697 - val_loss: 0.5117 - val_accuracy: 0.7478\n",
            "Epoch 16/50\n",
            "4500/4500 - 10s - loss: 0.4691 - accuracy: 0.7709 - val_loss: 0.5090 - val_accuracy: 0.7466\n",
            "Epoch 17/50\n",
            "4500/4500 - 10s - loss: 0.4657 - accuracy: 0.7731 - val_loss: 0.5082 - val_accuracy: 0.7479\n",
            "Epoch 18/50\n",
            "4500/4500 - 10s - loss: 0.4661 - accuracy: 0.7721 - val_loss: 0.5080 - val_accuracy: 0.7490\n",
            "Epoch 19/50\n",
            "4500/4500 - 10s - loss: 0.4632 - accuracy: 0.7735 - val_loss: 0.5055 - val_accuracy: 0.7506\n",
            "Epoch 20/50\n",
            "4500/4500 - 10s - loss: 0.4625 - accuracy: 0.7740 - val_loss: 0.5158 - val_accuracy: 0.7384\n",
            "Epoch 21/50\n",
            "4500/4500 - 10s - loss: 0.4611 - accuracy: 0.7748 - val_loss: 0.5136 - val_accuracy: 0.7496\n",
            "Epoch 22/50\n",
            "4500/4500 - 10s - loss: 0.4607 - accuracy: 0.7765 - val_loss: 0.5135 - val_accuracy: 0.7447\n",
            "Epoch 23/50\n",
            "4500/4500 - 10s - loss: 0.4594 - accuracy: 0.7765 - val_loss: 0.5141 - val_accuracy: 0.7431\n",
            "Epoch 24/50\n",
            "4500/4500 - 10s - loss: 0.4575 - accuracy: 0.7773 - val_loss: 0.5127 - val_accuracy: 0.7493\n",
            "Epoch 25/50\n",
            "4500/4500 - 10s - loss: 0.4547 - accuracy: 0.7795 - val_loss: 0.5144 - val_accuracy: 0.7462\n",
            "Epoch 26/50\n",
            "4500/4500 - 10s - loss: 0.4551 - accuracy: 0.7786 - val_loss: 0.5190 - val_accuracy: 0.7472\n",
            "Epoch 27/50\n",
            "4500/4500 - 10s - loss: 0.4533 - accuracy: 0.7789 - val_loss: 0.5194 - val_accuracy: 0.7437\n",
            "Epoch 28/50\n",
            "4500/4500 - 10s - loss: 0.4531 - accuracy: 0.7810 - val_loss: 0.5180 - val_accuracy: 0.7449\n",
            "Epoch 29/50\n",
            "4500/4500 - 10s - loss: 0.4512 - accuracy: 0.7821 - val_loss: 0.5119 - val_accuracy: 0.7489\n",
            "Epoch 30/50\n",
            "4500/4500 - 10s - loss: 0.4509 - accuracy: 0.7808 - val_loss: 0.5156 - val_accuracy: 0.7431\n",
            "Epoch 31/50\n",
            "4500/4500 - 10s - loss: 0.4506 - accuracy: 0.7813 - val_loss: 0.5165 - val_accuracy: 0.7502\n",
            "Epoch 32/50\n",
            "4500/4500 - 10s - loss: 0.4494 - accuracy: 0.7819 - val_loss: 0.5150 - val_accuracy: 0.7462\n",
            "Epoch 33/50\n",
            "4500/4500 - 10s - loss: 0.4479 - accuracy: 0.7845 - val_loss: 0.5165 - val_accuracy: 0.7405\n",
            "Epoch 34/50\n",
            "4500/4500 - 10s - loss: 0.4468 - accuracy: 0.7834 - val_loss: 0.5191 - val_accuracy: 0.7483\n",
            "Epoch 35/50\n",
            "4500/4500 - 10s - loss: 0.4458 - accuracy: 0.7853 - val_loss: 0.5117 - val_accuracy: 0.7469\n",
            "Epoch 36/50\n",
            "4500/4500 - 10s - loss: 0.4466 - accuracy: 0.7842 - val_loss: 0.5123 - val_accuracy: 0.7513\n",
            "Epoch 37/50\n",
            "4500/4500 - 10s - loss: 0.4455 - accuracy: 0.7852 - val_loss: 0.5150 - val_accuracy: 0.7481\n",
            "Epoch 38/50\n",
            "4500/4500 - 10s - loss: 0.4447 - accuracy: 0.7857 - val_loss: 0.5138 - val_accuracy: 0.7456\n",
            "Epoch 39/50\n",
            "4500/4500 - 10s - loss: 0.4430 - accuracy: 0.7843 - val_loss: 0.5134 - val_accuracy: 0.7480\n",
            "Epoch 40/50\n",
            "4500/4500 - 10s - loss: 0.4429 - accuracy: 0.7873 - val_loss: 0.5195 - val_accuracy: 0.7504\n",
            "Epoch 41/50\n",
            "4500/4500 - 10s - loss: 0.4441 - accuracy: 0.7853 - val_loss: 0.5186 - val_accuracy: 0.7462\n",
            "Epoch 42/50\n",
            "4500/4500 - 10s - loss: 0.4426 - accuracy: 0.7868 - val_loss: 0.5162 - val_accuracy: 0.7486\n",
            "Epoch 43/50\n",
            "4500/4500 - 10s - loss: 0.4433 - accuracy: 0.7858 - val_loss: 0.5103 - val_accuracy: 0.7475\n",
            "Epoch 44/50\n",
            "4500/4500 - 10s - loss: 0.4402 - accuracy: 0.7881 - val_loss: 0.5159 - val_accuracy: 0.7469\n",
            "Epoch 45/50\n",
            "4500/4500 - 10s - loss: 0.4413 - accuracy: 0.7872 - val_loss: 0.5169 - val_accuracy: 0.7481\n",
            "Epoch 46/50\n",
            "4500/4500 - 10s - loss: 0.4388 - accuracy: 0.7879 - val_loss: 0.5188 - val_accuracy: 0.7442\n",
            "Epoch 47/50\n",
            "4500/4500 - 10s - loss: 0.4395 - accuracy: 0.7879 - val_loss: 0.5192 - val_accuracy: 0.7507\n",
            "Epoch 48/50\n",
            "4500/4500 - 10s - loss: 0.4385 - accuracy: 0.7901 - val_loss: 0.5234 - val_accuracy: 0.7433\n",
            "Epoch 49/50\n",
            "4500/4500 - 10s - loss: 0.4395 - accuracy: 0.7883 - val_loss: 0.5236 - val_accuracy: 0.7450\n",
            "Epoch 50/50\n",
            "4500/4500 - 10s - loss: 0.4382 - accuracy: 0.7897 - val_loss: 0.5266 - val_accuracy: 0.7467\n",
            "Training Complete\n"
          ],
          "name": "stdout"
        }
      ]
    },
    {
      "cell_type": "code",
      "metadata": {
        "colab_type": "code",
        "id": "qxju4ItJKO8F",
        "colab": {
          "base_uri": "https://localhost:8080/",
          "height": 606
        },
        "outputId": "0397cd3d-df1b-47cb-c58f-5e96c9323f3a"
      },
      "source": [
        "import matplotlib.image  as mpimg\n",
        "import matplotlib.pyplot as plt\n",
        "\n",
        "#-----------------------------------------------------------\n",
        "# Retrieve a list of list results on training and test data\n",
        "# sets for each training epoch\n",
        "#-----------------------------------------------------------\n",
        "acc=history.history['accuracy']\n",
        "val_acc=history.history['val_accuracy']\n",
        "loss=history.history['loss']\n",
        "val_loss=history.history['val_loss']\n",
        "\n",
        "epochs=range(len(acc)) # Get number of epochs\n",
        "\n",
        "#------------------------------------------------\n",
        "# Plot training and validation accuracy per epoch\n",
        "#------------------------------------------------\n",
        "plt.plot(epochs, acc, 'r')\n",
        "plt.plot(epochs, val_acc, 'b')\n",
        "plt.title('Training and validation accuracy')\n",
        "plt.xlabel(\"Epochs\")\n",
        "plt.ylabel(\"Accuracy\")\n",
        "plt.legend([\"Accuracy\", \"Validation Accuracy\"])\n",
        "\n",
        "plt.figure()\n",
        "\n",
        "#------------------------------------------------\n",
        "# Plot training and validation loss per epoch\n",
        "#------------------------------------------------\n",
        "plt.plot(epochs, loss, 'r')\n",
        "plt.plot(epochs, val_loss, 'b')\n",
        "plt.title('Training and validation loss')\n",
        "plt.xlabel(\"Epochs\")\n",
        "plt.ylabel(\"Loss\")\n",
        "plt.legend([\"Loss\", \"Validation Loss\"])\n",
        "\n",
        "plt.figure()\n",
        "\n",
        "\n",
        "# Expected Output\n",
        "# A chart where the validation loss does not increase sharply!"
      ],
      "execution_count": 22,
      "outputs": [
        {
          "output_type": "execute_result",
          "data": {
            "text/plain": [
              "<Figure size 432x288 with 0 Axes>"
            ]
          },
          "metadata": {
            "tags": []
          },
          "execution_count": 22
        },
        {
          "output_type": "display_data",
          "data": {
            "image/png": "[encoded data removed]",
            "text/plain": [
              "<Figure size 432x288 with 1 Axes>"
            ]
          },
          "metadata": {
            "tags": [],
            "needs_background": "light"
          }
        },
        {
          "output_type": "display_data",
          "data": {
            "image/png": "[encoded data removed]",
            "text/plain": [
              "<Figure size 432x288 with 1 Axes>"
            ]
          },
          "metadata": {
            "tags": [],
            "needs_background": "light"
          }
        },
        {
          "output_type": "display_data",
          "data": {
            "text/plain": [
              "<Figure size 432x288 with 0 Axes>"
            ]
          },
          "metadata": {
            "tags": []
          }
        }
      ]
    }
  ]
}