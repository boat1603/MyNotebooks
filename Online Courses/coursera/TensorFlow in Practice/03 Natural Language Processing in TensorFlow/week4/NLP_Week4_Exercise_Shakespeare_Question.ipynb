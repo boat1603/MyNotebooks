{
  "nbformat": 4,
  "nbformat_minor": 0,
  "metadata": {
    "accelerator": "GPU",
    "colab": {
      "name": "NLP_Week4_Exercise_Shakespeare_Question.ipynb",
      "provenance": [],
      "toc_visible": true
    },
    "kernelspec": {
      "display_name": "Python 3",
      "name": "python3"
    }
  },
  "cells": [
    {
      "cell_type": "code",
      "metadata": {
        "id": "zX4Kg8DUTKWO",
        "colab_type": "code",
        "colab": {}
      },
      "source": [
        "#@title Licensed under the Apache License, Version 2.0 (the \"License\");\n",
        "# you may not use this file except in compliance with the License.\n",
        "# You may obtain a copy of the License at\n",
        "#\n",
        "# https://www.apache.org/licenses/LICENSE-2.0\n",
        "#\n",
        "# Unless required by applicable law or agreed to in writing, software\n",
        "# distributed under the License is distributed on an \"AS IS\" BASIS,\n",
        "# WITHOUT WARRANTIES OR CONDITIONS OF ANY KIND, either express or implied.\n",
        "# See the License for the specific language governing permissions and\n",
        "# limitations under the License."
      ],
      "execution_count": null,
      "outputs": []
    },
    {
      "cell_type": "code",
      "metadata": {
        "colab_type": "code",
        "id": "BOwsuGQQY9OL",
        "colab": {}
      },
      "source": [
        "from tensorflow.keras.preprocessing.sequence import pad_sequences\n",
        "from tensorflow.keras.layers import Embedding, LSTM, Dense, Dropout, Bidirectional\n",
        "from tensorflow.keras.preprocessing.text import Tokenizer\n",
        "from tensorflow.keras.models import Sequential\n",
        "from tensorflow.keras.optimizers import Adam\n",
        "### YOUR CODE HERE\n",
        "# Figure out how to import regularizers\n",
        "from tensorflow.keras import regularizers\n",
        "###\n",
        "import tensorflow.keras.utils as ku \n",
        "import numpy as np "
      ],
      "execution_count": 4,
      "outputs": []
    },
    {
      "cell_type": "code",
      "metadata": {
        "colab_type": "code",
        "id": "PRnDnCW-Z7qv",
        "colab": {
          "base_uri": "https://localhost:8080/",
          "height": 222
        },
        "outputId": "7505dfba-11b9-450d-a080-2284b26f67bf"
      },
      "source": [
        "tokenizer = Tokenizer()\n",
        "!wget --no-check-certificate \\\n",
        "    https://storage.googleapis.com/laurencemoroney-blog.appspot.com/sonnets.txt \\\n",
        "    -O /tmp/sonnets.txt\n",
        "data = open('/tmp/sonnets.txt').read()\n",
        "\n",
        "corpus = data.lower().split(\"\\n\")\n",
        "\n",
        "\n",
        "tokenizer.fit_on_texts(corpus)\n",
        "total_words = len(tokenizer.word_index) + 1\n",
        "\n",
        "# create input sequences using list of tokens\n",
        "input_sequences = []\n",
        "for line in corpus:\n",
        "\ttoken_list = tokenizer.texts_to_sequences([line])[0]\n",
        "\tfor i in range(1, len(token_list)):\n",
        "\t\tn_gram_sequence = token_list[:i+1]\n",
        "\t\tinput_sequences.append(n_gram_sequence)\n",
        "\n",
        "\n",
        "# pad sequences \n",
        "max_sequence_len = max([len(x) for x in input_sequences])\n",
        "input_sequences = np.array(pad_sequences(input_sequences, maxlen=max_sequence_len, padding='pre'))\n",
        "\n",
        "# create predictors and label\n",
        "predictors, label = input_sequences[:,:-1],input_sequences[:,-1]\n",
        "\n",
        "label = ku.to_categorical(label, num_classes=total_words)"
      ],
      "execution_count": 2,
      "outputs": [
        {
          "output_type": "stream",
          "text": [
            "--2020-09-05 00:48:14--  https://storage.googleapis.com/laurencemoroney-blog.appspot.com/sonnets.txt\n",
            "Resolving storage.googleapis.com (storage.googleapis.com)... 74.125.195.128, 74.125.20.128, 74.125.142.128, ...\n",
            "Connecting to storage.googleapis.com (storage.googleapis.com)|74.125.195.128|:443... connected.\n",
            "HTTP request sent, awaiting response... 200 OK\n",
            "Length: 93578 (91K) [text/plain]\n",
            "Saving to: ‘/tmp/sonnets.txt’\n",
            "\n",
            "/tmp/sonnets.txt    100%[===================>]  91.38K  --.-KB/s    in 0.001s  \n",
            "\n",
            "2020-09-05 00:48:14 (102 MB/s) - ‘/tmp/sonnets.txt’ saved [93578/93578]\n",
            "\n"
          ],
          "name": "stdout"
        }
      ]
    },
    {
      "cell_type": "code",
      "metadata": {
        "colab_type": "code",
        "id": "w9vH8Y59ajYL",
        "colab": {
          "base_uri": "https://localhost:8080/",
          "height": 370
        },
        "outputId": "f452bac2-3f26-4e23-966c-c9eaf24becd7"
      },
      "source": [
        "model = Sequential()\n",
        "model.add(Embedding(total_words, 128, input_length=max_sequence_len - 1))# Your Embedding Layer)\n",
        "model.add(Bidirectional(LSTM(120, return_sequences=True)))# An LSTM Layer)\n",
        "model.add(Dropout(0.2))# A dropout layer)\n",
        "model.add(LSTM(96))# Another LSTM Layer)\n",
        "model.add(Dense(total_words/2, activation='relu', kernel_regularizer=regularizers.l2(0.01)))# A Dense Layer including regularizers)\n",
        "model.add(Dense(total_words, activation='softmax'))# A Dense Layer)\n",
        "# Pick an optimizer\n",
        "model.compile(# Pick a loss function and an optimizer)\n",
        "  loss='categorical_crossentropy',\n",
        "    optimizer='adam',\n",
        "    metrics=['accuracy']\n",
        ")\n",
        "print(model.summary())\n"
      ],
      "execution_count": 5,
      "outputs": [
        {
          "output_type": "stream",
          "text": [
            "Model: \"sequential\"\n",
            "_________________________________________________________________\n",
            "Layer (type)                 Output Shape              Param #   \n",
            "=================================================================\n",
            "embedding (Embedding)        (None, 10, 128)           411008    \n",
            "_________________________________________________________________\n",
            "bidirectional (Bidirectional (None, 10, 240)           239040    \n",
            "_________________________________________________________________\n",
            "dropout (Dropout)            (None, 10, 240)           0         \n",
            "_________________________________________________________________\n",
            "lstm_1 (LSTM)                (None, 96)                129408    \n",
            "_________________________________________________________________\n",
            "dense (Dense)                (None, 1605)              155685    \n",
            "_________________________________________________________________\n",
            "dense_1 (Dense)              (None, 3211)              5156866   \n",
            "=================================================================\n",
            "Total params: 6,092,007\n",
            "Trainable params: 6,092,007\n",
            "Non-trainable params: 0\n",
            "_________________________________________________________________\n",
            "None\n"
          ],
          "name": "stdout"
        }
      ]
    },
    {
      "cell_type": "code",
      "metadata": {
        "colab_type": "code",
        "id": "AIg2f1HBxqof",
        "colab": {
          "base_uri": "https://localhost:8080/",
          "height": 1000
        },
        "outputId": "a07aff46-7e50-4727-b461-04bc8a27c2ac"
      },
      "source": [
        " history = model.fit(predictors, label, epochs=100, verbose=1)"
      ],
      "execution_count": 6,
      "outputs": [
        {
          "output_type": "stream",
          "text": [
            "Epoch 1/100\n",
            "484/484 [==============================] - 7s 14ms/step - loss: 6.9064 - accuracy: 0.0233\n",
            "Epoch 2/100\n",
            "484/484 [==============================] - 7s 14ms/step - loss: 6.4970 - accuracy: 0.0209\n",
            "Epoch 3/100\n",
            "484/484 [==============================] - 7s 14ms/step - loss: 6.3792 - accuracy: 0.0265\n",
            "Epoch 4/100\n",
            "484/484 [==============================] - 7s 14ms/step - loss: 6.2521 - accuracy: 0.0301\n",
            "Epoch 5/100\n",
            "484/484 [==============================] - 7s 13ms/step - loss: 6.1555 - accuracy: 0.0376\n",
            "Epoch 6/100\n",
            "484/484 [==============================] - 6s 13ms/step - loss: 6.0680 - accuracy: 0.0380\n",
            "Epoch 7/100\n",
            "484/484 [==============================] - 7s 13ms/step - loss: 5.9907 - accuracy: 0.0411\n",
            "Epoch 8/100\n",
            "484/484 [==============================] - 7s 14ms/step - loss: 5.9081 - accuracy: 0.0453\n",
            "Epoch 9/100\n",
            "484/484 [==============================] - 7s 14ms/step - loss: 5.8055 - accuracy: 0.0515\n",
            "Epoch 10/100\n",
            "484/484 [==============================] - 6s 13ms/step - loss: 5.6925 - accuracy: 0.0581\n",
            "Epoch 11/100\n",
            "484/484 [==============================] - 6s 13ms/step - loss: 5.5830 - accuracy: 0.0666\n",
            "Epoch 12/100\n",
            "484/484 [==============================] - 7s 14ms/step - loss: 5.4661 - accuracy: 0.0718\n",
            "Epoch 13/100\n",
            "484/484 [==============================] - 7s 14ms/step - loss: 5.3663 - accuracy: 0.0791\n",
            "Epoch 14/100\n",
            "484/484 [==============================] - 7s 14ms/step - loss: 5.2543 - accuracy: 0.0873\n",
            "Epoch 15/100\n",
            "484/484 [==============================] - 6s 13ms/step - loss: 5.1481 - accuracy: 0.0944\n",
            "Epoch 16/100\n",
            "484/484 [==============================] - 6s 13ms/step - loss: 5.0449 - accuracy: 0.1025\n",
            "Epoch 17/100\n",
            "484/484 [==============================] - 7s 14ms/step - loss: 4.9388 - accuracy: 0.1099\n",
            "Epoch 18/100\n",
            "484/484 [==============================] - 7s 14ms/step - loss: 4.8335 - accuracy: 0.1180\n",
            "Epoch 19/100\n",
            "484/484 [==============================] - 7s 13ms/step - loss: 4.7297 - accuracy: 0.1277\n",
            "Epoch 20/100\n",
            "484/484 [==============================] - 6s 13ms/step - loss: 4.6228 - accuracy: 0.1388\n",
            "Epoch 21/100\n",
            "484/484 [==============================] - 7s 14ms/step - loss: 4.5135 - accuracy: 0.1484\n",
            "Epoch 22/100\n",
            "484/484 [==============================] - 7s 14ms/step - loss: 4.4075 - accuracy: 0.1618\n",
            "Epoch 23/100\n",
            "484/484 [==============================] - 6s 13ms/step - loss: 4.3048 - accuracy: 0.1737\n",
            "Epoch 24/100\n",
            "484/484 [==============================] - 7s 14ms/step - loss: 4.2068 - accuracy: 0.1904\n",
            "Epoch 25/100\n",
            "484/484 [==============================] - 6s 13ms/step - loss: 4.1024 - accuracy: 0.1983\n",
            "Epoch 26/100\n",
            "484/484 [==============================] - 6s 13ms/step - loss: 4.0013 - accuracy: 0.2126\n",
            "Epoch 27/100\n",
            "484/484 [==============================] - 7s 13ms/step - loss: 3.8931 - accuracy: 0.2288\n",
            "Epoch 28/100\n",
            "484/484 [==============================] - 6s 13ms/step - loss: 3.7933 - accuracy: 0.2478\n",
            "Epoch 29/100\n",
            "484/484 [==============================] - 6s 13ms/step - loss: 3.6926 - accuracy: 0.2600\n",
            "Epoch 30/100\n",
            "484/484 [==============================] - 6s 13ms/step - loss: 3.6078 - accuracy: 0.2811\n",
            "Epoch 31/100\n",
            "484/484 [==============================] - 6s 13ms/step - loss: 3.5114 - accuracy: 0.3001\n",
            "Epoch 32/100\n",
            "484/484 [==============================] - 6s 13ms/step - loss: 3.4269 - accuracy: 0.3205\n",
            "Epoch 33/100\n",
            "484/484 [==============================] - 6s 13ms/step - loss: 3.3484 - accuracy: 0.3321\n",
            "Epoch 34/100\n",
            "484/484 [==============================] - 6s 13ms/step - loss: 3.2680 - accuracy: 0.3502\n",
            "Epoch 35/100\n",
            "484/484 [==============================] - 6s 13ms/step - loss: 3.1902 - accuracy: 0.3699\n",
            "Epoch 36/100\n",
            "484/484 [==============================] - 6s 13ms/step - loss: 3.1125 - accuracy: 0.3864\n",
            "Epoch 37/100\n",
            "484/484 [==============================] - 7s 13ms/step - loss: 3.0434 - accuracy: 0.4026\n",
            "Epoch 38/100\n",
            "484/484 [==============================] - 7s 13ms/step - loss: 2.9744 - accuracy: 0.4134\n",
            "Epoch 39/100\n",
            "484/484 [==============================] - 6s 13ms/step - loss: 2.9052 - accuracy: 0.4305\n",
            "Epoch 40/100\n",
            "484/484 [==============================] - 6s 13ms/step - loss: 2.8468 - accuracy: 0.4494\n",
            "Epoch 41/100\n",
            "484/484 [==============================] - 6s 13ms/step - loss: 2.7729 - accuracy: 0.4647\n",
            "Epoch 42/100\n",
            "484/484 [==============================] - 6s 13ms/step - loss: 2.7218 - accuracy: 0.4694\n",
            "Epoch 43/100\n",
            "484/484 [==============================] - 6s 13ms/step - loss: 2.6534 - accuracy: 0.4889\n",
            "Epoch 44/100\n",
            "484/484 [==============================] - 7s 13ms/step - loss: 2.6036 - accuracy: 0.5016\n",
            "Epoch 45/100\n",
            "484/484 [==============================] - 7s 14ms/step - loss: 2.5464 - accuracy: 0.5151\n",
            "Epoch 46/100\n",
            "484/484 [==============================] - 7s 14ms/step - loss: 2.5103 - accuracy: 0.5197\n",
            "Epoch 47/100\n",
            "484/484 [==============================] - 7s 14ms/step - loss: 2.4456 - accuracy: 0.5352\n",
            "Epoch 48/100\n",
            "484/484 [==============================] - 7s 14ms/step - loss: 2.3963 - accuracy: 0.5465\n",
            "Epoch 49/100\n",
            "484/484 [==============================] - 7s 14ms/step - loss: 2.3568 - accuracy: 0.5567\n",
            "Epoch 50/100\n",
            "484/484 [==============================] - 7s 14ms/step - loss: 2.3029 - accuracy: 0.5650\n",
            "Epoch 51/100\n",
            "484/484 [==============================] - 7s 14ms/step - loss: 2.2716 - accuracy: 0.5730\n",
            "Epoch 52/100\n",
            "484/484 [==============================] - 7s 14ms/step - loss: 2.2243 - accuracy: 0.5859\n",
            "Epoch 53/100\n",
            "484/484 [==============================] - 7s 14ms/step - loss: 2.1803 - accuracy: 0.5936\n",
            "Epoch 54/100\n",
            "484/484 [==============================] - 7s 14ms/step - loss: 2.1339 - accuracy: 0.6003\n",
            "Epoch 55/100\n",
            "484/484 [==============================] - 7s 13ms/step - loss: 2.1076 - accuracy: 0.6096\n",
            "Epoch 56/100\n",
            "484/484 [==============================] - 7s 14ms/step - loss: 2.0641 - accuracy: 0.6194\n",
            "Epoch 57/100\n",
            "484/484 [==============================] - 7s 14ms/step - loss: 2.0304 - accuracy: 0.6264\n",
            "Epoch 58/100\n",
            "484/484 [==============================] - 7s 13ms/step - loss: 1.9907 - accuracy: 0.6337\n",
            "Epoch 59/100\n",
            "484/484 [==============================] - 7s 14ms/step - loss: 1.9539 - accuracy: 0.6442\n",
            "Epoch 60/100\n",
            "484/484 [==============================] - 7s 14ms/step - loss: 1.9275 - accuracy: 0.6464\n",
            "Epoch 61/100\n",
            "484/484 [==============================] - 7s 14ms/step - loss: 1.8958 - accuracy: 0.6550\n",
            "Epoch 62/100\n",
            "484/484 [==============================] - 7s 14ms/step - loss: 1.8599 - accuracy: 0.6616\n",
            "Epoch 63/100\n",
            "484/484 [==============================] - 7s 14ms/step - loss: 1.8392 - accuracy: 0.6667\n",
            "Epoch 64/100\n",
            "484/484 [==============================] - 7s 14ms/step - loss: 1.8086 - accuracy: 0.6663\n",
            "Epoch 65/100\n",
            "484/484 [==============================] - 7s 15ms/step - loss: 1.7865 - accuracy: 0.6773\n",
            "Epoch 66/100\n",
            "484/484 [==============================] - 7s 14ms/step - loss: 1.7428 - accuracy: 0.6883\n",
            "Epoch 67/100\n",
            "484/484 [==============================] - 7s 14ms/step - loss: 1.7180 - accuracy: 0.6887\n",
            "Epoch 68/100\n",
            "484/484 [==============================] - 7s 14ms/step - loss: 1.6995 - accuracy: 0.6912\n",
            "Epoch 69/100\n",
            "484/484 [==============================] - 6s 13ms/step - loss: 1.6679 - accuracy: 0.7018\n",
            "Epoch 70/100\n",
            "484/484 [==============================] - 7s 14ms/step - loss: 1.6588 - accuracy: 0.7031\n",
            "Epoch 71/100\n",
            "484/484 [==============================] - 7s 14ms/step - loss: 1.6326 - accuracy: 0.7066\n",
            "Epoch 72/100\n",
            "484/484 [==============================] - 7s 14ms/step - loss: 1.6000 - accuracy: 0.7181\n",
            "Epoch 73/100\n",
            "484/484 [==============================] - 7s 14ms/step - loss: 1.5714 - accuracy: 0.7225\n",
            "Epoch 74/100\n",
            "484/484 [==============================] - 7s 14ms/step - loss: 1.5662 - accuracy: 0.7220\n",
            "Epoch 75/100\n",
            "484/484 [==============================] - 7s 14ms/step - loss: 1.5321 - accuracy: 0.7286\n",
            "Epoch 76/100\n",
            "484/484 [==============================] - 7s 14ms/step - loss: 1.5088 - accuracy: 0.7343\n",
            "Epoch 77/100\n",
            "484/484 [==============================] - 7s 14ms/step - loss: 1.5053 - accuracy: 0.7360\n",
            "Epoch 78/100\n",
            "484/484 [==============================] - 7s 14ms/step - loss: 1.4862 - accuracy: 0.7372\n",
            "Epoch 79/100\n",
            "484/484 [==============================] - 7s 14ms/step - loss: 1.4661 - accuracy: 0.7414\n",
            "Epoch 80/100\n",
            "484/484 [==============================] - 7s 14ms/step - loss: 1.4593 - accuracy: 0.7405\n",
            "Epoch 81/100\n",
            "484/484 [==============================] - 7s 14ms/step - loss: 1.4323 - accuracy: 0.7473\n",
            "Epoch 82/100\n",
            "484/484 [==============================] - 7s 14ms/step - loss: 1.4150 - accuracy: 0.7489\n",
            "Epoch 83/100\n",
            "484/484 [==============================] - 7s 14ms/step - loss: 1.4028 - accuracy: 0.7527\n",
            "Epoch 84/100\n",
            "484/484 [==============================] - 7s 14ms/step - loss: 1.3938 - accuracy: 0.7572\n",
            "Epoch 85/100\n",
            "484/484 [==============================] - 7s 14ms/step - loss: 1.3613 - accuracy: 0.7622\n",
            "Epoch 86/100\n",
            "484/484 [==============================] - 7s 14ms/step - loss: 1.3539 - accuracy: 0.7622\n",
            "Epoch 87/100\n",
            "484/484 [==============================] - 7s 14ms/step - loss: 1.3381 - accuracy: 0.7623\n",
            "Epoch 88/100\n",
            "484/484 [==============================] - 7s 14ms/step - loss: 1.3265 - accuracy: 0.7692\n",
            "Epoch 89/100\n",
            "484/484 [==============================] - 7s 14ms/step - loss: 1.3204 - accuracy: 0.7683\n",
            "Epoch 90/100\n",
            "484/484 [==============================] - 7s 14ms/step - loss: 1.3046 - accuracy: 0.7703\n",
            "Epoch 91/100\n",
            "484/484 [==============================] - 7s 14ms/step - loss: 1.2830 - accuracy: 0.7747\n",
            "Epoch 92/100\n",
            "484/484 [==============================] - 7s 14ms/step - loss: 1.2776 - accuracy: 0.7730\n",
            "Epoch 93/100\n",
            "484/484 [==============================] - 7s 14ms/step - loss: 1.2618 - accuracy: 0.7778\n",
            "Epoch 94/100\n",
            "484/484 [==============================] - 7s 14ms/step - loss: 1.2514 - accuracy: 0.7794\n",
            "Epoch 95/100\n",
            "484/484 [==============================] - 7s 14ms/step - loss: 1.2426 - accuracy: 0.7793\n",
            "Epoch 96/100\n",
            "484/484 [==============================] - 7s 14ms/step - loss: 1.2199 - accuracy: 0.7866\n",
            "Epoch 97/100\n",
            "484/484 [==============================] - 7s 14ms/step - loss: 1.2166 - accuracy: 0.7844\n",
            "Epoch 98/100\n",
            "484/484 [==============================] - 7s 14ms/step - loss: 1.2001 - accuracy: 0.7894\n",
            "Epoch 99/100\n",
            "484/484 [==============================] - 7s 14ms/step - loss: 1.1887 - accuracy: 0.7905\n",
            "Epoch 100/100\n",
            "484/484 [==============================] - 7s 14ms/step - loss: 1.2035 - accuracy: 0.7850\n"
          ],
          "name": "stdout"
        }
      ]
    },
    {
      "cell_type": "code",
      "metadata": {
        "colab_type": "code",
        "id": "1fXTEO3GJ282",
        "colab": {
          "base_uri": "https://localhost:8080/",
          "height": 545
        },
        "outputId": "dd51b5b3-247a-4651-a51d-a0043615c2b1"
      },
      "source": [
        "import matplotlib.pyplot as plt\n",
        "acc = history.history['accuracy']\n",
        "loss = history.history['loss']\n",
        "\n",
        "epochs = range(len(acc))\n",
        "\n",
        "plt.plot(epochs, acc, 'b', label='Training accuracy')\n",
        "plt.title('Training accuracy')\n",
        "\n",
        "plt.figure()\n",
        "\n",
        "plt.plot(epochs, loss, 'b', label='Training Loss')\n",
        "plt.title('Training loss')\n",
        "plt.legend()\n",
        "\n",
        "plt.show()"
      ],
      "execution_count": 7,
      "outputs": [
        {
          "output_type": "display_data",
          "data": {
            "image/png": "[encoded data removed]",
            "text/plain": [
              "<Figure size 432x288 with 1 Axes>"
            ]
          },
          "metadata": {
            "tags": [],
            "needs_background": "light"
          }
        },
        {
          "output_type": "display_data",
          "data": {
            "image/png": "[encoded data removed]",
            "text/plain": [
              "<Figure size 432x288 with 1 Axes>"
            ]
          },
          "metadata": {
            "tags": [],
            "needs_background": "light"
          }
        }
      ]
    },
    {
      "cell_type": "code",
      "metadata": {
        "colab_type": "code",
        "id": "6Vc6PHgxa6Hm",
        "colab": {
          "base_uri": "https://localhost:8080/",
          "height": 104
        },
        "outputId": "2b48991b-1d7a-4663-975e-7bc8d461f2e7"
      },
      "source": [
        "seed_text = \"Help me Obi Wan Kenobi, you're my only hope\"\n",
        "next_words = 100\n",
        "  \n",
        "for _ in range(next_words):\n",
        "\ttoken_list = tokenizer.texts_to_sequences([seed_text])[0]\n",
        "\ttoken_list = pad_sequences([token_list], maxlen=max_sequence_len-1, padding='pre')\n",
        "\tpredicted = model.predict_classes(token_list, verbose=0)\n",
        "\toutput_word = \"\"\n",
        "\tfor word, index in tokenizer.word_index.items():\n",
        "\t\tif index == predicted:\n",
        "\t\t\toutput_word = word\n",
        "\t\t\tbreak\n",
        "\tseed_text += \" \" + output_word\n",
        "print(seed_text)"
      ],
      "execution_count": 8,
      "outputs": [
        {
          "output_type": "stream",
          "text": [
            "WARNING:tensorflow:From <ipython-input-8-622d307fa19a>:7: Sequential.predict_classes (from tensorflow.python.keras.engine.sequential) is deprecated and will be removed after 2021-01-01.\n",
            "Instructions for updating:\n",
            "Please use instead:* `np.argmax(model.predict(x), axis=-1)`,   if your model does multi-class classification   (e.g. if it uses a `softmax` last-layer activation).* `(model.predict(x) > 0.5).astype(\"int32\")`,   if your model does binary classification   (e.g. if it uses a `sigmoid` last-layer activation).\n",
            "Help me Obi Wan Kenobi, you're my only hope some glory in thee back defeated room halt back thee down her due was not told of love me ill ill for thee so true 'will ' so skill ' were so doth thence strange slow kill thee there live young well made young for her face was makes my pen lies rare 'will ' ' now be tend fullness shown shown shown shown shown express'd taken fled free free still but swerving so face 'tis ' was not her dearly bright prove me better past green love kind here better young well lack young truth by rest lie from\n"
          ],
          "name": "stdout"
        }
      ]
    },
    {
      "cell_type": "code",
      "metadata": {
        "id": "ZF6eSQyKvBoE",
        "colab_type": "code",
        "colab": {}
      },
      "source": [
        ""
      ],
      "execution_count": null,
      "outputs": []
    }
  ]
}