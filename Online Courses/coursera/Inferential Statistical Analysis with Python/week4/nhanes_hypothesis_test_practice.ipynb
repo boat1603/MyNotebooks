{
 "cells": [
  {
   "cell_type": "markdown",
   "metadata": {},
   "source": [
    "# Practice notebook for hypothesis tests using NHANES data\n",
    "\n",
    "This notebook will give you the opportunity to perform some hypothesis tests with the NHANES data that are similar to\n",
    "what was done in the week 3 case study notebook.\n",
    "\n",
    "You can enter your code into the cells that say \"enter your code here\", and you can type responses to the questions into the cells that say \"Type Markdown and Latex\".\n",
    "\n",
    "Note that most of the code that you will need to write below is very similar to code that appears in the case study notebook.  You will need to edit code from that notebook in small ways to adapt it to the prompts below.\n",
    "\n",
    "To get started, we will use the same module imports and read the data in the same way as we did in the case study:"
   ]
  },
  {
   "cell_type": "code",
   "execution_count": 11,
   "metadata": {},
   "outputs": [],
   "source": [
    "%matplotlib inline\n",
    "import matplotlib.pyplot as plt\n",
    "import seaborn as sns\n",
    "import pandas as pd\n",
    "import statsmodels.api as sm\n",
    "import numpy as np\n",
    "from statsmodels.stats.proportion import proportion_confint\n",
    "da = pd.read_csv(\"nhanes_2015_2016.csv\")"
   ]
  },
  {
   "cell_type": "markdown",
   "metadata": {},
   "source": [
    "## Question 1\n",
    "\n",
    "Conduct a hypothesis test (at the 0.05 level) for the null hypothesis that the proportion of women who smoke is equal to the proportion of men who smoke."
   ]
  },
  {
   "cell_type": "code",
   "execution_count": 3,
   "metadata": {},
   "outputs": [],
   "source": [
    "# insert your code here\n",
    "da_male_smoke=da[da['RIAGENDR']==1]['SMQ020']\n",
    "da_male_smoke=da_male_smoke[~da_male_smoke.isna()]\n",
    "da_male_smoke.reset_index(inplace=True, drop=True)\n",
    "\n",
    "da_female_smoke=da[da['RIAGENDR']==2]['SMQ020']\n",
    "da_female_smoke=da_female_smoke[~da_female_smoke.isna()]\n",
    "da_female_smoke.reset_index(inplace=True, drop=True)"
   ]
  },
  {
   "cell_type": "code",
   "execution_count": 4,
   "metadata": {},
   "outputs": [
    {
     "name": "stdout",
     "output_type": "stream",
     "text": [
      "1413 , 1346\n"
     ]
    }
   ],
   "source": [
    "print(sum(da_male_smoke==1), \",\", sum(da_male_smoke!=1))"
   ]
  },
  {
   "cell_type": "code",
   "execution_count": 5,
   "metadata": {},
   "outputs": [
    {
     "name": "stdout",
     "output_type": "stream",
     "text": [
      "906 , 2070\n"
     ]
    }
   ],
   "source": [
    "print(sum(da_female_smoke==1), \",\", sum(da_female_smoke!=1))"
   ]
  },
  {
   "cell_type": "code",
   "execution_count": 6,
   "metadata": {},
   "outputs": [
    {
     "data": {
      "text/plain": [
       "0.5121420804639362"
      ]
     },
     "execution_count": 6,
     "metadata": {},
     "output_type": "execute_result"
    }
   ],
   "source": [
    "sum(da_male_smoke==1)/len(da_male_smoke)"
   ]
  },
  {
   "cell_type": "code",
   "execution_count": 7,
   "metadata": {},
   "outputs": [
    {
     "data": {
      "text/plain": [
       "0.30443548387096775"
      ]
     },
     "execution_count": 7,
     "metadata": {},
     "output_type": "execute_result"
    }
   ],
   "source": [
    "sum(da_female_smoke==1)/len(da_female_smoke)"
   ]
  },
  {
   "cell_type": "code",
   "execution_count": 8,
   "metadata": {},
   "outputs": [
    {
     "data": {
      "text/plain": [
       "1.2459917316304443"
      ]
     },
     "execution_count": 8,
     "metadata": {},
     "output_type": "execute_result"
    }
   ],
   "source": [
    "(np.std(da_male_smoke)**2)/(np.std(da_female_smoke)**2)"
   ]
  },
  {
   "cell_type": "code",
   "execution_count": 9,
   "metadata": {},
   "outputs": [
    {
     "data": {
      "text/plain": [
       "(-13.667880438664463, 7.117170730872684e-42, 5733.0)"
      ]
     },
     "execution_count": 9,
     "metadata": {},
     "output_type": "execute_result"
    }
   ],
   "source": [
    "sm.stats.ttest_ind(da_male_smoke, da_female_smoke)"
   ]
  },
  {
   "cell_type": "markdown",
   "metadata": {},
   "source": [
    "__Q1a.__ Write 1-2 sentences explaining the substance of your findings to someone who does not know anything about statistical hypothesis tests."
   ]
  },
  {
   "cell_type": "markdown",
   "metadata": {},
   "source": []
  },
  {
   "cell_type": "markdown",
   "metadata": {},
   "source": [
    "__Q1b.__ Construct three 95% confidence intervals: one for the proportion of women who smoke, one for the proportion of men who smoke, and one for the difference in the rates of smoking between women and men."
   ]
  },
  {
   "cell_type": "code",
   "execution_count": 12,
   "metadata": {},
   "outputs": [
    {
     "data": {
      "text/plain": [
       "(0.2879026244757051, 0.3209683432662304)"
      ]
     },
     "execution_count": 12,
     "metadata": {},
     "output_type": "execute_result"
    }
   ],
   "source": [
    "# insert your code here\n",
    "ci_low, ci_upp = proportion_confint(sum(da_female_smoke==1), len(da_female_smoke), alpha=0.05, method='normal')\n",
    "ci_low, ci_upp"
   ]
  },
  {
   "cell_type": "code",
   "execution_count": 13,
   "metadata": {},
   "outputs": [
    {
     "data": {
      "text/plain": [
       "(0.49349056386167417, 0.5307935970661982)"
      ]
     },
     "execution_count": 13,
     "metadata": {},
     "output_type": "execute_result"
    }
   ],
   "source": [
    "ci_low, ci_upp = proportion_confint(sum(da_male_smoke==1), len(da_male_smoke), alpha=0.05, method='normal')\n",
    "ci_low, ci_upp"
   ]
  },
  {
   "cell_type": "code",
   "execution_count": 14,
   "metadata": {},
   "outputs": [
    {
     "data": {
      "text/plain": [
       "0.5121420804639362"
      ]
     },
     "execution_count": 14,
     "metadata": {},
     "output_type": "execute_result"
    }
   ],
   "source": [
    "proportion_male_smokers=(sum(da_male_smoke==1)/len(da_male_smoke))\n",
    "proportion_male_smokers"
   ]
  },
  {
   "cell_type": "code",
   "execution_count": 15,
   "metadata": {},
   "outputs": [
    {
     "data": {
      "text/plain": [
       "0.30443548387096775"
      ]
     },
     "execution_count": 15,
     "metadata": {},
     "output_type": "execute_result"
    }
   ],
   "source": [
    "proportion_female_smokers=(sum(da_female_smoke==1)/len(da_female_smoke))\n",
    "proportion_female_smokers"
   ]
  },
  {
   "cell_type": "code",
   "execution_count": 16,
   "metadata": {},
   "outputs": [
    {
     "data": {
      "text/plain": [
       "0.20770659659296842"
      ]
     },
     "execution_count": 16,
     "metadata": {},
     "output_type": "execute_result"
    }
   ],
   "source": [
    "proportion_smokers_gender_diff=proportion_male_smokers-proportion_female_smokers\n",
    "proportion_smokers_gender_diff"
   ]
  },
  {
   "cell_type": "code",
   "execution_count": 17,
   "metadata": {},
   "outputs": [
    {
     "data": {
      "text/plain": [
       "0.009516254762527675"
      ]
     },
     "execution_count": 17,
     "metadata": {},
     "output_type": "execute_result"
    }
   ],
   "source": [
    "se_smokers_gender_male=np.sqrt((proportion_male_smokers*(1-proportion_male_smokers))/len(da_male_smoke))\n",
    "se_smokers_gender_male"
   ]
  },
  {
   "cell_type": "code",
   "execution_count": 18,
   "metadata": {},
   "outputs": [
    {
     "data": {
      "text/plain": [
       "0.008435287344906213"
      ]
     },
     "execution_count": 18,
     "metadata": {},
     "output_type": "execute_result"
    }
   ],
   "source": [
    "se_smokers_gender_female=np.sqrt((proportion_female_smokers*(1-proportion_female_smokers))/len(da_female_smoke))\n",
    "se_smokers_gender_female"
   ]
  },
  {
   "cell_type": "code",
   "execution_count": 19,
   "metadata": {},
   "outputs": [
    {
     "data": {
      "text/plain": [
       "0.012716649609722899"
      ]
     },
     "execution_count": 19,
     "metadata": {},
     "output_type": "execute_result"
    }
   ],
   "source": [
    "se_proportion_smokers_diff=np.sqrt((se_smokers_gender_male**2)+(se_smokers_gender_female**2))\n",
    "se_proportion_smokers_diff"
   ]
  },
  {
   "cell_type": "code",
   "execution_count": 20,
   "metadata": {},
   "outputs": [
    {
     "name": "stdout",
     "output_type": "stream",
     "text": [
      "Lower Boundary Male:  0.18278196335791153\n",
      "Upper Boundary Male:  0.2326312298280253\n"
     ]
    }
   ],
   "source": [
    "print('Lower Boundary Male: ', proportion_smokers_gender_diff-1.96*se_proportion_smokers_diff)\n",
    "print('Upper Boundary Male: ', proportion_smokers_gender_diff+1.96*se_proportion_smokers_diff)"
   ]
  },
  {
   "cell_type": "markdown",
   "metadata": {},
   "source": [
    "__Q1c.__ Comment on any ways in which the confidence intervals that you found in part b reinforce, contradict, or add support to the hypothesis test conducted in part a."
   ]
  },
  {
   "cell_type": "markdown",
   "metadata": {},
   "source": []
  },
  {
   "cell_type": "markdown",
   "metadata": {},
   "source": [
    "## Question 2\n",
    "\n",
    "Partition the population into two groups based on whether a person has graduated college or not, using the educational attainment variable [DMDEDUC2](https://wwwn.cdc.gov/Nchs/Nhanes/2015-2016/DEMO_I.htm#DMDEDUC2).  Then conduct a test of the null hypothesis that the average heights (in centimeters) of the two groups are equal.  Next, convert the heights from centimeters to inches, and conduct a test of the null hypothesis that the average heights (in inches) of the two groups are equal."
   ]
  },
  {
   "cell_type": "code",
   "execution_count": 21,
   "metadata": {},
   "outputs": [],
   "source": [
    "# insert your code here\n",
    "da_graduated_height_cm=da[da['DMDEDUC2']==5]['BMXHT']\n",
    "da_graduated_height_cm=da_graduated_height_cm[~da_graduated_height_cm.isna()]\n",
    "da_graduated_height_cm.reset_index(inplace=True, drop=True)\n",
    "da_not_graduated_height_cm=da[da['DMDEDUC2']!=5]['BMXHT']\n",
    "da_not_graduated_height_cm=da_not_graduated_height_cm[~da_not_graduated_height_cm.isna()]\n",
    "da_not_graduated_height_cm.reset_index(inplace=True, drop=True)"
   ]
  },
  {
   "cell_type": "code",
   "execution_count": 22,
   "metadata": {},
   "outputs": [
    {
     "data": {
      "text/plain": [
       "1355"
      ]
     },
     "execution_count": 22,
     "metadata": {},
     "output_type": "execute_result"
    }
   ],
   "source": [
    "len(da_graduated_height_cm)"
   ]
  },
  {
   "cell_type": "code",
   "execution_count": 23,
   "metadata": {},
   "outputs": [
    {
     "data": {
      "text/plain": [
       "4318"
      ]
     },
     "execution_count": 23,
     "metadata": {},
     "output_type": "execute_result"
    }
   ],
   "source": [
    "len(da_not_graduated_height_cm)"
   ]
  },
  {
   "cell_type": "code",
   "execution_count": 24,
   "metadata": {},
   "outputs": [
    {
     "data": {
      "text/plain": [
       "167.85535055350553"
      ]
     },
     "execution_count": 24,
     "metadata": {},
     "output_type": "execute_result"
    }
   ],
   "source": [
    "da_graduated_height_cm.mean()"
   ]
  },
  {
   "cell_type": "code",
   "execution_count": 25,
   "metadata": {},
   "outputs": [
    {
     "data": {
      "text/plain": [
       "165.60544233441408"
      ]
     },
     "execution_count": 25,
     "metadata": {},
     "output_type": "execute_result"
    }
   ],
   "source": [
    "da_not_graduated_height_cm.mean()"
   ]
  },
  {
   "cell_type": "code",
   "execution_count": 26,
   "metadata": {},
   "outputs": [
    {
     "name": "stdout",
     "output_type": "stream",
     "text": [
      "(7.2007656698012505, 5.987537169067422e-13)\n"
     ]
    }
   ],
   "source": [
    "print(sm.stats.ztest(da_graduated_height_cm, da_not_graduated_height_cm))"
   ]
  },
  {
   "cell_type": "code",
   "execution_count": 27,
   "metadata": {},
   "outputs": [],
   "source": [
    "da_graduated_height_inches=da_graduated_height_cm/2.54\n",
    "da_graduated_height_inches=da_graduated_height_inches[~da_graduated_height_inches.isna()]\n",
    "da_graduated_height_inches.reset_index(inplace=True, drop=True)"
   ]
  },
  {
   "cell_type": "code",
   "execution_count": 28,
   "metadata": {},
   "outputs": [],
   "source": [
    "da_not_graduated_height_inches=da_not_graduated_height_cm/2.54\n",
    "da_not_graduated_height_inches=da_not_graduated_height_inches[~da_not_graduated_height_inches.isna()]\n",
    "da_not_graduated_height_inches.reset_index(inplace=True, drop=True)"
   ]
  },
  {
   "cell_type": "code",
   "execution_count": 29,
   "metadata": {},
   "outputs": [
    {
     "name": "stdout",
     "output_type": "stream",
     "text": [
      "(7.200765669801254, 5.987537169067249e-13)\n"
     ]
    }
   ],
   "source": [
    "print(sm.stats.ztest(da_graduated_height_inches, da_not_graduated_height_inches))"
   ]
  },
  {
   "cell_type": "markdown",
   "metadata": {},
   "source": [
    "__Q2a.__ Based on the analysis performed here, are you confident that people who graduated from college have a different average height compared to people who did not graduate from college?"
   ]
  },
  {
   "cell_type": "markdown",
   "metadata": {},
   "source": []
  },
  {
   "cell_type": "markdown",
   "metadata": {},
   "source": [
    "__Q2b:__ How do the results obtained using the heights expressed in inches compare to the results obtained using the heights expressed in centimeters?"
   ]
  },
  {
   "cell_type": "markdown",
   "metadata": {},
   "source": []
  },
  {
   "cell_type": "markdown",
   "metadata": {},
   "source": [
    "## Question 3\n",
    "\n",
    "Conduct a hypothesis test of the null hypothesis that the average BMI for men between 30 and 40 is equal to the average BMI for men between 50 and 60.  Then carry out this test again after log transforming the BMI values."
   ]
  },
  {
   "cell_type": "code",
   "execution_count": 30,
   "metadata": {},
   "outputs": [
    {
     "data": {
      "text/plain": [
       "(488, 525)"
      ]
     },
     "execution_count": 30,
     "metadata": {},
     "output_type": "execute_result"
    }
   ],
   "source": [
    "# insert your code here\n",
    "da_bmi=da[(da['RIDAGEYR']>=30)&(da['RIDAGEYR']<=40)]\n",
    "da_bmi.reset_index(inplace=True, drop=True)\n",
    "\n",
    "bmi_men=da_bmi[da_bmi['RIAGENDR']==1]['BMXBMI']\n",
    "bmi_men=bmi_men[~bmi_men.isna()]\n",
    "bmi_men.reset_index(inplace=True, drop=True)\n",
    "\n",
    "bmi_women=da_bmi[da_bmi['RIAGENDR']==2]['BMXBMI']\n",
    "bmi_women=bmi_women[~bmi_women.isna()]\n",
    "bmi_women.reset_index(inplace=True, drop=True)\n",
    "len(bmi_men),len(bmi_women)"
   ]
  },
  {
   "cell_type": "code",
   "execution_count": 31,
   "metadata": {},
   "outputs": [
    {
     "name": "stdout",
     "output_type": "stream",
     "text": [
      "(-1.109324496826031, 0.26729022096402777)\n"
     ]
    }
   ],
   "source": [
    "print(sm.stats.ztest(bmi_men, bmi_women))"
   ]
  },
  {
   "cell_type": "code",
   "execution_count": 32,
   "metadata": {},
   "outputs": [
    {
     "name": "stdout",
     "output_type": "stream",
     "text": [
      "(-0.4737991644730396, 0.6356431304660779)\n"
     ]
    }
   ],
   "source": [
    "bmi_men_log=np.log(bmi_men)\n",
    "bmi_women_log=np.log(bmi_women)\n",
    "\n",
    "print(sm.stats.ztest(bmi_men_log, bmi_women_log))"
   ]
  },
  {
   "cell_type": "markdown",
   "metadata": {},
   "source": [
    "__Q3a.__ How would you characterize the evidence that mean BMI differs between these age bands, and how would you characterize the evidence that mean log BMI differs between these age bands?"
   ]
  },
  {
   "cell_type": "markdown",
   "metadata": {},
   "source": []
  },
  {
   "cell_type": "markdown",
   "metadata": {},
   "source": [
    "## Question 4\n",
    "\n",
    "Suppose we wish to compare the mean BMI between college graduates and people who have not graduated from college, focusing on women between the ages of 30 and 40.  First, consider the variance of BMI within each of these subpopulations using graphical techniques, and through the estimated subpopulation variances.  Then, calculate pooled and unpooled estimates of the standard error for the difference between the mean BMI in the two populations being compared.  Finally, test the null hypothesis that the two population means are equal, using each of the two different standard errors."
   ]
  },
  {
   "cell_type": "code",
   "execution_count": 33,
   "metadata": {},
   "outputs": [],
   "source": [
    "# insert your code here\n",
    "da_bmi_women=da_bmi[da_bmi['RIAGENDR']==2]\n",
    "da_bmi_women.reset_index(inplace=True, drop=True)\n",
    "bmi_women_graduated=da_bmi_women[da_bmi_women['DMDEDUC2']==5]['BMXBMI']\n",
    "bmi_women_graduated=bmi_women_graduated[~bmi_women_graduated.isna()]\n",
    "bmi_women_graduated.reset_index(inplace=True, drop=True)\n",
    "bmi_women_not_graduated=da_bmi_women[da_bmi_women['DMDEDUC2'].isin([1, 2, 3, 4])]['BMXBMI']\n",
    "bmi_women_not_graduated=bmi_women_not_graduated[~bmi_women_not_graduated.isna()]\n",
    "bmi_women_not_graduated.reset_index(inplace=True, drop=True)"
   ]
  },
  {
   "cell_type": "code",
   "execution_count": 34,
   "metadata": {},
   "outputs": [
    {
     "data": {
      "text/plain": [
       "count    171.000000\n",
       "mean      27.808187\n",
       "std        7.358264\n",
       "min       17.100000\n",
       "25%       22.750000\n",
       "50%       26.300000\n",
       "75%       31.150000\n",
       "max       62.700000\n",
       "Name: BMXBMI, dtype: float64"
      ]
     },
     "execution_count": 34,
     "metadata": {},
     "output_type": "execute_result"
    }
   ],
   "source": [
    "bmi_women_graduated.describe()"
   ]
  },
  {
   "cell_type": "code",
   "execution_count": 35,
   "metadata": {},
   "outputs": [
    {
     "data": {
      "text/plain": [
       "count    354.000000\n",
       "mean      31.257345\n",
       "std        8.256083\n",
       "min       16.600000\n",
       "25%       25.300000\n",
       "50%       29.500000\n",
       "75%       35.875000\n",
       "max       60.900000\n",
       "Name: BMXBMI, dtype: float64"
      ]
     },
     "execution_count": 35,
     "metadata": {},
     "output_type": "execute_result"
    }
   ],
   "source": [
    "bmi_women_not_graduated.describe()"
   ]
  },
  {
   "cell_type": "code",
   "execution_count": 36,
   "metadata": {},
   "outputs": [
    {
     "data": {
      "text/plain": [
       "<matplotlib.axes._subplots.AxesSubplot at 0x7f398ea567f0>"
      ]
     },
     "execution_count": 36,
     "metadata": {},
     "output_type": "execute_result"
    },
    {
     "data": {
      "image/png": "[encoded data removed]",
      "text/plain": [
       "<Figure size 432x288 with 1 Axes>"
      ]
     },
     "metadata": {},
     "output_type": "display_data"
    }
   ],
   "source": [
    "sns.boxplot(bmi_women_graduated)"
   ]
  },
  {
   "cell_type": "code",
   "execution_count": 37,
   "metadata": {},
   "outputs": [
    {
     "data": {
      "text/plain": [
       "<matplotlib.axes._subplots.AxesSubplot at 0x7f3988712c18>"
      ]
     },
     "execution_count": 37,
     "metadata": {},
     "output_type": "execute_result"
    },
    {
     "data": {
      "image/png": "[encoded data removed]",
      "text/plain": [
       "<Figure size 432x288 with 1 Axes>"
      ]
     },
     "metadata": {},
     "output_type": "display_data"
    }
   ],
   "source": [
    "sns.boxplot(bmi_women_not_graduated)"
   ]
  },
  {
   "cell_type": "code",
   "execution_count": 38,
   "metadata": {},
   "outputs": [
    {
     "data": {
      "text/plain": [
       "0.791924918261364"
      ]
     },
     "execution_count": 38,
     "metadata": {},
     "output_type": "execute_result"
    }
   ],
   "source": [
    "(np.std(bmi_women_graduated)**2)/(np.std(bmi_women_not_graduated)**2)"
   ]
  },
  {
   "cell_type": "code",
   "execution_count": 39,
   "metadata": {},
   "outputs": [
    {
     "name": "stdout",
     "output_type": "stream",
     "text": [
      "pooled:  (-4.643908450956424, 3.4187910067116893e-06)\n",
      "unequal: (-4.833662355599101, 1.340438616920389e-06)\n"
     ]
    }
   ],
   "source": [
    "bmi_women_graduated = sm.stats.DescrStatsW(bmi_women_graduated)\n",
    "bmi_women_not_graduated = sm.stats.DescrStatsW(bmi_women_not_graduated)\n",
    "print(\"pooled: \", sm.stats.CompareMeans(bmi_women_graduated, bmi_women_not_graduated).ztest_ind(usevar='pooled'))\n",
    "print(\"unequal:\", sm.stats.CompareMeans(bmi_women_graduated, bmi_women_not_graduated).ztest_ind(usevar='unequal'))"
   ]
  },
  {
   "cell_type": "markdown",
   "metadata": {},
   "source": [
    "__Q4a.__ Comment on the strength of evidence against the null hypothesis that these two populations have equal mean BMI."
   ]
  },
  {
   "cell_type": "markdown",
   "metadata": {},
   "source": []
  },
  {
   "cell_type": "markdown",
   "metadata": {},
   "source": [
    "__Q4b.__ Comment on the degree to which the two populations have different variances, and on the extent to which the results using different approaches to estimating the standard error of the mean difference give divergent results."
   ]
  },
  {
   "cell_type": "markdown",
   "metadata": {},
   "source": []
  },
  {
   "cell_type": "markdown",
   "metadata": {},
   "source": [
    "## Question 5\n",
    "\n",
    "Conduct a test of the null hypothesis that the first and second diastolic blood pressure measurements within a subject have the same mean values."
   ]
  },
  {
   "cell_type": "code",
   "execution_count": 40,
   "metadata": {},
   "outputs": [
    {
     "name": "stdout",
     "output_type": "stream",
     "text": [
      "0.3490407897187558\n"
     ]
    },
    {
     "data": {
      "text/plain": [
       "(4.140387087476751, 3.467202439743513e-05)"
      ]
     },
     "execution_count": 40,
     "metadata": {},
     "output_type": "execute_result"
    }
   ],
   "source": [
    "# insert your code here\n",
    "dx = da[[\"BPXDI1\", \"BPXDI2\"]].dropna()\n",
    "db = dx.BPXDI1 - dx.BPXDI2\n",
    "print(db.mean())\n",
    "sm.stats.ztest(db)"
   ]
  },
  {
   "cell_type": "markdown",
   "metadata": {},
   "source": [
    "__Q5a.__ Briefly describe your findings for an audience that is not familiar with statistical hypothesis testing."
   ]
  },
  {
   "cell_type": "markdown",
   "metadata": {},
   "source": []
  },
  {
   "cell_type": "markdown",
   "metadata": {},
   "source": [
    "__Q5b.__ Pretend that the first and second diastolic blood pressure measurements were taken on different people.  Modfify the analysis above as appropriate for this setting."
   ]
  },
  {
   "cell_type": "code",
   "execution_count": 41,
   "metadata": {},
   "outputs": [
    {
     "name": "stdout",
     "output_type": "stream",
     "text": [
      "(0.6848982193746493, 0.49340814971248503)\n"
     ]
    }
   ],
   "source": [
    "# insert your code here\n",
    "BPXDI1=da[~da['BPXDI1'].isna()]['BPXDI1']\n",
    "BPXDI1.reset_index(inplace=True, drop=True)\n",
    "BPXDI2=da[~da['BPXDI2'].isna()]['BPXDI2']\n",
    "BPXDI2.reset_index(inplace=True, drop=True)\n",
    "\n",
    "BPXDI1 = sm.stats.DescrStatsW(BPXDI1)\n",
    "BPXDI2 = sm.stats.DescrStatsW(BPXDI2)\n",
    "print(sm.stats.CompareMeans(BPXDI1, BPXDI2).ztest_ind(usevar='pooled'))"
   ]
  },
  {
   "cell_type": "markdown",
   "metadata": {},
   "source": [
    "__Q5c.__ Briefly describe how the approaches used and the results obtained in the preceeding two parts of the question differ."
   ]
  },
  {
   "cell_type": "markdown",
   "metadata": {},
   "source": []
  }
 ],
 "metadata": {
  "kernelspec": {
   "display_name": "Python 3",
   "language": "python",
   "name": "python3"
  },
  "language_info": {
   "codemirror_mode": {
    "name": "ipython",
    "version": 3
   },
   "file_extension": ".py",
   "mimetype": "text/x-python",
   "name": "python",
   "nbconvert_exporter": "python",
   "pygments_lexer": "ipython3",
   "version": "3.6.3"
  }
 },
 "nbformat": 4,
 "nbformat_minor": 2
}
