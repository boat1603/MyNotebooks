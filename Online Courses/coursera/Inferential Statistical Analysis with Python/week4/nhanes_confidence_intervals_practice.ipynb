{
 "cells": [
  {
   "cell_type": "markdown",
   "metadata": {},
   "source": [
    "# Practice notebook for confidence intervals using NHANES data\n",
    "\n",
    "This notebook will give you the opportunity to practice working with confidence intervals using the NHANES data.\n",
    "\n",
    "You can enter your code into the cells that say \"enter your code here\", and you can type responses to the questions into the cells that say \"Type Markdown and Latex\".\n",
    "\n",
    "Note that most of the code that you will need to write below is very similar to code that appears in the case study notebook.  You will need to edit code from that notebook in small ways to adapt it to the prompts below.\n",
    "\n",
    "To get started, we will use the same module imports and read the data in the same way as we did in the case study:"
   ]
  },
  {
   "cell_type": "code",
   "execution_count": 10,
   "metadata": {},
   "outputs": [],
   "source": [
    "%matplotlib inline\n",
    "import matplotlib.pyplot as plt\n",
    "import pandas as pd\n",
    "import numpy as np\n",
    "import seaborn as sns\n",
    "import statsmodels.api as sm\n",
    "from statsmodels.stats.proportion import proportion_confint\n",
    "\n",
    "da = pd.read_csv(\"nhanes_2015_2016.csv\")"
   ]
  },
  {
   "cell_type": "markdown",
   "metadata": {},
   "source": [
    "## Question 1\n",
    "\n",
    "Restrict the sample to women between 35 and 50, then use the marital status variable [DMDMARTL](https://wwwn.cdc.gov/Nchs/Nhanes/2015-2016/DEMO_I.htm#DMDMARTL) to partition this sample into two groups - women who are currently married, and women who are not currently married.  Within each of these groups, calculate the proportion of women who have completed college.  Calculate 95% confidence intervals for each of these proportions."
   ]
  },
  {
   "cell_type": "code",
   "execution_count": 2,
   "metadata": {},
   "outputs": [],
   "source": [
    "# enter your code here\n",
    "da_female_35_50=da[(da['RIAGENDR']==2)&(da['RIDAGEYR']>=35)&(da['RIDAGEYR']<=50)]\n",
    "da_female_35_50.reset_index(inplace=True, drop=True)"
   ]
  },
  {
   "cell_type": "code",
   "execution_count": 3,
   "metadata": {},
   "outputs": [],
   "source": [
    "da_female_35_50_married=da_female_35_50[da_female_35_50['DMDMARTL']==1]\n",
    "da_female_35_50_not_married=da_female_35_50[da_female_35_50['DMDMARTL'].isin([2,3,4,5,6])]\n",
    "da_female_35_50_married.reset_index(inplace=True, drop=True)\n",
    "da_female_35_50_not_married.reset_index(inplace=True, drop=True)"
   ]
  },
  {
   "cell_type": "code",
   "execution_count": 4,
   "metadata": {},
   "outputs": [],
   "source": [
    "proportion_married=sum(da_female_35_50_married['DMDEDUC2']==5)/len(da_female_35_50_married)"
   ]
  },
  {
   "cell_type": "code",
   "execution_count": 5,
   "metadata": {},
   "outputs": [
    {
     "data": {
      "text/plain": [
       "0.36080178173719374"
      ]
     },
     "execution_count": 5,
     "metadata": {},
     "output_type": "execute_result"
    }
   ],
   "source": [
    "proportion_married"
   ]
  },
  {
   "cell_type": "code",
   "execution_count": 6,
   "metadata": {},
   "outputs": [
    {
     "data": {
      "text/plain": [
       "0.23062385603246013"
      ]
     },
     "execution_count": 6,
     "metadata": {},
     "output_type": "execute_result"
    }
   ],
   "source": [
    "se_married=proportion_married*(1-proportion_married)\n",
    "se_married"
   ]
  },
  {
   "cell_type": "code",
   "execution_count": 7,
   "metadata": {},
   "outputs": [
    {
     "data": {
      "text/plain": [
       "449"
      ]
     },
     "execution_count": 7,
     "metadata": {},
     "output_type": "execute_result"
    }
   ],
   "source": [
    "n_married=len(da_female_35_50_married['DMDEDUC2'])\n",
    "n_married"
   ]
  },
  {
   "cell_type": "code",
   "execution_count": 8,
   "metadata": {},
   "outputs": [
    {
     "name": "stdout",
     "output_type": "stream",
     "text": [
      "Lower Boundary:  0.3163811208674688\n",
      "Upper Boundary:  0.4052224426069187\n"
     ]
    }
   ],
   "source": [
    "print('Lower Boundary: ', proportion_married-1.96*np.sqrt((se_married/n_married)))\n",
    "print('Upper Boundary: ', proportion_married+1.96*np.sqrt((se_married/n_married)))"
   ]
  },
  {
   "cell_type": "code",
   "execution_count": 11,
   "metadata": {},
   "outputs": [
    {
     "data": {
      "text/plain": [
       "(0.31638193710753626, 0.4052216263668512)"
      ]
     },
     "execution_count": 11,
     "metadata": {},
     "output_type": "execute_result"
    }
   ],
   "source": [
    "ci_low, ci_upp = proportion_confint(162, 449, alpha=0.05, method='normal')\n",
    "ci_low, ci_upp"
   ]
  },
  {
   "cell_type": "code",
   "execution_count": 12,
   "metadata": {},
   "outputs": [
    {
     "data": {
      "text/plain": [
       "0.08883968925931496"
      ]
     },
     "execution_count": 12,
     "metadata": {},
     "output_type": "execute_result"
    }
   ],
   "source": [
    "ci_upp-ci_low"
   ]
  },
  {
   "cell_type": "code",
   "execution_count": 13,
   "metadata": {},
   "outputs": [
    {
     "data": {
      "text/plain": [
       "0.21301775147928995"
      ]
     },
     "execution_count": 13,
     "metadata": {},
     "output_type": "execute_result"
    }
   ],
   "source": [
    "proportion_not_married=sum(da_female_35_50_not_married['DMDEDUC2']==5)/len(da_female_35_50_not_married)\n",
    "proportion_not_married"
   ]
  },
  {
   "cell_type": "code",
   "execution_count": 14,
   "metadata": {},
   "outputs": [
    {
     "data": {
      "text/plain": [
       "0.1676411890339974"
      ]
     },
     "execution_count": 14,
     "metadata": {},
     "output_type": "execute_result"
    }
   ],
   "source": [
    "se_not_married=proportion_not_married*(1-proportion_not_married)\n",
    "se_not_married"
   ]
  },
  {
   "cell_type": "code",
   "execution_count": 15,
   "metadata": {},
   "outputs": [
    {
     "data": {
      "text/plain": [
       "338"
      ]
     },
     "execution_count": 15,
     "metadata": {},
     "output_type": "execute_result"
    }
   ],
   "source": [
    "n_not_married=len(da_female_35_50_not_married['DMDEDUC2'])\n",
    "n_not_married"
   ]
  },
  {
   "cell_type": "code",
   "execution_count": 16,
   "metadata": {},
   "outputs": [
    {
     "name": "stdout",
     "output_type": "stream",
     "text": [
      "Lower Boundary:  0.1693673655848136\n",
      "Upper Boundary:  0.25666813737376626\n"
     ]
    }
   ],
   "source": [
    "print('Lower Boundary: ', proportion_not_married-1.96*np.sqrt((se_not_married/n_not_married)))\n",
    "print('Upper Boundary: ', proportion_not_married+1.96*np.sqrt((se_not_married/n_not_married)))"
   ]
  },
  {
   "cell_type": "code",
   "execution_count": 17,
   "metadata": {},
   "outputs": [
    {
     "data": {
      "text/plain": [
       "(0.16936816767089768, 0.2566673352876822)"
      ]
     },
     "execution_count": 17,
     "metadata": {},
     "output_type": "execute_result"
    }
   ],
   "source": [
    "ci_low, ci_upp = proportion_confint(72, 338, alpha=0.05, method='normal')\n",
    "ci_low, ci_upp"
   ]
  },
  {
   "cell_type": "code",
   "execution_count": 18,
   "metadata": {},
   "outputs": [
    {
     "data": {
      "text/plain": [
       "0.08729916761678452"
      ]
     },
     "execution_count": 18,
     "metadata": {},
     "output_type": "execute_result"
    }
   ],
   "source": [
    "ci_upp-ci_low"
   ]
  },
  {
   "cell_type": "markdown",
   "metadata": {},
   "source": [
    "__Q1a.__ Identify which of the two confidence intervals is wider, and explain why this is the case. "
   ]
  },
  {
   "cell_type": "markdown",
   "metadata": {},
   "source": []
  },
  {
   "cell_type": "markdown",
   "metadata": {},
   "source": [
    "__Q1b.__ Write 1-2 sentences summarizing these findings for an audience that does not know what a confidence interval is (the goal here is to report the substance of what you learned about how marital status and educational attainment are related, not to teach a person what a confidence interval is)."
   ]
  },
  {
   "cell_type": "markdown",
   "metadata": {},
   "source": []
  },
  {
   "cell_type": "markdown",
   "metadata": {},
   "source": [
    "## Question 2\n",
    "\n",
    "Construct a 95% confidence interval for the proportion of smokers who are female. Construct a 95% confidence interval for the proportion of smokers who are male. Construct a 95% confidence interval for the **difference** between those two gender proportions."
   ]
  },
  {
   "cell_type": "code",
   "execution_count": 19,
   "metadata": {},
   "outputs": [
    {
     "data": {
      "text/plain": [
       "2319"
      ]
     },
     "execution_count": 19,
     "metadata": {},
     "output_type": "execute_result"
    }
   ],
   "source": [
    "# enter your code here\n",
    "da_smokers=da[da['SMQ020']==1]\n",
    "da_smokers.reset_index(inplace=True, drop=True)\n",
    "smokers_gender=da_smokers['RIAGENDR']\n",
    "smokers_gender=smokers_gender[~smokers_gender.isna()]\n",
    "smokers_gender.reset_index(inplace=True, drop=True)\n",
    "n_smokers=len(smokers_gender)\n",
    "n_smokers"
   ]
  },
  {
   "cell_type": "code",
   "execution_count": 21,
   "metadata": {},
   "outputs": [
    {
     "data": {
      "text/plain": [
       "1413"
      ]
     },
     "execution_count": 21,
     "metadata": {},
     "output_type": "execute_result"
    }
   ],
   "source": [
    "n_smokers_gender_male=sum(smokers_gender==1)\n",
    "n_smokers_gender_male"
   ]
  },
  {
   "cell_type": "code",
   "execution_count": 22,
   "metadata": {},
   "outputs": [
    {
     "data": {
      "text/plain": [
       "906"
      ]
     },
     "execution_count": 22,
     "metadata": {},
     "output_type": "execute_result"
    }
   ],
   "source": [
    "n_smokers_gender_female=sum(smokers_gender==2)\n",
    "n_smokers_gender_female"
   ]
  },
  {
   "cell_type": "code",
   "execution_count": 23,
   "metadata": {},
   "outputs": [
    {
     "data": {
      "text/plain": [
       "0.6093143596377749"
      ]
     },
     "execution_count": 23,
     "metadata": {},
     "output_type": "execute_result"
    }
   ],
   "source": [
    "proportion_smokers_gender_male=(n_smokers_gender_male/n_smokers)\n",
    "proportion_smokers_gender_male"
   ]
  },
  {
   "cell_type": "code",
   "execution_count": 24,
   "metadata": {},
   "outputs": [
    {
     "data": {
      "text/plain": [
       "0.3906856403622251"
      ]
     },
     "execution_count": 24,
     "metadata": {},
     "output_type": "execute_result"
    }
   ],
   "source": [
    "proportion_smokers_gender_female=(n_smokers_gender_female/n_smokers)\n",
    "proportion_smokers_gender_female"
   ]
  },
  {
   "cell_type": "code",
   "execution_count": 25,
   "metadata": {},
   "outputs": [
    {
     "data": {
      "text/plain": [
       "0.012979661011895138"
      ]
     },
     "execution_count": 25,
     "metadata": {},
     "output_type": "execute_result"
    }
   ],
   "source": [
    "se_smokers_gender_male=np.sqrt((proportion_smokers_gender_male*(1-proportion_smokers_gender_male))/n_smokers_gender_male)\n",
    "se_smokers_gender_male"
   ]
  },
  {
   "cell_type": "code",
   "execution_count": 26,
   "metadata": {},
   "outputs": [
    {
     "data": {
      "text/plain": [
       "0.016209526631489866"
      ]
     },
     "execution_count": 26,
     "metadata": {},
     "output_type": "execute_result"
    }
   ],
   "source": [
    "se_smokers_gender_female=np.sqrt((proportion_smokers_gender_female*(1-proportion_smokers_gender_female))/n_smokers_gender_female)\n",
    "se_smokers_gender_female"
   ]
  },
  {
   "cell_type": "code",
   "execution_count": 27,
   "metadata": {},
   "outputs": [
    {
     "name": "stdout",
     "output_type": "stream",
     "text": [
      "Lower Boundary Male:  0.5838742240544604\n",
      "Upper Boundary Male:  0.6347544952210894\n"
     ]
    }
   ],
   "source": [
    "print('Lower Boundary Male: ', proportion_smokers_gender_male-1.96*se_smokers_gender_male)\n",
    "print('Upper Boundary Male: ', proportion_smokers_gender_male+1.96*se_smokers_gender_male)"
   ]
  },
  {
   "cell_type": "code",
   "execution_count": 28,
   "metadata": {},
   "outputs": [
    {
     "data": {
      "text/plain": [
       "(0.5894565132052486, 0.6291722060703012)"
      ]
     },
     "execution_count": 28,
     "metadata": {},
     "output_type": "execute_result"
    }
   ],
   "source": [
    "ci_low, ci_upp = proportion_confint(n_smokers_gender_male, n_smokers, alpha=0.05, method='normal')\n",
    "ci_low, ci_upp"
   ]
  },
  {
   "cell_type": "code",
   "execution_count": 30,
   "metadata": {},
   "outputs": [
    {
     "data": {
      "text/plain": [
       "0.050880271166628965"
      ]
     },
     "execution_count": 30,
     "metadata": {},
     "output_type": "execute_result"
    }
   ],
   "source": [
    "0.6347544952210894-0.5838742240544604"
   ]
  },
  {
   "cell_type": "code",
   "execution_count": 31,
   "metadata": {},
   "outputs": [
    {
     "data": {
      "text/plain": [
       "(0.37082779392969883, 0.41054348679475133)"
      ]
     },
     "execution_count": 31,
     "metadata": {},
     "output_type": "execute_result"
    }
   ],
   "source": [
    "ci_low, ci_upp = proportion_confint(n_smokers_gender_female, n_smokers, alpha=0.05, method='normal')\n",
    "ci_low, ci_upp"
   ]
  },
  {
   "cell_type": "code",
   "execution_count": 32,
   "metadata": {},
   "outputs": [
    {
     "name": "stdout",
     "output_type": "stream",
     "text": [
      "Lower Boundary Female:  0.35891496816450497\n",
      "Upper Boundary Female:  0.4224563125599452\n"
     ]
    }
   ],
   "source": [
    "print('Lower Boundary Female: ', proportion_smokers_gender_female-1.96*se_smokers_gender_female)\n",
    "print('Upper Boundary Female: ', proportion_smokers_gender_female+1.96*se_smokers_gender_female)"
   ]
  },
  {
   "cell_type": "code",
   "execution_count": 33,
   "metadata": {},
   "outputs": [
    {
     "data": {
      "text/plain": [
       "0.06354134439544024"
      ]
     },
     "execution_count": 33,
     "metadata": {},
     "output_type": "execute_result"
    }
   ],
   "source": [
    "0.4224563125599452-0.35891496816450497"
   ]
  },
  {
   "cell_type": "code",
   "execution_count": 34,
   "metadata": {},
   "outputs": [
    {
     "data": {
      "text/plain": [
       "0.21862871927554983"
      ]
     },
     "execution_count": 34,
     "metadata": {},
     "output_type": "execute_result"
    }
   ],
   "source": [
    "proportion_smokers_gender_diff=proportion_smokers_gender_male-proportion_smokers_gender_female\n",
    "proportion_smokers_gender_diff"
   ]
  },
  {
   "cell_type": "code",
   "execution_count": 35,
   "metadata": {},
   "outputs": [],
   "source": [
    "se_proportion_smokers_diff=np.sqrt((se_smokers_gender_male**2)+(se_smokers_gender_female**2))"
   ]
  },
  {
   "cell_type": "code",
   "execution_count": 36,
   "metadata": {},
   "outputs": [
    {
     "name": "stdout",
     "output_type": "stream",
     "text": [
      "Lower Boundary Gender Difference:  0.17792766142206878\n",
      "Upper Boundary Gender Difference:  0.2593297771290309\n"
     ]
    }
   ],
   "source": [
    "print('Lower Boundary Gender Difference: ', proportion_smokers_gender_diff-1.96*se_proportion_smokers_diff)\n",
    "print('Upper Boundary Gender Difference: ', proportion_smokers_gender_diff+1.96*se_proportion_smokers_diff)"
   ]
  },
  {
   "cell_type": "code",
   "execution_count": 37,
   "metadata": {},
   "outputs": [
    {
     "data": {
      "text/plain": [
       "0.0814021157069621"
      ]
     },
     "execution_count": 37,
     "metadata": {},
     "output_type": "execute_result"
    }
   ],
   "source": [
    "0.2593297771290309-0.17792766142206878"
   ]
  },
  {
   "cell_type": "markdown",
   "metadata": {},
   "source": [
    "__Q2a.__ Why might it be relevant to report the separate gender proportions **and** the difference between the gender proportions?"
   ]
  },
  {
   "cell_type": "markdown",
   "metadata": {},
   "source": []
  },
  {
   "cell_type": "markdown",
   "metadata": {},
   "source": [
    "__Q2b.__ How does the **width** of the confidence interval for the difference between the gender proportions compare to the widths of the confidence intervals for the separate gender proportions?"
   ]
  },
  {
   "cell_type": "markdown",
   "metadata": {},
   "source": []
  },
  {
   "cell_type": "markdown",
   "metadata": {},
   "source": [
    "## Question 3\n",
    "\n",
    "Construct a 95% interval for height ([BMXHT](https://wwwn.cdc.gov/Nchs/Nhanes/2015-2016/BMX_I.htm#BMXHT)) in centimeters.  Then convert height from centimeters to inches by dividing by 2.54, and construct a 95% confidence interval for height in inches.  Finally, convert the endpoints (the lower and upper confidence limits) of the confidence interval from inches to back to centimeters   "
   ]
  },
  {
   "cell_type": "code",
   "execution_count": 38,
   "metadata": {},
   "outputs": [
    {
     "data": {
      "text/plain": [
       "166.1428344791116"
      ]
     },
     "execution_count": 38,
     "metadata": {},
     "output_type": "execute_result"
    }
   ],
   "source": [
    "# enter your code here\n",
    "height_values_cm=da['BMXHT']\n",
    "height_values_cm=height_values_cm[~height_values_cm.isna()]\n",
    "height_values_cm.reset_index(inplace=True, drop=True)\n",
    "np.mean(height_values_cm)"
   ]
  },
  {
   "cell_type": "code",
   "execution_count": 39,
   "metadata": {},
   "outputs": [
    {
     "data": {
      "text/plain": [
       "65.41056475555574"
      ]
     },
     "execution_count": 39,
     "metadata": {},
     "output_type": "execute_result"
    }
   ],
   "source": [
    "height_values_inches=height_values_cm/2.54\n",
    "height_values_inches=height_values_inches[~height_values_inches.isna()]\n",
    "height_values_inches.reset_index(inplace=True, drop=True)\n",
    "np.mean(height_values_inches)"
   ]
  },
  {
   "cell_type": "code",
   "execution_count": 40,
   "metadata": {},
   "outputs": [
    {
     "data": {
      "text/plain": [
       "5673"
      ]
     },
     "execution_count": 40,
     "metadata": {},
     "output_type": "execute_result"
    }
   ],
   "source": [
    "n_height_values_inches=len(height_values_inches)\n",
    "n_height_values_inches"
   ]
  },
  {
   "cell_type": "code",
   "execution_count": 41,
   "metadata": {},
   "outputs": [
    {
     "data": {
      "text/plain": [
       "3.9678642989700483"
      ]
     },
     "execution_count": 41,
     "metadata": {},
     "output_type": "execute_result"
    }
   ],
   "source": [
    "std_height_values_inches=np.std(height_values_inches)\n",
    "std_height_values_inches"
   ]
  },
  {
   "cell_type": "code",
   "execution_count": 42,
   "metadata": {},
   "outputs": [
    {
     "name": "stdout",
     "output_type": "stream",
     "text": [
      "Lower Boundary Inches:  65.30731084935782\n",
      "Upper Boundary Inches:  65.51381866175366\n"
     ]
    }
   ],
   "source": [
    "print('Lower Boundary Inches: ', np.mean(height_values_inches)-1.96*(std_height_values_inches/np.sqrt(n_height_values_inches)))\n",
    "print('Upper Boundary Inches: ', np.mean(height_values_inches)+1.96*(std_height_values_inches/np.sqrt(n_height_values_inches)))"
   ]
  },
  {
   "cell_type": "code",
   "execution_count": 43,
   "metadata": {},
   "outputs": [
    {
     "data": {
      "text/plain": [
       "(65.30728160535489, 65.51384790575659)"
      ]
     },
     "execution_count": 43,
     "metadata": {},
     "output_type": "execute_result"
    }
   ],
   "source": [
    "sm.stats.DescrStatsW(height_values_inches).tconfint_mean()"
   ]
  },
  {
   "cell_type": "code",
   "execution_count": 44,
   "metadata": {},
   "outputs": [
    {
     "name": "stdout",
     "output_type": "stream",
     "text": [
      "Lower Boundary cm:  165.88056955736886\n",
      "Upper Boundary cm:  166.4050994008543\n"
     ]
    }
   ],
   "source": [
    "print('Lower Boundary cm: ', (np.mean(height_values_inches)-1.96*(std_height_values_inches/np.sqrt(n_height_values_inches)))*2.54)\n",
    "print('Upper Boundary cm: ', (np.mean(height_values_inches)+1.96*(std_height_values_inches/np.sqrt(n_height_values_inches)))*2.54)"
   ]
  },
  {
   "cell_type": "markdown",
   "metadata": {},
   "source": [
    "__Q3a.__ Describe how the confidence interval constructed in centimeters relates to the confidence interval constructed in inches."
   ]
  },
  {
   "cell_type": "markdown",
   "metadata": {},
   "source": []
  },
  {
   "cell_type": "markdown",
   "metadata": {},
   "source": [
    "## Question 4\n",
    "\n",
    "Partition the sample based on 10-year age bands, i.e. the resulting groups will consist of people with ages from 18-28, 29-38, etc. Construct 95% confidence intervals for the difference between the mean BMI for females and for males within each age band."
   ]
  },
  {
   "cell_type": "code",
   "execution_count": 45,
   "metadata": {},
   "outputs": [
    {
     "name": "stdout",
     "output_type": "stream",
     "text": [
      "Std Males:  6.772851485163334\n",
      "Std Females:  7.953905067202027\n",
      "Variance Ratio:  0.7250739437466444\n",
      "_________________________________________________________\n",
      "Std Males:  6.719390520544581\n",
      "Std Females:  7.950938058946232\n",
      "Variance Ratio:  0.7142052271687328\n",
      "_________________________________________________________\n",
      "Std Males:  6.097237131077363\n",
      "Std Females:  8.036735756888811\n",
      "Variance Ratio:  0.5755814554627979\n",
      "_________________________________________________________\n",
      "Std Males:  6.144153177450539\n",
      "Std Females:  7.639107277699185\n",
      "Variance Ratio:  0.6469025317696486\n",
      "_________________________________________________________\n",
      "Std Males:  5.952529408367408\n",
      "Std Females:  7.771060178439661\n",
      "Variance Ratio:  0.5867357560253481\n",
      "_________________________________________________________\n",
      "Std Males:  5.327630164547575\n",
      "Std Females:  6.768248515453769\n",
      "Variance Ratio:  0.6196059006913647\n",
      "_________________________________________________________\n",
      "Std Males:  4.682137173170974\n",
      "Std Females:  5.469915424161031\n",
      "Variance Ratio:  0.7327014375317858\n",
      "_________________________________________________________\n"
     ]
    }
   ],
   "source": [
    "# enter your code here\n",
    "for val in [[18, 28], [29, 38], [39, 48], [49, 58], [59, 68], [69, 78], [79, 88]]:\n",
    "    da_year_band=da[(da['RIDAGEYR']>=val[0])&(da['RIDAGEYR']<=val[1])]\n",
    "    da_year_band.reset_index(inplace=True, drop=True)\n",
    "    \n",
    "    bmi_males=da_year_band[da_year_band['RIAGENDR']==1]['BMXBMI']\n",
    "    bmi_females=da_year_band[da_year_band['RIAGENDR']==2]['BMXBMI']\n",
    "    \n",
    "    bmi_males=bmi_males[~bmi_males.isna()]\n",
    "    bmi_males.reset_index(inplace=True, drop=True)\n",
    "    bmi_females=bmi_females[~bmi_females.isna()]\n",
    "    bmi_females.reset_index(inplace=True, drop=True)\n",
    "    \n",
    "    print(\"Std Males: \", np.std(bmi_males))\n",
    "    print(\"Std Females: \", np.std(bmi_females))\n",
    "    print(\"Variance Ratio: \", (np.std(bmi_males)**2)/(np.std(bmi_females)**2))\n",
    "    print(\"_________________________________________________________\")"
   ]
  },
  {
   "cell_type": "code",
   "execution_count": 46,
   "metadata": {},
   "outputs": [
    {
     "name": "stdout",
     "output_type": "stream",
     "text": [
      "[18, 28]\n",
      "pooled:  -1.741339639227411 , 0.034817164017523994\n",
      "pooled diff:  -1.706522475209887\n",
      "---------------------------------------------------------------------------------------\n",
      "[29, 38]\n",
      "pooled:  -1.1877114002496385 , 0.6951862411159043\n",
      "pooled diff:  -0.4925251591337342\n",
      "---------------------------------------------------------------------------------------\n",
      "[39, 48]\n",
      "pooled:  -2.4438533490140424 , -0.5343193405535154\n",
      "pooled diff:  -1.909534008460527\n",
      "---------------------------------------------------------------------------------------\n",
      "[49, 58]\n",
      "pooled:  -2.3314902075137223 , -0.4729688416549196\n",
      "pooled diff:  -1.8585213658588027\n",
      "---------------------------------------------------------------------------------------\n",
      "[59, 68]\n",
      "pooled:  -2.7191581021392035 , -0.9252456993910773\n",
      "pooled diff:  -1.7939124027481261\n",
      "---------------------------------------------------------------------------------------\n",
      "[69, 78]\n",
      "pooled:  -2.8169097637577014 , -0.8181860593381438\n",
      "pooled diff:  -1.9987237044195576\n",
      "---------------------------------------------------------------------------------------\n",
      "[79, 88]\n",
      "pooled:  -1.4339280761211892 , 0.6626637083050806\n",
      "pooled diff:  -0.7712643678161086\n",
      "---------------------------------------------------------------------------------------\n"
     ]
    }
   ],
   "source": [
    "for val in [[18, 28], [29, 38], [39, 48], [49, 58], [59, 68], [69, 78], [79, 88]]:\n",
    "    da_year_band=da[(da['RIDAGEYR']>=val[0])&(da['RIDAGEYR']<=val[1])]\n",
    "    da_year_band.reset_index(inplace=True, drop=True)\n",
    "    \n",
    "    bmi_males=da_year_band[da_year_band['RIAGENDR']==1]['BMXBMI']\n",
    "    bmi_females=da_year_band[da_year_band['RIAGENDR']==2]['BMXBMI']\n",
    "    \n",
    "    bmi_males=bmi_males[~bmi_males.isna()]\n",
    "    bmi_males.reset_index(inplace=True, drop=True)\n",
    "    bmi_females=bmi_females[~bmi_females.isna()]\n",
    "    bmi_females.reset_index(inplace=True, drop=True)\n",
    "    \n",
    "    bmi_males_temp=sm.stats.DescrStatsW(bmi_males)\n",
    "    bmi_females_temp=sm.stats.DescrStatsW(bmi_females)\n",
    "    \n",
    "    cm = sm.stats.CompareMeans(bmi_males_temp, bmi_females_temp)\n",
    "    lower, upper=cm.tconfint_diff(usevar='pooled')\n",
    "    print(val)\n",
    "    print(\"pooled: \", lower, \",\", upper)\n",
    "    print(\"pooled diff: \", abs(upper)-abs(lower))\n",
    "    print('---------------------------------------------------------------------------------------')"
   ]
  },
  {
   "cell_type": "markdown",
   "metadata": {},
   "source": [
    "__Q4a.__ How do the widths of these confidence intervals differ?  Provide an explanation for any substantial diferences in the confidence interval widths that you see."
   ]
  },
  {
   "cell_type": "markdown",
   "metadata": {},
   "source": [
    "## Question 5\n",
    "\n",
    "Construct a 95% confidence interval for the first and second systolic blood pressure measures, and for the difference between the first and second systolic blood pressure measurements within a subject."
   ]
  },
  {
   "cell_type": "code",
   "execution_count": 47,
   "metadata": {},
   "outputs": [],
   "source": [
    "# enter code here\n",
    "first_sbp=da['BPXSY1']\n",
    "second_sbp=da['BPXSY2']\n",
    "sbp_diff=first_sbp-second_sbp\n",
    "\n",
    "first_sbp=first_sbp[~first_sbp.isna()]\n",
    "first_sbp.reset_index(inplace=True, drop=True)\n",
    "second_sbp=second_sbp[~second_sbp.isna()]\n",
    "second_sbp.reset_index(inplace=True, drop=True)\n",
    "sbp_diff=sbp_diff[~sbp_diff.isna()]\n",
    "sbp_diff.reset_index(inplace=True, drop=True)"
   ]
  },
  {
   "cell_type": "code",
   "execution_count": 48,
   "metadata": {},
   "outputs": [
    {
     "name": "stdout",
     "output_type": "stream",
     "text": [
      "124.59163222328895 , 125.57759569746646\n",
      "0.9859634741775096\n"
     ]
    }
   ],
   "source": [
    "lower, upper=sm.stats.DescrStatsW(first_sbp).tconfint_mean()\n",
    "print(lower, \",\", upper)\n",
    "print(abs(upper)-abs(lower))"
   ]
  },
  {
   "cell_type": "code",
   "execution_count": 49,
   "metadata": {},
   "outputs": [
    {
     "name": "stdout",
     "output_type": "stream",
     "text": [
      "124.29482629577244 , 125.27120803123749\n",
      "0.9763817354650541\n"
     ]
    }
   ],
   "source": [
    "lower, upper=sm.stats.DescrStatsW(second_sbp).tconfint_mean()\n",
    "print(lower, \",\", upper)\n",
    "print(abs(upper)-abs(lower))"
   ]
  },
  {
   "cell_type": "code",
   "execution_count": 50,
   "metadata": {},
   "outputs": [
    {
     "name": "stdout",
     "output_type": "stream",
     "text": [
      "0.5399696008802797 , 0.8100024609561889\n",
      "0.2700328600759092\n"
     ]
    }
   ],
   "source": [
    "lower, upper=sm.stats.DescrStatsW(sbp_diff).tconfint_mean()\n",
    "print(lower, \",\", upper)\n",
    "print(abs(upper)-abs(lower))"
   ]
  },
  {
   "cell_type": "markdown",
   "metadata": {},
   "source": [
    "__Q5a.__ Based on these confidence intervals, would you say that a difference of zero between the population mean values of the first and second systolic blood pressure measures is consistent with the data?"
   ]
  },
  {
   "cell_type": "markdown",
   "metadata": {},
   "source": []
  },
  {
   "cell_type": "markdown",
   "metadata": {},
   "source": [
    "__Q5b.__ Discuss how the width of the confidence interval for the within-subject difference compares to the widths of the confidence intervals for the first and second measures."
   ]
  },
  {
   "cell_type": "markdown",
   "metadata": {},
   "source": []
  },
  {
   "cell_type": "markdown",
   "metadata": {},
   "source": [
    "## Question 6\n",
    "\n",
    "Construct a 95% confidence interval for the mean difference between the average age of a smoker, and the average age of a non-smoker."
   ]
  },
  {
   "cell_type": "code",
   "execution_count": 51,
   "metadata": {},
   "outputs": [
    {
     "name": "stdout",
     "output_type": "stream",
     "text": [
      "pooled:  5.833562476381499 , 7.746041103858306\n"
     ]
    }
   ],
   "source": [
    "# insert your code here\n",
    "smokers_age=da[da['SMQ020']==1]['RIDAGEYR']\n",
    "smokers_age=smokers_age[~smokers_age.isna()]\n",
    "smokers_age.reset_index(inplace=True, drop=True)\n",
    "non_smokers_age=da[da['SMQ020']!=1]['RIDAGEYR']\n",
    "non_smokers_age=non_smokers_age[~non_smokers_age.isna()]\n",
    "non_smokers_age.reset_index(inplace=True, drop=True)\n",
    "\n",
    "smokers_age_temp=sm.stats.DescrStatsW(smokers_age)\n",
    "non_smokers_age_temp=sm.stats.DescrStatsW(non_smokers_age)\n",
    "\n",
    "cm = sm.stats.CompareMeans(smokers_age_temp, non_smokers_age_temp)\n",
    "lower, upper=cm.tconfint_diff(usevar='pooled')\n",
    "print(\"pooled: \", lower, \",\", upper)"
   ]
  },
  {
   "cell_type": "markdown",
   "metadata": {},
   "source": [
    "__Q6a.__ Use graphical and numerical techniques to compare the variation in the ages of smokers to the variation in the ages of non-smokers.  "
   ]
  },
  {
   "cell_type": "code",
   "execution_count": 52,
   "metadata": {},
   "outputs": [
    {
     "data": {
      "text/plain": [
       "count    2319.000000\n",
       "mean       52.096593\n",
       "std        17.461141\n",
       "min        18.000000\n",
       "25%        37.000000\n",
       "50%        54.000000\n",
       "75%        66.000000\n",
       "max        80.000000\n",
       "Name: RIDAGEYR, dtype: float64"
      ]
     },
     "execution_count": 52,
     "metadata": {},
     "output_type": "execute_result"
    }
   ],
   "source": [
    "# insert your code here\n",
    "smokers_age.describe()"
   ]
  },
  {
   "cell_type": "code",
   "execution_count": 53,
   "metadata": {},
   "outputs": [
    {
     "data": {
      "text/plain": [
       "count    3416.000000\n",
       "mean       45.306792\n",
       "std        18.568337\n",
       "min        18.000000\n",
       "25%        29.000000\n",
       "50%        44.000000\n",
       "75%        60.000000\n",
       "max        80.000000\n",
       "Name: RIDAGEYR, dtype: float64"
      ]
     },
     "execution_count": 53,
     "metadata": {},
     "output_type": "execute_result"
    }
   ],
   "source": [
    "non_smokers_age.describe()"
   ]
  },
  {
   "cell_type": "code",
   "execution_count": 54,
   "metadata": {},
   "outputs": [
    {
     "data": {
      "text/plain": [
       "<matplotlib.axes._subplots.AxesSubplot at 0x7fe9c70009b0>"
      ]
     },
     "execution_count": 54,
     "metadata": {},
     "output_type": "execute_result"
    },
    {
     "data": {
      "image/png": "[encoded data removed]",
      "text/plain": [
       "<Figure size 432x288 with 1 Axes>"
      ]
     },
     "metadata": {},
     "output_type": "display_data"
    }
   ],
   "source": [
    "sns.boxplot(smokers_age)"
   ]
  },
  {
   "cell_type": "code",
   "execution_count": 55,
   "metadata": {},
   "outputs": [
    {
     "data": {
      "text/plain": [
       "<matplotlib.axes._subplots.AxesSubplot at 0x7fe9c0f29828>"
      ]
     },
     "execution_count": 55,
     "metadata": {},
     "output_type": "execute_result"
    },
    {
     "data": {
      "image/png": "[encoded data removed]",
      "text/plain": [
       "<Figure size 432x288 with 1 Axes>"
      ]
     },
     "metadata": {},
     "output_type": "display_data"
    }
   ],
   "source": [
    "sns.boxplot(non_smokers_age)"
   ]
  },
  {
   "cell_type": "markdown",
   "metadata": {},
   "source": [
    "__Q6b.__ Does it appear that uncertainty about the mean age of smokers, or uncertainty about the mean age of non-smokers contributed more to the uncertainty for the mean difference that we are focusing on here?"
   ]
  },
  {
   "cell_type": "markdown",
   "metadata": {},
   "source": []
  }
 ],
 "metadata": {
  "kernelspec": {
   "display_name": "Python 3",
   "language": "python",
   "name": "python3"
  },
  "language_info": {
   "codemirror_mode": {
    "name": "ipython",
    "version": 3
   },
   "file_extension": ".py",
   "mimetype": "text/x-python",
   "name": "python",
   "nbconvert_exporter": "python",
   "pygments_lexer": "ipython3",
   "version": "3.6.3"
  }
 },
 "nbformat": 4,
 "nbformat_minor": 2
}
